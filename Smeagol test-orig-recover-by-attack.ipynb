{
 "cells": [
  {
   "cell_type": "markdown",
   "metadata": {},
   "source": [
    "Global setup\n",
    "\n"
   ]
  },
  {
   "cell_type": "code",
   "execution_count": 1,
   "metadata": {
    "jupyter": {
     "outputs_hidden": false
    }
   },
   "outputs": [],
   "source": [
    "n=1\n",
    "k=4\n",
    "q=23 #AA\n",
    "eta=2"
   ]
  },
  {
   "cell_type": "markdown",
   "metadata": {},
   "source": [
    "Bob generates a key\n"
   ]
  },
  {
   "cell_type": "code",
   "execution_count": 3,
   "metadata": {
    "jupyter": {
     "outputs_hidden": false
    }
   },
   "outputs": [
    {
     "data": {
      "text/plain": [
       "[ 3  0  2 -3]\n",
       "[ 0  3 -2 -1]\n",
       "[-1  0  1 -1]\n",
       "[ 1  1 -2  2]"
      ]
     },
     "execution_count": 3,
     "metadata": {},
     "output_type": "execute_result"
    }
   ],
   "source": [
    "#S = random_matrix(ZZ, 4, 4, distribution='gaussian', x=2)\n",
    "S = matrix(ZZ, [[ 3,  0,  2, -3],\n",
    "                [ 0,  3, -2, -1],\n",
    "                [-1,  0,  1, -1],\n",
    "                [ 1,  1, -2,  2]])\n",
    "S"
   ]
  },
  {
   "cell_type": "markdown",
   "metadata": {},
   "source": [
    "$S$ is the private key\n"
   ]
  },
  {
   "cell_type": "code",
   "execution_count": 5,
   "metadata": {
    "jupyter": {
     "outputs_hidden": false
    }
   },
   "outputs": [
    {
     "data": {
      "text/plain": [
       "[ 8 14 15  9]\n",
       "[ 7 16 21 12]\n",
       "[21  0 16  1]\n",
       "[ 2  9  5 11]"
      ]
     },
     "execution_count": 5,
     "metadata": {},
     "output_type": "execute_result"
    }
   ],
   "source": [
    "#T = matrix(((A*S + E) % q))\n",
    "T = matrix(ZZ, [[ 8 , 14 , 15 , 9],\n",
    "[7 , 16 , 21 , 12],\n",
    "[21 , 0 , 16 , 1],\n",
    "[2 , 9 , 5 , 11]])\n",
    "T"
   ]
  },
  {
   "cell_type": "markdown",
   "metadata": {},
   "source": [
    "$(A,T)$ is the public key\n"
   ]
  },
  {
   "cell_type": "code",
   "execution_count": 6,
   "metadata": {},
   "outputs": [
    {
     "data": {
      "text/plain": [
       "[1 0 0 0]\n",
       "[0 1 0 0]\n",
       "[0 0 1 0]\n",
       "[0 0 0 1]"
      ]
     },
     "execution_count": 6,
     "metadata": {},
     "output_type": "execute_result"
    }
   ],
   "source": [
    "I4 = identity_matrix(4)\n",
    "I4"
   ]
  },
  {
   "cell_type": "code",
   "execution_count": 20,
   "metadata": {},
   "outputs": [
    {
     "data": {
      "text/plain": [
       "[ 8  7 21  2]"
      ]
     },
     "execution_count": 20,
     "metadata": {},
     "output_type": "execute_result"
    }
   ],
   "source": [
    "t = matrix(T.transpose()[0])\n",
    "t"
   ]
  },
  {
   "cell_type": "code",
   "execution_count": 21,
   "metadata": {},
   "outputs": [
    {
     "data": {
      "text/plain": [
       "[  3   0  -1   1]\n",
       "[  0   3   0   1]\n",
       "[  2  -2   1  -2]\n",
       "[ -3  -1  -1   2]\n",
       "[---------------]\n",
       "[  1   0   0   0]\n",
       "[  0   1   0   0]\n",
       "[  0   0   1   0]\n",
       "[  0   0   0   1]\n",
       "[---------------]\n",
       "[ -8  -7 -21  -2]\n",
       "[---------------]\n",
       "[ 23   0   0   0]\n",
       "[  0  23   0   0]\n",
       "[  0   0  23   0]\n",
       "[  0   0   0  23]"
      ]
     },
     "execution_count": 21,
     "metadata": {},
     "output_type": "execute_result"
    }
   ],
   "source": [
    "M = block_matrix([[S.transpose()], [I4], [-t], [q*I4]])\n",
    "M"
   ]
  },
  {
   "cell_type": "code",
   "execution_count": 22,
   "metadata": {},
   "outputs": [
    {
     "data": {
      "text/plain": [
       "[  3   0  -1   1|  1   0   0   0   0   0   0   0   0   0   0   0   0]\n",
       "[  0   3   0   1|  0   1   0   0   0   0   0   0   0   0   0   0   0]\n",
       "[  2  -2   1  -2|  0   0   1   0   0   0   0   0   0   0   0   0   0]\n",
       "[ -3  -1  -1   2|  0   0   0   1   0   0   0   0   0   0   0   0   0]\n",
       "[  1   0   0   0|  0   0   0   0   1   0   0   0   0   0   0   0   0]\n",
       "[  0   1   0   0|  0   0   0   0   0   1   0   0   0   0   0   0   0]\n",
       "[  0   0   1   0|  0   0   0   0   0   0   1   0   0   0   0   0   0]\n",
       "[  0   0   0   1|  0   0   0   0   0   0   0   1   0   0   0   0   0]\n",
       "[ -8  -7 -21  -2|  0   0   0   0   0   0   0   0   1   0   0   0   0]\n",
       "[ 23   0   0   0|  0   0   0   0   0   0   0   0   0   1   0   0   0]\n",
       "[  0  23   0   0|  0   0   0   0   0   0   0   0   0   0   1   0   0]\n",
       "[  0   0  23   0|  0   0   0   0   0   0   0   0   0   0   0   1   0]\n",
       "[  0   0   0  23|  0   0   0   0   0   0   0   0   0   0   0   0   1]"
      ]
     },
     "execution_count": 22,
     "metadata": {},
     "output_type": "execute_result"
    }
   ],
   "source": [
    "M1 = block_matrix([[M, identity_matrix(13)]])\n",
    "M1"
   ]
  },
  {
   "cell_type": "code",
   "execution_count": 23,
   "metadata": {},
   "outputs": [
    {
     "data": {
      "text/plain": [
       "[ 1  0  0  0  0  0  0  0  0  2  6 17 20  7  6 18  1]\n",
       "[ 0  1  0  0  0  0  0  0  0  1  0  0  0  0  0  0  0]\n",
       "[ 0  0  1  0  0  0  0  0  0  0  1  0  0  0  0  0  0]\n",
       "[ 0  0  0  1  0  0  0  0  0  0  0  1  0  0  0  0  0]\n",
       "[ 0  0  0  0  1  0  0  0  0 17  6 17  9  3  2  8  0]\n",
       "[ 0  0  0  0  0  1  0  0  0 20  0 22  0  0 -1  0 -1]\n",
       "[ 0  0  0  0  0  0  1  0  0 21 10 14  6  2  1  5  0]\n",
       "[ 0  0  0  0  0  0  0  1  0  7 19  3 14  5  4 12  1]\n",
       "[ 0  0  0  0  0  0  0  0  1 21 17  6  3  1  0  2  0]\n",
       "[ 0  0  0  0  0  0  0  0  0 23  0  0  0  0 -1  0  0]\n",
       "[ 0  0  0  0  0  0  0  0  0  0 23  0  0  0  0 -1  0]\n",
       "[ 0  0  0  0  0  0  0  0  0  0  0 23  0  0  0  0 -1]\n",
       "[ 0  0  0  0  0  0  0  0  0  0  0  0 23  8  7 21  2]"
      ]
     },
     "execution_count": 23,
     "metadata": {},
     "output_type": "execute_result"
    }
   ],
   "source": [
    "H1 = M1.hermite_form()\n",
    "H1 # The right side should be a transformation matrix (after some extra unnecessary but not harmful reduction)"
   ]
  },
  {
   "cell_type": "code",
   "execution_count": 24,
   "metadata": {},
   "outputs": [
    {
     "data": {
      "text/plain": [
       "[ 1  0  0  0  0 17  6 17  9  3  2  8  0]\n",
       "[ 0  1  0  0  0 20  0 22  0  0 -1  0 -1]\n",
       "[ 0  0  1  0  0 21 10 14  6  2  1  5  0]\n",
       "[ 0  0  0  1  0  7 19  3 14  5  4 12  1]\n",
       "[ 0  0  0  0  1 21 17  6  3  1  0  2  0]\n",
       "[ 0  0  0  0  0 23  0  0  0  0 -1  0  0]\n",
       "[ 0  0  0  0  0  0 23  0  0  0  0 -1  0]\n",
       "[ 0  0  0  0  0  0  0 23  0  0  0  0 -1]\n",
       "[ 0  0  0  0  0  0  0  0 23  8  7 21  2]"
      ]
     },
     "execution_count": 24,
     "metadata": {},
     "output_type": "execute_result"
    }
   ],
   "source": [
    "N1 = H1.submatrix(4, 4)\n",
    "N1 # A basis for the kernel"
   ]
  },
  {
   "cell_type": "code",
   "execution_count": 25,
   "metadata": {},
   "outputs": [
    {
     "data": {
      "text/plain": [
       "[ 0 -1 -1 -1 -1  0  0  1  0  0  0  0  0]\n",
       "[ 0 -1 -1  0  2  1  1 -1  0  0  0  0  0]\n",
       "[ 0 -1  0  0  0  3  0  1  0  0  0  0  0]\n",
       "[ 1  0  0  0 -3  0  1 -1  0  0  0  0  0]\n",
       "[-2 -1  1  1 -1 -1  0  1 -1  0  0 -1  0]\n",
       "[ 0  3  1 -2 -1  0  1 -1 -2 -1 -1 -2  0]\n",
       "[-3  0 -3  0  0  1 -2 -1  1  1  0  1  0]\n",
       "[ 3 -2 -3  4  0 -1 -5  0 -4 -1 -1 -3 -1]\n",
       "[-2  6 -4  3  0  0  5  5  0  1 -1  0 -1]"
      ]
     },
     "execution_count": 25,
     "metadata": {},
     "output_type": "execute_result"
    }
   ],
   "source": [
    "N1.LLL()"
   ]
  },
  {
   "cell_type": "code",
   "execution_count": 31,
   "metadata": {},
   "outputs": [
    {
     "data": {
      "text/plain": [
       "[-3]\n",
       "[ 0]\n",
       "[-3]\n",
       "[ 0]"
      ]
     },
     "execution_count": 31,
     "metadata": {},
     "output_type": "execute_result"
    }
   ],
   "source": [
    "s0 = column_matrix([-3, 0, -3, 0]); s0"
   ]
  },
  {
   "cell_type": "code",
   "execution_count": 32,
   "metadata": {},
   "outputs": [
    {
     "data": {
      "text/plain": [
       "[ 0]\n",
       "[ 1]\n",
       "[-2]\n",
       "[-1]"
      ]
     },
     "execution_count": 32,
     "metadata": {},
     "output_type": "execute_result"
    }
   ],
   "source": [
    "e0 = column_matrix([0, 1, -2, -1]); e0"
   ]
  },
  {
   "cell_type": "code",
   "execution_count": 50,
   "metadata": {},
   "outputs": [
    {
     "data": {
      "text/plain": [
       "[ 0 -1 -1 -1 -1  0  0  1  0  0  0  0  0]\n",
       "[ 0 -1 -1  0  2  1  1 -1  0  0  0  0  0]\n",
       "[ 0 -1  0  0  0  3  0  1  0  0  0  0  0]\n",
       "[ 1  0  0  0 -3  0  1 -1  0  0  0  0  0]\n",
       "[ 0 -1  0 -1  1  0 -1 -1 -3 -2 -2  0 -1]\n",
       "[-1  3 -2 -1 -1  0  0  1 -2 -1 -2  0 -1]\n",
       "[ 0  2  0 -2 -1  1 -2 -3  2  1  1  0  1]\n",
       "[ 4  0  1 -2  3  0  1  2  0 -1  0  0  0]\n",
       "[-7  2  5 -4 -1  0  7  0  0  0  0 -1  1]"
      ]
     },
     "execution_count": 50,
     "metadata": {},
     "output_type": "execute_result"
    }
   ],
   "source": [
    "t1 = matrix(T.transpose()[1])\n",
    "M = block_matrix([[S.transpose()], [I4], [-t1], [q*I4]])\n",
    "M1 = block_matrix([[M, identity_matrix(13)]])\n",
    "H1 = M1.hermite_form()\n",
    "N1 = H1.submatrix(4, 4)\n",
    "L = N1.LLL()\n",
    "L"
   ]
  },
  {
   "cell_type": "code",
   "execution_count": 52,
   "metadata": {},
   "outputs": [
    {
     "data": {
      "text/plain": [
       "(-1, 4, -2, 0, -2, 0, 1, 2, 1, 1, 0, 0, 0)"
      ]
     },
     "execution_count": 52,
     "metadata": {},
     "output_type": "execute_result"
    }
   ],
   "source": [
    "L[5]-L[4]"
   ]
  },
  {
   "cell_type": "code",
   "execution_count": 54,
   "metadata": {},
   "outputs": [
    {
     "data": {
      "text/plain": [
       "[-1]\n",
       "[ 4]\n",
       "[-2]\n",
       "[ 0]"
      ]
     },
     "execution_count": 54,
     "metadata": {},
     "output_type": "execute_result"
    }
   ],
   "source": [
    "s1 = column_matrix([-1, 4, -2, 0]); s1"
   ]
  },
  {
   "cell_type": "code",
   "execution_count": 55,
   "metadata": {},
   "outputs": [
    {
     "data": {
      "text/plain": [
       "[-2]\n",
       "[ 0]\n",
       "[ 1]\n",
       "[ 2]"
      ]
     },
     "execution_count": 55,
     "metadata": {},
     "output_type": "execute_result"
    }
   ],
   "source": [
    "e1 = column_matrix([-2, 0, 1, 2]); e1"
   ]
  },
  {
   "cell_type": "code",
   "execution_count": 35,
   "metadata": {},
   "outputs": [
    {
     "data": {
      "text/plain": [
       "[ 0 -1 -1 -1 -1  0  0  1  0  0  0  0  0]\n",
       "[ 0 -1 -1  0  2  1  1 -1  0  0  0  0  0]\n",
       "[ 0 -1  0  0  0  3  0  1  0  0  0  0  0]\n",
       "[ 1  0  0  0 -3  0  1 -1  0  0  0  0  0]\n",
       "[ 0 -1 -1  2  0  1 -4  0  1  1  1  1  0]\n",
       "[ 5 -1  0  0  0  1 -2  1  1  0  1  1  0]\n",
       "[-2 -1  2 -3  0  0  2  0  2  1  2  1  1]\n",
       "[ 1 -4  3  3  0 -2  1  3  0  0  1  0  0]\n",
       "[ 2  4 -3  3  0  0  3  2  4  3  3  3  0]"
      ]
     },
     "execution_count": 35,
     "metadata": {},
     "output_type": "execute_result"
    }
   ],
   "source": [
    "t2 = matrix(T.transpose()[2])\n",
    "M = block_matrix([[S.transpose()], [I4], [-t2], [q*I4]])\n",
    "M1 = block_matrix([[M, identity_matrix(13)]])\n",
    "H1 = M1.hermite_form()\n",
    "N1 = H1.submatrix(4, 4)\n",
    "N1.LLL()"
   ]
  },
  {
   "cell_type": "code",
   "execution_count": 37,
   "metadata": {},
   "outputs": [
    {
     "data": {
      "text/plain": [
       "[ 5]\n",
       "[-1]\n",
       "[ 0]\n",
       "[ 0]"
      ]
     },
     "execution_count": 37,
     "metadata": {},
     "output_type": "execute_result"
    }
   ],
   "source": [
    "s2 = column_matrix([5, -1, 0, 0]); s2"
   ]
  },
  {
   "cell_type": "code",
   "execution_count": 38,
   "metadata": {},
   "outputs": [
    {
     "data": {
      "text/plain": [
       "[ 0]\n",
       "[ 1]\n",
       "[-2]\n",
       "[ 1]"
      ]
     },
     "execution_count": 38,
     "metadata": {},
     "output_type": "execute_result"
    }
   ],
   "source": [
    "e2 = column_matrix([0,  1, -2,  1]); e2"
   ]
  },
  {
   "cell_type": "code",
   "execution_count": 56,
   "metadata": {},
   "outputs": [
    {
     "data": {
      "text/plain": [
       "[ 0  1  1  1  1  0  0 -1  0  0  0  0  0]\n",
       "[ 0 -1 -1  0  2  1  1 -1  0  0  0  0  0]\n",
       "[ 0 -1  0  0  0  3  0  1  0  0  0  0  0]\n",
       "[-1  0  0  0  3  0 -1  1  0  0  0  0  0]\n",
       "[-1  0  0  0 -2  1  1  0  2  1  1  0  1]\n",
       "[-3  0 -1  2 -1 -1 -2 -2 -2  0 -1  0 -1]\n",
       "[ 0  2 -3  1  0  0  3  2 -1  0 -1  0 -1]\n",
       "[-1  4 -3 -3  0  2 -1 -3  0  0 -1  0  0]\n",
       "[-4  1  5 -4  0  1  6  0 -4 -2 -2 -1 -1]"
      ]
     },
     "execution_count": 56,
     "metadata": {},
     "output_type": "execute_result"
    }
   ],
   "source": [
    "t3 = matrix(T.transpose()[3])\n",
    "M = block_matrix([[S.transpose()], [I4], [-t3], [q*I4]])\n",
    "M1 = block_matrix([[M, identity_matrix(13)]])\n",
    "H1 = M1.hermite_form()\n",
    "N1 = H1.submatrix(4, 4)\n",
    "L = N1.LLL()\n",
    "L"
   ]
  },
  {
   "cell_type": "code",
   "execution_count": 75,
   "metadata": {},
   "outputs": [
    {
     "data": {
      "text/plain": [
       "(4, -3, 3, -4, 2, 0, -2, 1, 1, -1, 1, 0, 1)"
      ]
     },
     "execution_count": 75,
     "metadata": {},
     "output_type": "execute_result"
    }
   ],
   "source": [
    "-L[6]-L[5]-L[4]-L[0]"
   ]
  },
  {
   "cell_type": "code",
   "execution_count": 76,
   "metadata": {},
   "outputs": [
    {
     "data": {
      "text/plain": [
       "[ 4]\n",
       "[-3]\n",
       "[ 3]\n",
       "[-4]"
      ]
     },
     "execution_count": 76,
     "metadata": {},
     "output_type": "execute_result"
    }
   ],
   "source": [
    "s3 = column_matrix([4, -3, 3, -4]); s3"
   ]
  },
  {
   "cell_type": "code",
   "execution_count": 77,
   "metadata": {},
   "outputs": [
    {
     "data": {
      "text/plain": [
       "[ 2]\n",
       "[ 0]\n",
       "[-2]\n",
       "[ 1]"
      ]
     },
     "execution_count": 77,
     "metadata": {},
     "output_type": "execute_result"
    }
   ],
   "source": [
    "e3 = column_matrix([2, 0, -2, 1]); e3"
   ]
  },
  {
   "cell_type": "code",
   "execution_count": 81,
   "metadata": {},
   "outputs": [
    {
     "data": {
      "text/plain": [
       "[-3|-1| 5| 4]\n",
       "[ 0| 4|-1|-3]\n",
       "[-3|-2| 0| 3]\n",
       "[ 0| 0| 0|-4]"
      ]
     },
     "execution_count": 81,
     "metadata": {},
     "output_type": "execute_result"
    }
   ],
   "source": [
    "A = block_matrix(1, 4, [s0, s1, s2, s3])\n",
    "A"
   ]
  },
  {
   "cell_type": "code",
   "execution_count": 83,
   "metadata": {},
   "outputs": [
    {
     "data": {
      "text/plain": [
       "[ 0|-2| 0| 2]\n",
       "[ 1| 0| 1| 0]\n",
       "[-2| 1|-2|-2]\n",
       "[-1| 2| 1| 1]"
      ]
     },
     "execution_count": 83,
     "metadata": {},
     "output_type": "execute_result"
    }
   ],
   "source": [
    "E = block_matrix(1, 4, [e0, e1, e2, e3])\n",
    "E"
   ]
  },
  {
   "cell_type": "code",
   "execution_count": 88,
   "metadata": {},
   "outputs": [
    {
     "data": {
      "text/plain": [
       "[ 8 14 15  9]\n",
       "[ 7 16 21 12]\n",
       "[21  0 16  1]\n",
       "[ 2  9  5 11]"
      ]
     },
     "execution_count": 88,
     "metadata": {},
     "output_type": "execute_result"
    }
   ],
   "source": [
    "(S*A + E) %q"
   ]
  },
  {
   "cell_type": "code",
   "execution_count": 89,
   "metadata": {},
   "outputs": [
    {
     "data": {
      "text/plain": [
       "[ 8 14 15  9]\n",
       "[ 7 16 21 12]\n",
       "[21  0 16  1]\n",
       "[ 2  9  5 11]"
      ]
     },
     "execution_count": 89,
     "metadata": {},
     "output_type": "execute_result"
    }
   ],
   "source": [
    "T"
   ]
  },
  {
   "cell_type": "code",
   "execution_count": 94,
   "metadata": {},
   "outputs": [
    {
     "data": {
      "text/plain": [
       "[ 5 14  4 20]\n",
       "[ 8  2  5 10]\n",
       "[15 11 11 12]\n",
       "[ 4 17 11  2]"
      ]
     },
     "execution_count": 94,
     "metadata": {},
     "output_type": "execute_result"
    }
   ],
   "source": [
    "A2 = ((T-E)*S.inverse() ) %q\n",
    "A2"
   ]
  },
  {
   "cell_type": "code",
   "execution_count": 96,
   "metadata": {},
   "outputs": [
    {
     "data": {
      "text/plain": [
       "True"
      ]
     },
     "execution_count": 96,
     "metadata": {},
     "output_type": "execute_result"
    }
   ],
   "source": [
    "(A2*S + E)%q == T"
   ]
  },
  {
   "cell_type": "code",
   "execution_count": null,
   "metadata": {},
   "outputs": [],
   "source": []
  }
 ],
 "metadata": {
  "kernelspec": {
   "display_name": "SageMath 9.3",
   "language": "sage",
   "name": "sagemath"
  },
  "language_info": {
   "codemirror_mode": {
    "name": "ipython",
    "version": 3
   },
   "file_extension": ".py",
   "mimetype": "text/x-python",
   "name": "python",
   "nbconvert_exporter": "python",
   "pygments_lexer": "ipython3",
   "version": "3.7.10"
  }
 },
 "nbformat": 4,
 "nbformat_minor": 4
}
