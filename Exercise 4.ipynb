{
 "cells": [
  {
   "cell_type": "markdown",
   "metadata": {},
   "source": [
    "Global setup\n"
   ]
  },
  {
   "cell_type": "code",
   "execution_count": 1,
   "metadata": {},
   "outputs": [],
   "source": [
    "n=4\n",
    "k=2\n",
    "q=23 #AA\n",
    "eta=1\n",
    "R.<x> = ZZ[]"
   ]
  },
  {
   "cell_type": "markdown",
   "metadata": {},
   "source": [
    "Bob's setup"
   ]
  },
  {
   "cell_type": "code",
   "execution_count": 2,
   "metadata": {},
   "outputs": [
    {
     "data": {
      "text/plain": [
       "[ 20*x^3 + 18*x^2 + 2*x + 5 17*x^3 + 2*x^2 + 11*x + 14]\n",
       "[         8*x^2 + 19*x + 20       7*x^3 + 9*x^2 + 10*x]"
      ]
     },
     "execution_count": 2,
     "metadata": {},
     "output_type": "execute_result"
    }
   ],
   "source": [
    "Ax = matrix([[randrange(0,q)*x^3+randrange(0,q)*x^2+randrange(0,q)*x+randrange(0,q), randrange(0,q)*x^3+randrange(0,q)*x^2+randrange(0,q)*x+randrange(0,q)], \n",
    "[randrange(0,q)*x^3+randrange(0,q)*x^2+randrange(0,q)*x+randrange(0,q), randrange(0,q)*x^3+randrange(0,q)*x^2+randrange(0,q)*x+randrange(0,q)]])\n",
    "#Ax = matrix([[      4*x^3 + 4*x^2 + 10*x, 11*x^3 + 15*x^2 + 10*x + 3],\n",
    "#[12*x^3 + 22*x^2 + 4*x + 12,             6*x^3 + x + 11]])\n",
    "Ax  #public"
   ]
  },
  {
   "cell_type": "code",
   "execution_count": 43,
   "metadata": {},
   "outputs": [
    {
     "data": {
      "text/plain": [
       "\\left(\\begin{array}{rr}\n",
       "20x^{3} + 18x^{2} + 2x + 5 & 17x^{3} + 2x^{2} + 11x + 14 \\\\\n",
       "8x^{2} + 19x + 20 & 7x^{3} + 9x^{2} + 10x\n",
       "\\end{array}\\right)"
      ]
     },
     "execution_count": 43,
     "metadata": {},
     "output_type": "execute_result"
    }
   ],
   "source": [
    "latex(Ax)"
   ]
  },
  {
   "cell_type": "code",
   "execution_count": 3,
   "metadata": {},
   "outputs": [],
   "source": [
    "def binomial_centered():\n",
    "    a1=randrange(0,2)\n",
    "    a2=randrange(0,2)\n",
    "    b1=randrange(0,2)\n",
    "    b2=randrange(0,2)\n",
    "#    return a1+a2-b1-b2\n",
    "    return a1-b1\n",
    "    return 0"
   ]
  },
  {
   "cell_type": "code",
   "execution_count": 4,
   "metadata": {},
   "outputs": [
    {
     "data": {
      "text/plain": [
       "[   -x^2]\n",
       "[x^3 - x]"
      ]
     },
     "execution_count": 4,
     "metadata": {},
     "output_type": "execute_result"
    }
   ],
   "source": [
    "sx = matrix([[binomial_centered()*x^3+binomial_centered()*x^2+binomial_centered()*x+binomial_centered()], \n",
    "            [binomial_centered()*x^3+binomial_centered()*x^2+binomial_centered()*x+binomial_centered()]])\n",
    "#sx = matrix([[-x^3+x^2+1], [-x^2]])\n",
    "sx  #private"
   ]
  },
  {
   "cell_type": "code",
   "execution_count": 5,
   "metadata": {},
   "outputs": [
    {
     "data": {
      "text/plain": [
       "[-x^3 + 1]\n",
       "[     x^2]"
      ]
     },
     "execution_count": 5,
     "metadata": {},
     "output_type": "execute_result"
    }
   ],
   "source": [
    "ex = matrix([[binomial_centered()*x^3+binomial_centered()*x^2+binomial_centered()*x+binomial_centered()], \n",
    "            [binomial_centered()*x^3+binomial_centered()*x^2+binomial_centered()*x+binomial_centered()]])\n",
    "#ex = matrix([[x^2-x-1], [-x+1]])\n",
    "ex #private"
   ]
  },
  {
   "cell_type": "code",
   "execution_count": 7,
   "metadata": {},
   "outputs": [
    {
     "data": {
      "text/plain": [
       "[ 9*x^3 + 13*x^2 + 4*x + 2]\n",
       "[18*x^3 + 10*x^2 - 9*x + 5]"
      ]
     },
     "execution_count": 7,
     "metadata": {},
     "output_type": "execute_result"
    }
   ],
   "source": [
    "tx = matrix(((Ax*sx + ex) % (x^n+1) % q))\n",
    "tx"
   ]
  },
  {
   "cell_type": "code",
   "execution_count": 44,
   "metadata": {
    "scrolled": true
   },
   "outputs": [
    {
     "data": {
      "text/plain": [
       "\\left(\\begin{array}{r}\n",
       "9x^{3} + 13x^{2} + 4x + 2 \\\\\n",
       "18x^{3} + 10x^{2} - 9x + 5\n",
       "\\end{array}\\right)"
      ]
     },
     "execution_count": 44,
     "metadata": {},
     "output_type": "execute_result"
    }
   ],
   "source": [
    "latex(tx)"
   ]
  },
  {
   "cell_type": "markdown",
   "metadata": {},
   "source": [
    "Alice encodes her plaintext\n"
   ]
  },
  {
   "cell_type": "code",
   "execution_count": 62,
   "metadata": {},
   "outputs": [
    {
     "data": {
      "text/plain": [
       "x^3 + x^2 + x"
      ]
     },
     "execution_count": 62,
     "metadata": {},
     "output_type": "execute_result"
    }
   ],
   "source": [
    "plist = (ord(\"N\") - ord(\"A\") + 1).binary()\n",
    "px = R(list(reversed(plist)))\n",
    "px"
   ]
  },
  {
   "cell_type": "code",
   "execution_count": 46,
   "metadata": {
    "jupyter": {
     "outputs_hidden": false
    }
   },
   "outputs": [
    {
     "data": {
      "text/plain": [
       "[-x + 1]\n",
       "[     x]"
      ]
     },
     "execution_count": 46,
     "metadata": {},
     "output_type": "execute_result"
    }
   ],
   "source": [
    "rx = matrix([[binomial_centered()*x^3+binomial_centered()*x^2+binomial_centered()*x+binomial_centered()], \n",
    "            [binomial_centered()*x^3+binomial_centered()*x^2+binomial_centered()*x+binomial_centered()]])\n",
    "rx"
   ]
  },
  {
   "cell_type": "code",
   "execution_count": 47,
   "metadata": {
    "jupyter": {
     "outputs_hidden": false
    }
   },
   "outputs": [
    {
     "data": {
      "text/plain": [
       "[          -x^2 - x]\n",
       "[-x^3 + x^2 - x - 1]"
      ]
     },
     "execution_count": 47,
     "metadata": {},
     "output_type": "execute_result"
    }
   ],
   "source": [
    "e1 = matrix([[binomial_centered()*x^3+binomial_centered()*x^2+binomial_centered()*x+binomial_centered()],\n",
    "             [binomial_centered()*x^3+binomial_centered()*x^2+binomial_centered()*x+binomial_centered()]])\n",
    "e1"
   ]
  },
  {
   "cell_type": "code",
   "execution_count": 48,
   "metadata": {
    "scrolled": true
   },
   "outputs": [
    {
     "data": {
      "text/plain": [
       "\\left(\\begin{array}{r}\n",
       "-x^{2} - x \\\\\n",
       "-x^{3} + x^{2} - x - 1\n",
       "\\end{array}\\right)"
      ]
     },
     "execution_count": 48,
     "metadata": {},
     "output_type": "execute_result"
    }
   ],
   "source": [
    "latex(e1)"
   ]
  },
  {
   "cell_type": "code",
   "execution_count": 49,
   "metadata": {
    "jupyter": {
     "outputs_hidden": false
    }
   },
   "outputs": [
    {
     "data": {
      "text/plain": [
       "x^3"
      ]
     },
     "execution_count": 49,
     "metadata": {},
     "output_type": "execute_result"
    }
   ],
   "source": [
    "e2 = binomial_centered()*x^3+binomial_centered()*x^2+binomial_centered()*x+binomial_centered()\n",
    "e2"
   ]
  },
  {
   "cell_type": "code",
   "execution_count": 51,
   "metadata": {
    "jupyter": {
     "outputs_hidden": false
    }
   },
   "outputs": [
    {
     "data": {
      "text/plain": [
       "[10*x^3 + 11*x^2 + 16*x + 2]\n",
       "[               2*x^2 - 4*x]"
      ]
     },
     "execution_count": 51,
     "metadata": {},
     "output_type": "execute_result"
    }
   ],
   "source": [
    "u = (Ax.transpose()*rx+e1) % (x^n+1) % q\n",
    "u"
   ]
  },
  {
   "cell_type": "code",
   "execution_count": 52,
   "metadata": {
    "scrolled": true
   },
   "outputs": [
    {
     "data": {
      "text/plain": [
       "\\left(\\begin{array}{r}\n",
       "10x^{3} + 11x^{2} + 16x + 2 \\\\\n",
       "2x^{2} - 4x\n",
       "\\end{array}\\right)"
      ]
     },
     "execution_count": 52,
     "metadata": {},
     "output_type": "execute_result"
    }
   ],
   "source": [
    "latex(u)"
   ]
  },
  {
   "cell_type": "code",
   "execution_count": 53,
   "metadata": {
    "scrolled": true
   },
   "outputs": [
    {
     "data": {
      "text/plain": [
       "[6*x^3 + 7*x - 7]"
      ]
     },
     "execution_count": 53,
     "metadata": {},
     "output_type": "execute_result"
    }
   ],
   "source": [
    "tx.transpose()*rx % (x^n+1) % q"
   ]
  },
  {
   "cell_type": "code",
   "execution_count": 55,
   "metadata": {},
   "outputs": [
    {
     "data": {
      "text/plain": [
       "12*x^3 + 12*x^2 + 12*x"
      ]
     },
     "execution_count": 55,
     "metadata": {},
     "output_type": "execute_result"
    }
   ],
   "source": [
    "round(q/2)*px"
   ]
  },
  {
   "cell_type": "code",
   "execution_count": 58,
   "metadata": {
    "jupyter": {
     "outputs_hidden": false
    }
   },
   "outputs": [
    {
     "data": {
      "text/plain": [
       "[19*x^3 + 12*x^2 + 19*x - 7]"
      ]
     },
     "execution_count": 58,
     "metadata": {},
     "output_type": "execute_result"
    }
   ],
   "source": [
    "v = (tx.transpose()*rx+e2 + round(q/2)*px) % (x^n+1) % q\n",
    "v"
   ]
  },
  {
   "cell_type": "code",
   "execution_count": 59,
   "metadata": {},
   "outputs": [
    {
     "data": {
      "text/plain": [
       "\\left(\\begin{array}{r}\n",
       "19x^{3} + 12x^{2} + 19x - 7\n",
       "\\end{array}\\right)"
      ]
     },
     "execution_count": 59,
     "metadata": {},
     "output_type": "execute_result"
    }
   ],
   "source": [
    "latex(v)"
   ]
  },
  {
   "cell_type": "markdown",
   "metadata": {},
   "source": [
    "$\\mathbf{u}$ and $v$ is the ciphertext that Alice sends to Bob\n",
    "\n"
   ]
  },
  {
   "cell_type": "code",
   "execution_count": 63,
   "metadata": {},
   "outputs": [
    {
     "data": {
      "text/plain": [
       "[14*x^3 + 10*x^2 + 11*x - 22]"
      ]
     },
     "execution_count": 63,
     "metadata": {},
     "output_type": "execute_result"
    }
   ],
   "source": [
    "(v-sx.transpose()*u) % (x^n+1) % q"
   ]
  },
  {
   "cell_type": "code",
   "execution_count": 64,
   "metadata": {},
   "outputs": [
    {
     "data": {
      "text/plain": [
       "[7/6*x^3 + 5/6*x^2 + 11/12*x - 11/6]"
      ]
     },
     "execution_count": 64,
     "metadata": {},
     "output_type": "execute_result"
    }
   ],
   "source": [
    "(round(q/2)^(-1)*((v-sx.transpose()*u) % (x^n+1) % q))"
   ]
  },
  {
   "cell_type": "code",
   "execution_count": 65,
   "metadata": {
    "jupyter": {
     "outputs_hidden": false
    }
   },
   "outputs": [
    {
     "data": {
      "text/plain": [
       "x^3 + x^2 + x"
      ]
     },
     "execution_count": 65,
     "metadata": {},
     "output_type": "execute_result"
    }
   ],
   "source": [
    "pprime = (round(q/2)^(-1)*((v-sx.transpose()*u) % (x^n+1) % q))[0,0].map_coefficients(round, new_base_ring=Zmod(2)) ###UGH***\n",
    "pprime"
   ]
  },
  {
   "cell_type": "code",
   "execution_count": 67,
   "metadata": {
    "jupyter": {
     "outputs_hidden": false
    }
   },
   "outputs": [
    {
     "data": {
      "text/plain": [
       "x^3 + x^2 + x"
      ]
     },
     "execution_count": 67,
     "metadata": {},
     "output_type": "execute_result"
    }
   ],
   "source": [
    "px"
   ]
  },
  {
   "cell_type": "code",
   "execution_count": 69,
   "metadata": {
    "jupyter": {
     "outputs_hidden": false
    }
   },
   "outputs": [
    {
     "data": {
      "text/plain": [
       "True"
      ]
     },
     "execution_count": 69,
     "metadata": {},
     "output_type": "execute_result"
    }
   ],
   "source": [
    "px == pprime"
   ]
  },
  {
   "cell_type": "code",
   "execution_count": null,
   "metadata": {},
   "outputs": [],
   "source": []
  },
  {
   "cell_type": "code",
   "execution_count": null,
   "metadata": {},
   "outputs": [],
   "source": []
  },
  {
   "cell_type": "markdown",
   "metadata": {},
   "source": [
    "**Matrices for lattice attack**\n"
   ]
  },
  {
   "cell_type": "code",
   "execution_count": 13,
   "metadata": {},
   "outputs": [],
   "source": [
    "matrix.options.max_rows(49) "
   ]
  },
  {
   "cell_type": "code",
   "execution_count": 8,
   "metadata": {},
   "outputs": [],
   "source": [
    "def negacirculant(v):\n",
    "    Nshift = matrix([[0, 0, 0, -1],             #Negacyclic shift matrix\n",
    "                     [1, 0, 0, 0],\n",
    "                     [0, 1, 0, 0],\n",
    "                     [0, 0, 1, 0]])\n",
    "    return sum([v[i]*Nshift^i for i in range(0, len(v))])"
   ]
  },
  {
   "cell_type": "code",
   "execution_count": 9,
   "metadata": {},
   "outputs": [
    {
     "data": {
      "text/plain": [
       "[ 20*x^3 + 18*x^2 + 2*x + 5 17*x^3 + 2*x^2 + 11*x + 14]\n",
       "[         8*x^2 + 19*x + 20       7*x^3 + 9*x^2 + 10*x]"
      ]
     },
     "execution_count": 9,
     "metadata": {},
     "output_type": "execute_result"
    }
   ],
   "source": [
    "Ax"
   ]
  },
  {
   "cell_type": "code",
   "execution_count": 10,
   "metadata": {},
   "outputs": [
    {
     "data": {
      "text/plain": [
       "[  5 -20 -18  -2| 14 -17  -2 -11]\n",
       "[  2   5 -20 -18| 11  14 -17  -2]\n",
       "[ 18   2   5 -20|  2  11  14 -17]\n",
       "[ 20  18   2   5| 17   2  11  14]\n",
       "[---------------+---------------]\n",
       "[ 20   0  -8 -19|  0  -7  -9 -10]\n",
       "[ 19  20   0  -8| 10   0  -7  -9]\n",
       "[  8  19  20   0|  9  10   0  -7]\n",
       "[  0   8  19  20|  7   9  10   0]"
      ]
     },
     "execution_count": 10,
     "metadata": {},
     "output_type": "execute_result"
    }
   ],
   "source": [
    "A = block_matrix([[negacirculant(Ax[0,0].padded_list(4)), negacirculant(Ax[0,1].padded_list(4))], \n",
    "                  [negacirculant(Ax[1,0].padded_list(4)), negacirculant(Ax[1,1].padded_list(4))]])\n",
    "A"
   ]
  },
  {
   "cell_type": "code",
   "execution_count": 11,
   "metadata": {},
   "outputs": [
    {
     "data": {
      "text/plain": [
       "\\left(\\begin{array}{rrrr|rrrr}\n",
       "5 & -20 & -18 & -2 & 14 & -17 & -2 & -11 \\\\\n",
       "2 & 5 & -20 & -18 & 11 & 14 & -17 & -2 \\\\\n",
       "18 & 2 & 5 & -20 & 2 & 11 & 14 & -17 \\\\\n",
       "20 & 18 & 2 & 5 & 17 & 2 & 11 & 14 \\\\\n",
       "\\hline\n",
       " 20 & 0 & -8 & -19 & 0 & -7 & -9 & -10 \\\\\n",
       "19 & 20 & 0 & -8 & 10 & 0 & -7 & -9 \\\\\n",
       "8 & 19 & 20 & 0 & 9 & 10 & 0 & -7 \\\\\n",
       "0 & 8 & 19 & 20 & 7 & 9 & 10 & 0\n",
       "\\end{array}\\right)"
      ]
     },
     "execution_count": 11,
     "metadata": {},
     "output_type": "execute_result"
    }
   ],
   "source": [
    "latex(A)"
   ]
  },
  {
   "cell_type": "code",
   "execution_count": 12,
   "metadata": {},
   "outputs": [
    {
     "data": {
      "text/plain": [
       "[ 9*x^3 + 13*x^2 + 4*x + 2]\n",
       "[18*x^3 + 10*x^2 - 9*x + 5]"
      ]
     },
     "execution_count": 12,
     "metadata": {},
     "output_type": "execute_result"
    }
   ],
   "source": [
    "tx"
   ]
  },
  {
   "cell_type": "code",
   "execution_count": 13,
   "metadata": {},
   "outputs": [
    {
     "data": {
      "text/plain": [
       "[ 2]\n",
       "[ 4]\n",
       "[13]\n",
       "[ 9]\n",
       "[--]\n",
       "[ 5]\n",
       "[-9]\n",
       "[10]\n",
       "[18]"
      ]
     },
     "execution_count": 13,
     "metadata": {},
     "output_type": "execute_result"
    }
   ],
   "source": [
    "t = block_matrix([[column_matrix(1, 4, tx[0,0].padded_list(4))],\n",
    "                [column_matrix(1, 4, tx[1,0].padded_list(4))]])\n",
    "t"
   ]
  },
  {
   "cell_type": "code",
   "execution_count": 14,
   "metadata": {},
   "outputs": [
    {
     "data": {
      "text/plain": [
       "\\left(\\begin{array}{r}\n",
       "2 \\\\\n",
       "4 \\\\\n",
       "13 \\\\\n",
       "9 \\\\\n",
       "\\hline\n",
       " 5 \\\\\n",
       "-9 \\\\\n",
       "10 \\\\\n",
       "18\n",
       "\\end{array}\\right)"
      ]
     },
     "execution_count": 14,
     "metadata": {},
     "output_type": "execute_result"
    }
   ],
   "source": [
    "latex(t)"
   ]
  },
  {
   "cell_type": "code",
   "execution_count": 15,
   "metadata": {},
   "outputs": [
    {
     "data": {
      "text/plain": [
       "[1 0 0 0 0 0 0 0]\n",
       "[0 1 0 0 0 0 0 0]\n",
       "[0 0 1 0 0 0 0 0]\n",
       "[0 0 0 1 0 0 0 0]\n",
       "[0 0 0 0 1 0 0 0]\n",
       "[0 0 0 0 0 1 0 0]\n",
       "[0 0 0 0 0 0 1 0]\n",
       "[0 0 0 0 0 0 0 1]"
      ]
     },
     "execution_count": 15,
     "metadata": {},
     "output_type": "execute_result"
    }
   ],
   "source": [
    "I8 = identity_matrix(8)\n",
    "I8"
   ]
  },
  {
   "cell_type": "code",
   "execution_count": 16,
   "metadata": {},
   "outputs": [
    {
     "data": {
      "text/plain": [
       "25 x 8 dense matrix over Integer Ring (use the '.str()' method to see the entries)"
      ]
     },
     "execution_count": 16,
     "metadata": {},
     "output_type": "execute_result"
    }
   ],
   "source": [
    "M = block_matrix([[A.transpose()], [I8], [-t.transpose()], [q*I8]])\n",
    "M"
   ]
  },
  {
   "cell_type": "code",
   "execution_count": 17,
   "metadata": {},
   "outputs": [
    {
     "data": {
      "text/plain": [
       "\\left(\\begin{array}{rrrrrrrr}\n",
       "5 & 2 & 18 & 20 & 20 & 19 & 8 & 0 \\\\\n",
       "-20 & 5 & 2 & 18 & 0 & 20 & 19 & 8 \\\\\n",
       "-18 & -20 & 5 & 2 & -8 & 0 & 20 & 19 \\\\\n",
       "-2 & -18 & -20 & 5 & -19 & -8 & 0 & 20 \\\\\n",
       "14 & 11 & 2 & 17 & 0 & 10 & 9 & 7 \\\\\n",
       "-17 & 14 & 11 & 2 & -7 & 0 & 10 & 9 \\\\\n",
       "-2 & -17 & 14 & 11 & -9 & -7 & 0 & 10 \\\\\n",
       "-11 & -2 & -17 & 14 & -10 & -9 & -7 & 0 \\\\\n",
       "\\hline\n",
       " 1 & 0 & 0 & 0 & 0 & 0 & 0 & 0 \\\\\n",
       "0 & 1 & 0 & 0 & 0 & 0 & 0 & 0 \\\\\n",
       "0 & 0 & 1 & 0 & 0 & 0 & 0 & 0 \\\\\n",
       "0 & 0 & 0 & 1 & 0 & 0 & 0 & 0 \\\\\n",
       "0 & 0 & 0 & 0 & 1 & 0 & 0 & 0 \\\\\n",
       "0 & 0 & 0 & 0 & 0 & 1 & 0 & 0 \\\\\n",
       "0 & 0 & 0 & 0 & 0 & 0 & 1 & 0 \\\\\n",
       "0 & 0 & 0 & 0 & 0 & 0 & 0 & 1 \\\\\n",
       "\\hline\n",
       " -2 & -4 & -13 & -9 & -5 & 9 & -10 & -18 \\\\\n",
       "\\hline\n",
       " 23 & 0 & 0 & 0 & 0 & 0 & 0 & 0 \\\\\n",
       "0 & 23 & 0 & 0 & 0 & 0 & 0 & 0 \\\\\n",
       "0 & 0 & 23 & 0 & 0 & 0 & 0 & 0 \\\\\n",
       "0 & 0 & 0 & 23 & 0 & 0 & 0 & 0 \\\\\n",
       "0 & 0 & 0 & 0 & 23 & 0 & 0 & 0 \\\\\n",
       "0 & 0 & 0 & 0 & 0 & 23 & 0 & 0 \\\\\n",
       "0 & 0 & 0 & 0 & 0 & 0 & 23 & 0 \\\\\n",
       "0 & 0 & 0 & 0 & 0 & 0 & 0 & 23\n",
       "\\end{array}\\right)"
      ]
     },
     "execution_count": 17,
     "metadata": {},
     "output_type": "execute_result"
    }
   ],
   "source": [
    "latex(M)"
   ]
  },
  {
   "cell_type": "markdown",
   "metadata": {},
   "source": [
    "**Idea for lattice attack**\n"
   ]
  },
  {
   "cell_type": "markdown",
   "metadata": {},
   "source": [
    "$$A(x) \\star \\mathbf{s}(x) + \\mathbf{e}(x) - \\mathbf{t}(x) \\equiv \\mathbf{0} \\pmod{q}$$\n",
    "\n"
   ]
  },
  {
   "cell_type": "markdown",
   "metadata": {},
   "source": [
    "so $$A \\mathbf{s} + \\mathbf{e} - \\mathbf{t} \\equiv \\mathbf{0} \\pmod{q}$$ for suitable matrices/vectors\n"
   ]
  },
  {
   "cell_type": "markdown",
   "metadata": {},
   "source": [
    "or in block row form, $$(\\mathbf{s}^T | \\mathbf{e}^T | 1 | \\mathbf{s'}^T)\\begin{pmatrix} A^T \\\\ - \\\\ I \\\\ - \\\\ -\\mathbf{t}^T \\\\ - \\\\ qI \\end{pmatrix} =  \\mathbf{s''}M = \\mathbf{0} $$"
   ]
  },
  {
   "cell_type": "markdown",
   "metadata": {},
   "source": [
    "so $\\mathbf{s''}$ is a short vector in the kernel of $M$."
   ]
  },
  {
   "cell_type": "code",
   "execution_count": 18,
   "metadata": {
    "scrolled": true
   },
   "outputs": [
    {
     "data": {
      "text/plain": [
       "[ 0  0 -1  0| 0 -1  0  1]"
      ]
     },
     "execution_count": 18,
     "metadata": {},
     "output_type": "execute_result"
    }
   ],
   "source": [
    "sT = block_matrix([[matrix(1, 4, sx[0,0].padded_list(4)), matrix(1, 4, sx[1,0].padded_list(4))]])\n",
    "sT"
   ]
  },
  {
   "cell_type": "code",
   "execution_count": 19,
   "metadata": {},
   "outputs": [
    {
     "data": {
      "text/plain": [
       "[ 1  0  0 -1| 0  0  1  0]"
      ]
     },
     "execution_count": 19,
     "metadata": {},
     "output_type": "execute_result"
    }
   ],
   "source": [
    "eT = block_matrix([[matrix(1, 4, ex[0,0].padded_list(4)), matrix(1, 4, ex[1,0].padded_list(4))]])\n",
    "eT"
   ]
  },
  {
   "cell_type": "code",
   "execution_count": 20,
   "metadata": {
    "scrolled": true
   },
   "outputs": [
    {
     "ename": "NameError",
     "evalue": "name 's' is not defined",
     "output_type": "error",
     "traceback": [
      "\u001b[0;31m---------------------------------------------------------------------------\u001b[0m",
      "\u001b[0;31mNameError\u001b[0m                                 Traceback (most recent call last)",
      "\u001b[0;32m<ipython-input-20-52eca3aac34d>\u001b[0m in \u001b[0;36m<module>\u001b[0;34m\u001b[0m\n\u001b[0;32m----> 1\u001b[0;31m \u001b[0mspp\u001b[0m \u001b[0;34m=\u001b[0m \u001b[0mblock_matrix\u001b[0m\u001b[0;34m(\u001b[0m\u001b[0;34m[\u001b[0m\u001b[0;34m[\u001b[0m\u001b[0ms\u001b[0m\u001b[0;34m,\u001b[0m \u001b[0me\u001b[0m\u001b[0;34m,\u001b[0m \u001b[0mmatrix\u001b[0m\u001b[0;34m(\u001b[0m\u001b[0;34m[\u001b[0m\u001b[0mInteger\u001b[0m\u001b[0;34m(\u001b[0m\u001b[0;36m1\u001b[0m\u001b[0;34m)\u001b[0m\u001b[0;34m]\u001b[0m\u001b[0;34m)\u001b[0m\u001b[0;34m,\u001b[0m \u001b[0mmatrix\u001b[0m\u001b[0;34m(\u001b[0m\u001b[0;34m[\u001b[0m\u001b[0;34m[\u001b[0m\u001b[0mInteger\u001b[0m\u001b[0;34m(\u001b[0m\u001b[0;36m0\u001b[0m\u001b[0;34m)\u001b[0m\u001b[0;34m,\u001b[0m\u001b[0mInteger\u001b[0m\u001b[0;34m(\u001b[0m\u001b[0;36m0\u001b[0m\u001b[0;34m)\u001b[0m\u001b[0;34m,\u001b[0m\u001b[0mInteger\u001b[0m\u001b[0;34m(\u001b[0m\u001b[0;36m0\u001b[0m\u001b[0;34m)\u001b[0m\u001b[0;34m,\u001b[0m\u001b[0mInteger\u001b[0m\u001b[0;34m(\u001b[0m\u001b[0;36m0\u001b[0m\u001b[0;34m)\u001b[0m\u001b[0;34m,\u001b[0m\u001b[0mInteger\u001b[0m\u001b[0;34m(\u001b[0m\u001b[0;36m0\u001b[0m\u001b[0;34m)\u001b[0m\u001b[0;34m,\u001b[0m\u001b[0mInteger\u001b[0m\u001b[0;34m(\u001b[0m\u001b[0;36m0\u001b[0m\u001b[0;34m)\u001b[0m\u001b[0;34m,\u001b[0m\u001b[0mInteger\u001b[0m\u001b[0;34m(\u001b[0m\u001b[0;36m0\u001b[0m\u001b[0;34m)\u001b[0m\u001b[0;34m,\u001b[0m\u001b[0mInteger\u001b[0m\u001b[0;34m(\u001b[0m\u001b[0;36m0\u001b[0m\u001b[0;34m)\u001b[0m\u001b[0;34m]\u001b[0m\u001b[0;34m]\u001b[0m\u001b[0;34m)\u001b[0m\u001b[0;34m]\u001b[0m\u001b[0;34m]\u001b[0m\u001b[0;34m)\u001b[0m\u001b[0;34m\u001b[0m\u001b[0;34m\u001b[0m\u001b[0m\n\u001b[0m\u001b[1;32m      2\u001b[0m \u001b[0mspp\u001b[0m\u001b[0;34m\u001b[0m\u001b[0;34m\u001b[0m\u001b[0m\n",
      "\u001b[0;31mNameError\u001b[0m: name 's' is not defined"
     ]
    }
   ],
   "source": [
    "spp = block_matrix([[s, e, matrix([1]), matrix([[0,0,0,0,0,0,0,0]])]])\n",
    "spp"
   ]
  },
  {
   "cell_type": "code",
   "execution_count": null,
   "metadata": {},
   "outputs": [],
   "source": [
    "spp*M"
   ]
  },
  {
   "cell_type": "code",
   "execution_count": null,
   "metadata": {},
   "outputs": [],
   "source": [
    "spp = block_matrix([[s, e, matrix([1]), matrix([[-2,-2,0,2,-2,-2,0,2]])]])\n",
    "spp"
   ]
  },
  {
   "cell_type": "code",
   "execution_count": null,
   "metadata": {
    "scrolled": false
   },
   "outputs": [],
   "source": [
    "spp*M"
   ]
  },
  {
   "cell_type": "code",
   "execution_count": null,
   "metadata": {},
   "outputs": [],
   "source": [
    "M.transpose().right_kernel_matrix(basis='LLL')  #There no left_kernel_matrix command for some reason"
   ]
  },
  {
   "cell_type": "markdown",
   "metadata": {},
   "source": [
    "**Eve's attack**\n",
    "\n",
    "Eve knows $A$ so she can set up $M$:"
   ]
  },
  {
   "cell_type": "code",
   "execution_count": 21,
   "metadata": {},
   "outputs": [
    {
     "data": {
      "text/plain": [
       "25 x 8 dense matrix over Integer Ring (use the '.str()' method to see the entries)"
      ]
     },
     "execution_count": 21,
     "metadata": {},
     "output_type": "execute_result"
    }
   ],
   "source": [
    "M"
   ]
  },
  {
   "cell_type": "code",
   "execution_count": 22,
   "metadata": {},
   "outputs": [
    {
     "data": {
      "text/plain": [
       "25 x 25 dense matrix over Integer Ring (use the '.str()' method to see the entries)"
      ]
     },
     "execution_count": 22,
     "metadata": {},
     "output_type": "execute_result"
    }
   ],
   "source": [
    "H, U = M.hermite_form(transformation = true)\n",
    "U  #The transformation matrix that puts M into a (not very interesting) Hermite Normal Form"
   ]
  },
  {
   "cell_type": "code",
   "execution_count": 23,
   "metadata": {
    "scrolled": false
   },
   "outputs": [
    {
     "data": {
      "text/plain": [
       "[             113613104               77187852              -41424512               59557214             -282546813              154274337              -43222271               78115119             7700305610                      0                      0                      0                      0                      0                      0                      0                      0                      0                      0                      0                      0                      0                      0                      0                      0]\n",
       "[   -263895057986456439    -179288233154777794      96218865706729222    -138336634496332353     656286158685739842    -358341015913420710     100394613915762169    -181442044380056240  -17885899811912416555                      5                      0                      0                      0                      0                      0                      0                      0                      0                      0                      0                      0                      0                      0                      0                      0]\n",
       "[    -96582191167974632     -65617183363895533      35214865153442680     -50629425880134171     240192278410666255    -131148194916376389      36743135197116048     -66405450522389454   -6546008887116115683                      0                      1                      0                      0                      0                      0                      0                      0                      0                      0                      0                      0                      0                      0                      0                      0]\n",
       "[    424993812945975746     288737464074475598    -154957136848460083     222786338680610715   -1056926033748744231     577095743474647300    -161682034111789359     292206102145916513   28804619597781499425                     -8                      0                      1                      0                      0                      0                      0                      0                      0                      0                      0                      0                      0                      0                      0                      0]\n",
       "[    238551974576089234     162070341004739546     -86978515554428505     125051516944301652    -593259912618275433     323927843022113212     -90753247026089869     164017311609549767   16168232742807883329                     -6                      0                      0                      1                      0                      0                      0                      0                      0                      0                      0                      0                      0                      0                      0                      0]\n",
       "[    328186267814801545     222967176995016922    -119660105310822776     172038779823385936    -816173317836969323     445641542190704931    -124853166637978047     225645708654514823   22243336993761553927                     -6                      0                      0                      0                      1                      0                      0                      0                      0                      0                      0                      0                      0                      0                      0                      0]\n",
       "[    455782777350366773     309655245069873829    -166183111498684136     238926245762725987   -1133495755565614298     618903835175090812    -173395198495502901     313375170973890522   30891389758811714157                     -8                      0                      0                      0                      0                      1                      0                      0                      0                      0                      0                      0                      0                      0                      0                      0]\n",
       "[   -105558023200103610     -71715293265662065      38487546284704715     -55334653801427127     262514463488026313    -143336406372865253      40157845568405256     -72576817755818504   -7154359925139163349                      2                      0                      0                      0                      0                      0                      1                      0                      0                      0                      0                      0                      0                      0                      0                      0]\n",
       "[  -4521822881724972269   -3072091009544116181    1648703359305196826   -2370388305181688044   11245416234573318736   -6140147593446170730    1720254505219025607   -3108996410333698251 -306473609800971289754                    116                      0                      0                      0                      0                      0                      0                      1                      0                      0                      0                      0                      0                      0                      0                      0]\n",
       "[                     0                      0                      0                      0                      0                      0                      0                      0                    -23                      0                      0                      0                      0                      0                      0                      0                      0                      1                      0                      0                      0                      0                      0                      0                      0]\n",
       "[   6069586333688498097    4123629362559889262   -2213033911254772106    3181742593415644119  -15094581649772016366    8241843366008676330   -2309076120062529887    4173167020741293520  411375695673985580765                   -138                      0                      0                      0                      0                      0                      0                      0                      0                      1                      0                      0                      0                      0                      0                      0]\n",
       "[  -2221390396863416536   -1509195217369597259     809941898529181640   -1164476795243085933    5524422403445323865   -3016408483076656947     845092109533669104   -1527325362014957442 -150558204403670660709                      0                      0                      0                      0                      0                      0                      0                      0                      0                      0                      1                      0                      0                      0                      0                      0]\n",
       "[   9774857697757442158    6640961673712938754   -3564014147514581909    5124085789654046445  -24309298776221117313   13273202099916887900   -3718686784571155257    6720740349356079799  662506250748974486775                   -184                      0                      0                      0                      0                      0                      0                      0                      0                      0                      0                      1                      0                      0                      0                      0]\n",
       "[   5486695415250052382    3727617843109009558   -2000505857751855615    2876184889718937996  -13644977990220334959    7450340389508603876   -2087324681600066987    3772398167019644641  371869353084581316567                   -138                      0                      0                      0                      0                      0                      0                      0                      0                      0                      0                      0                      1                      0                      0                      0]\n",
       "[   7548284159740435535    5128245070885389206   -2752182422148923848    3956891935937876528  -18771986310250294429   10249755470386213413   -2871622832673495081    5189851299053840929  511596750856515740321                   -138                      0                      0                      0                      0                      0                      0                      0                      0                      0                      0                      0                      0                      1                      0                      0]\n",
       "[  10483003879058435779    7122070636607098067   -3822211564469735128    5495303652542697701  -26070402378009128854   14234788209027088676   -3988089565396566723    7207628932399482006  710501964452669425611                   -184                      0                      0                      0                      0                      0                      0                      0                      0                      0                      0                      0                      0                      0                      1                      0]\n",
       "[  -2427834533602383030   -1649451745110227495     885213564548208445   -1272697037432823921    6037832660224605199   -3296737346575900819     923630448073320888   -1669266808383825592 -164550278278200757027                     46                      0                      0                      0                      0                      0                      0                      0                      0                      0                      0                      0                      0                      0                      0                      1]"
      ]
     },
     "execution_count": 23,
     "metadata": {},
     "output_type": "execute_result"
    }
   ],
   "source": [
    "N = U[8:25]\n",
    "N  #This should give a basis of the left kernel"
   ]
  },
  {
   "cell_type": "code",
   "execution_count": 24,
   "metadata": {},
   "outputs": [
    {
     "data": {
      "text/plain": [
       "[ 0  0 -1  0  0 -1  0  1  1  0  0 -1  0  0  1  0  1 -1  0  2  0  0  0  2  2]\n",
       "[ 1  2 -2  0 -1  0  1  1  1 -3  3  0  1 -1  0  1 -1  1 -1 -1 -3 -1 -1  0  0]\n",
       "[ 1  1 -3  2  0  1  0  0  5  1  1  2  1  0  0  0  0 -1 -2  1 -2  0 -1  1  0]\n",
       "[ 0 -1  2 -3  0 -1  0  1  0 -1  3 -1 -2  0 -1  3 -2  0  0 -3  0 -2  1 -1  0]\n",
       "[-2  0  1 -2  0 -2 -1  1 -1  1 -2  3 -3  1  0  3  0  0  0  2  2  0  1  1  2]\n",
       "[ 0 -1  1 -2  2  0 -1  1  0  2 -3 -2 -1  0 -2 -3  1 -1 -2  0  0 -1 -1  0  2]\n",
       "[ 2  1  0 -1 -2  0  0  1  3  1 -1 -1  2  0  0 -2  1  2  0 -1 -1 -2 -2  0  2]\n",
       "[ 0  1  0 -1  0  1 -1  1  2  2  1  0 -1  2 -2  3  2  2 -2  1  0  0 -2  0  2]\n",
       "[ 2 -1  0  3  0  1 -1 -1  1 -5 -1  0  0 -1 -1  0 -1 -1  1  0 -1  0  0 -1 -3]\n",
       "[-3  2 -1  0 -1 -1  0  1 -3 -1  3 -1  4 -1 -1  1 -1  2  0  3  1  2  2  1  0]\n",
       "[-2  3  0  1  1 -1 -2 -1  3 -3  1  2  1 -1 -1  1  0  1 -1  3  0  1 -2 -2 -1]\n",
       "[-1  2 -2  0  1 -1  0 -2  2 -3 -1  1  0 -3 -3  1  0 -2 -2  0  0 -1 -2  0  1]\n",
       "[ 3 -2  1  1  0  0  0  1 -1 -2  5  1  0  0  1  0  0 -1  2 -1 -2 -1  0  0 -1]\n",
       "[-1 -2  1  0  2  1 -2 -1  1  2  0 -1  2  2  4 -1 -1 -2 -2  0  2  0  1 -1 -1]\n",
       "[-1 -2 -1 -1  0  2 -1  0  0 -2 -1  1 -2 -2  0  1  0 -1 -3  0  3  0  2  2  2]\n",
       "[-2  2  0 -1  1  0  2  1  3  1 -1  2  3  3 -1  0  0  2  0  0 -2  2  0 -1 -1]\n",
       "[ 0 -1  2 -2  2  1  2  3 -2  2 -1 -3  2 -2  2 -2  3  2  1  0 -2  2  0  0  1]"
      ]
     },
     "execution_count": 24,
     "metadata": {},
     "output_type": "execute_result"
    }
   ],
   "source": [
    "N.LLL()"
   ]
  },
  {
   "cell_type": "markdown",
   "metadata": {},
   "source": [
    "**Eve's attack showing calculation of transformation matrix**\n"
   ]
  },
  {
   "cell_type": "code",
   "execution_count": 25,
   "metadata": {},
   "outputs": [
    {
     "data": {
      "text/plain": [
       "25 x 8 dense matrix over Integer Ring (use the '.str()' method to see the entries)"
      ]
     },
     "execution_count": 25,
     "metadata": {},
     "output_type": "execute_result"
    }
   ],
   "source": [
    "M"
   ]
  },
  {
   "cell_type": "code",
   "execution_count": 26,
   "metadata": {},
   "outputs": [
    {
     "data": {
      "text/plain": [
       "\\left(\\begin{array}{rrrrrrrrrrrrrrrrrrrrrrrrr}\n",
       "1 & 0 & 0 & 0 & 0 & 0 & 0 & 0 & 0 & 0 & 0 & 0 & 0 & 0 & 0 & 0 & 0 & 0 & 0 & 0 & 0 & 0 & 0 & 0 & 0 \\\\\n",
       "0 & 1 & 0 & 0 & 0 & 0 & 0 & 0 & 0 & 0 & 0 & 0 & 0 & 0 & 0 & 0 & 0 & 0 & 0 & 0 & 0 & 0 & 0 & 0 & 0 \\\\\n",
       "0 & 0 & 1 & 0 & 0 & 0 & 0 & 0 & 0 & 0 & 0 & 0 & 0 & 0 & 0 & 0 & 0 & 0 & 0 & 0 & 0 & 0 & 0 & 0 & 0 \\\\\n",
       "0 & 0 & 0 & 1 & 0 & 0 & 0 & 0 & 0 & 0 & 0 & 0 & 0 & 0 & 0 & 0 & 0 & 0 & 0 & 0 & 0 & 0 & 0 & 0 & 0 \\\\\n",
       "0 & 0 & 0 & 0 & 1 & 0 & 0 & 0 & 0 & 0 & 0 & 0 & 0 & 0 & 0 & 0 & 0 & 0 & 0 & 0 & 0 & 0 & 0 & 0 & 0 \\\\\n",
       "0 & 0 & 0 & 0 & 0 & 1 & 0 & 0 & 0 & 0 & 0 & 0 & 0 & 0 & 0 & 0 & 0 & 0 & 0 & 0 & 0 & 0 & 0 & 0 & 0 \\\\\n",
       "0 & 0 & 0 & 0 & 0 & 0 & 1 & 0 & 0 & 0 & 0 & 0 & 0 & 0 & 0 & 0 & 0 & 0 & 0 & 0 & 0 & 0 & 0 & 0 & 0 \\\\\n",
       "0 & 0 & 0 & 0 & 0 & 0 & 0 & 1 & 0 & 0 & 0 & 0 & 0 & 0 & 0 & 0 & 0 & 0 & 0 & 0 & 0 & 0 & 0 & 0 & 0 \\\\\n",
       "0 & 0 & 0 & 0 & 0 & 0 & 0 & 0 & 1 & 0 & 0 & 0 & 0 & 0 & 0 & 0 & 0 & 0 & 0 & 0 & 0 & 0 & 0 & 0 & 0 \\\\\n",
       "0 & 0 & 0 & 0 & 0 & 0 & 0 & 0 & 0 & 1 & 0 & 0 & 0 & 0 & 0 & 0 & 0 & 0 & 0 & 0 & 0 & 0 & 0 & 0 & 0 \\\\\n",
       "0 & 0 & 0 & 0 & 0 & 0 & 0 & 0 & 0 & 0 & 1 & 0 & 0 & 0 & 0 & 0 & 0 & 0 & 0 & 0 & 0 & 0 & 0 & 0 & 0 \\\\\n",
       "0 & 0 & 0 & 0 & 0 & 0 & 0 & 0 & 0 & 0 & 0 & 1 & 0 & 0 & 0 & 0 & 0 & 0 & 0 & 0 & 0 & 0 & 0 & 0 & 0 \\\\\n",
       "0 & 0 & 0 & 0 & 0 & 0 & 0 & 0 & 0 & 0 & 0 & 0 & 1 & 0 & 0 & 0 & 0 & 0 & 0 & 0 & 0 & 0 & 0 & 0 & 0 \\\\\n",
       "0 & 0 & 0 & 0 & 0 & 0 & 0 & 0 & 0 & 0 & 0 & 0 & 0 & 1 & 0 & 0 & 0 & 0 & 0 & 0 & 0 & 0 & 0 & 0 & 0 \\\\\n",
       "0 & 0 & 0 & 0 & 0 & 0 & 0 & 0 & 0 & 0 & 0 & 0 & 0 & 0 & 1 & 0 & 0 & 0 & 0 & 0 & 0 & 0 & 0 & 0 & 0 \\\\\n",
       "0 & 0 & 0 & 0 & 0 & 0 & 0 & 0 & 0 & 0 & 0 & 0 & 0 & 0 & 0 & 1 & 0 & 0 & 0 & 0 & 0 & 0 & 0 & 0 & 0 \\\\\n",
       "0 & 0 & 0 & 0 & 0 & 0 & 0 & 0 & 0 & 0 & 0 & 0 & 0 & 0 & 0 & 0 & 1 & 0 & 0 & 0 & 0 & 0 & 0 & 0 & 0 \\\\\n",
       "0 & 0 & 0 & 0 & 0 & 0 & 0 & 0 & 0 & 0 & 0 & 0 & 0 & 0 & 0 & 0 & 0 & 1 & 0 & 0 & 0 & 0 & 0 & 0 & 0 \\\\\n",
       "0 & 0 & 0 & 0 & 0 & 0 & 0 & 0 & 0 & 0 & 0 & 0 & 0 & 0 & 0 & 0 & 0 & 0 & 1 & 0 & 0 & 0 & 0 & 0 & 0 \\\\\n",
       "0 & 0 & 0 & 0 & 0 & 0 & 0 & 0 & 0 & 0 & 0 & 0 & 0 & 0 & 0 & 0 & 0 & 0 & 0 & 1 & 0 & 0 & 0 & 0 & 0 \\\\\n",
       "0 & 0 & 0 & 0 & 0 & 0 & 0 & 0 & 0 & 0 & 0 & 0 & 0 & 0 & 0 & 0 & 0 & 0 & 0 & 0 & 1 & 0 & 0 & 0 & 0 \\\\\n",
       "0 & 0 & 0 & 0 & 0 & 0 & 0 & 0 & 0 & 0 & 0 & 0 & 0 & 0 & 0 & 0 & 0 & 0 & 0 & 0 & 0 & 1 & 0 & 0 & 0 \\\\\n",
       "0 & 0 & 0 & 0 & 0 & 0 & 0 & 0 & 0 & 0 & 0 & 0 & 0 & 0 & 0 & 0 & 0 & 0 & 0 & 0 & 0 & 0 & 1 & 0 & 0 \\\\\n",
       "0 & 0 & 0 & 0 & 0 & 0 & 0 & 0 & 0 & 0 & 0 & 0 & 0 & 0 & 0 & 0 & 0 & 0 & 0 & 0 & 0 & 0 & 0 & 1 & 0 \\\\\n",
       "0 & 0 & 0 & 0 & 0 & 0 & 0 & 0 & 0 & 0 & 0 & 0 & 0 & 0 & 0 & 0 & 0 & 0 & 0 & 0 & 0 & 0 & 0 & 0 & 1\n",
       "\\end{array}\\right)"
      ]
     },
     "execution_count": 26,
     "metadata": {},
     "output_type": "execute_result"
    }
   ],
   "source": [
    "latex(identity_matrix(25))"
   ]
  },
  {
   "cell_type": "code",
   "execution_count": 27,
   "metadata": {},
   "outputs": [
    {
     "data": {
      "text/plain": [
       "25 x 33 dense matrix over Integer Ring (use the '.str()' method to see the entries)"
      ]
     },
     "execution_count": 27,
     "metadata": {},
     "output_type": "execute_result"
    }
   ],
   "source": [
    "M1 = block_matrix([[M, identity_matrix(25)]])\n",
    "M1"
   ]
  },
  {
   "cell_type": "code",
   "execution_count": 28,
   "metadata": {},
   "outputs": [
    {
     "data": {
      "text/plain": [
       "\\left(\\begin{array}{rrrrrrrr|rrrrrrrrrrrrrrrrrrrrrrrrr}\n",
       "5 & 2 & 18 & 20 & 20 & 19 & 8 & 0 & 1 & 0 & 0 & 0 & 0 & 0 & 0 & 0 & 0 & 0 & 0 & 0 & 0 & 0 & 0 & 0 & 0 & 0 & 0 & 0 & 0 & 0 & 0 & 0 & 0 \\\\\n",
       "-20 & 5 & 2 & 18 & 0 & 20 & 19 & 8 & 0 & 1 & 0 & 0 & 0 & 0 & 0 & 0 & 0 & 0 & 0 & 0 & 0 & 0 & 0 & 0 & 0 & 0 & 0 & 0 & 0 & 0 & 0 & 0 & 0 \\\\\n",
       "-18 & -20 & 5 & 2 & -8 & 0 & 20 & 19 & 0 & 0 & 1 & 0 & 0 & 0 & 0 & 0 & 0 & 0 & 0 & 0 & 0 & 0 & 0 & 0 & 0 & 0 & 0 & 0 & 0 & 0 & 0 & 0 & 0 \\\\\n",
       "-2 & -18 & -20 & 5 & -19 & -8 & 0 & 20 & 0 & 0 & 0 & 1 & 0 & 0 & 0 & 0 & 0 & 0 & 0 & 0 & 0 & 0 & 0 & 0 & 0 & 0 & 0 & 0 & 0 & 0 & 0 & 0 & 0 \\\\\n",
       "14 & 11 & 2 & 17 & 0 & 10 & 9 & 7 & 0 & 0 & 0 & 0 & 1 & 0 & 0 & 0 & 0 & 0 & 0 & 0 & 0 & 0 & 0 & 0 & 0 & 0 & 0 & 0 & 0 & 0 & 0 & 0 & 0 \\\\\n",
       "-17 & 14 & 11 & 2 & -7 & 0 & 10 & 9 & 0 & 0 & 0 & 0 & 0 & 1 & 0 & 0 & 0 & 0 & 0 & 0 & 0 & 0 & 0 & 0 & 0 & 0 & 0 & 0 & 0 & 0 & 0 & 0 & 0 \\\\\n",
       "-2 & -17 & 14 & 11 & -9 & -7 & 0 & 10 & 0 & 0 & 0 & 0 & 0 & 0 & 1 & 0 & 0 & 0 & 0 & 0 & 0 & 0 & 0 & 0 & 0 & 0 & 0 & 0 & 0 & 0 & 0 & 0 & 0 \\\\\n",
       "-11 & -2 & -17 & 14 & -10 & -9 & -7 & 0 & 0 & 0 & 0 & 0 & 0 & 0 & 0 & 1 & 0 & 0 & 0 & 0 & 0 & 0 & 0 & 0 & 0 & 0 & 0 & 0 & 0 & 0 & 0 & 0 & 0 \\\\\n",
       "1 & 0 & 0 & 0 & 0 & 0 & 0 & 0 & 0 & 0 & 0 & 0 & 0 & 0 & 0 & 0 & 1 & 0 & 0 & 0 & 0 & 0 & 0 & 0 & 0 & 0 & 0 & 0 & 0 & 0 & 0 & 0 & 0 \\\\\n",
       "0 & 1 & 0 & 0 & 0 & 0 & 0 & 0 & 0 & 0 & 0 & 0 & 0 & 0 & 0 & 0 & 0 & 1 & 0 & 0 & 0 & 0 & 0 & 0 & 0 & 0 & 0 & 0 & 0 & 0 & 0 & 0 & 0 \\\\\n",
       "0 & 0 & 1 & 0 & 0 & 0 & 0 & 0 & 0 & 0 & 0 & 0 & 0 & 0 & 0 & 0 & 0 & 0 & 1 & 0 & 0 & 0 & 0 & 0 & 0 & 0 & 0 & 0 & 0 & 0 & 0 & 0 & 0 \\\\\n",
       "0 & 0 & 0 & 1 & 0 & 0 & 0 & 0 & 0 & 0 & 0 & 0 & 0 & 0 & 0 & 0 & 0 & 0 & 0 & 1 & 0 & 0 & 0 & 0 & 0 & 0 & 0 & 0 & 0 & 0 & 0 & 0 & 0 \\\\\n",
       "0 & 0 & 0 & 0 & 1 & 0 & 0 & 0 & 0 & 0 & 0 & 0 & 0 & 0 & 0 & 0 & 0 & 0 & 0 & 0 & 1 & 0 & 0 & 0 & 0 & 0 & 0 & 0 & 0 & 0 & 0 & 0 & 0 \\\\\n",
       "0 & 0 & 0 & 0 & 0 & 1 & 0 & 0 & 0 & 0 & 0 & 0 & 0 & 0 & 0 & 0 & 0 & 0 & 0 & 0 & 0 & 1 & 0 & 0 & 0 & 0 & 0 & 0 & 0 & 0 & 0 & 0 & 0 \\\\\n",
       "0 & 0 & 0 & 0 & 0 & 0 & 1 & 0 & 0 & 0 & 0 & 0 & 0 & 0 & 0 & 0 & 0 & 0 & 0 & 0 & 0 & 0 & 1 & 0 & 0 & 0 & 0 & 0 & 0 & 0 & 0 & 0 & 0 \\\\\n",
       "0 & 0 & 0 & 0 & 0 & 0 & 0 & 1 & 0 & 0 & 0 & 0 & 0 & 0 & 0 & 0 & 0 & 0 & 0 & 0 & 0 & 0 & 0 & 1 & 0 & 0 & 0 & 0 & 0 & 0 & 0 & 0 & 0 \\\\\n",
       "-2 & -4 & -13 & -9 & -5 & 9 & -10 & -18 & 0 & 0 & 0 & 0 & 0 & 0 & 0 & 0 & 0 & 0 & 0 & 0 & 0 & 0 & 0 & 0 & 1 & 0 & 0 & 0 & 0 & 0 & 0 & 0 & 0 \\\\\n",
       "23 & 0 & 0 & 0 & 0 & 0 & 0 & 0 & 0 & 0 & 0 & 0 & 0 & 0 & 0 & 0 & 0 & 0 & 0 & 0 & 0 & 0 & 0 & 0 & 0 & 1 & 0 & 0 & 0 & 0 & 0 & 0 & 0 \\\\\n",
       "0 & 23 & 0 & 0 & 0 & 0 & 0 & 0 & 0 & 0 & 0 & 0 & 0 & 0 & 0 & 0 & 0 & 0 & 0 & 0 & 0 & 0 & 0 & 0 & 0 & 0 & 1 & 0 & 0 & 0 & 0 & 0 & 0 \\\\\n",
       "0 & 0 & 23 & 0 & 0 & 0 & 0 & 0 & 0 & 0 & 0 & 0 & 0 & 0 & 0 & 0 & 0 & 0 & 0 & 0 & 0 & 0 & 0 & 0 & 0 & 0 & 0 & 1 & 0 & 0 & 0 & 0 & 0 \\\\\n",
       "0 & 0 & 0 & 23 & 0 & 0 & 0 & 0 & 0 & 0 & 0 & 0 & 0 & 0 & 0 & 0 & 0 & 0 & 0 & 0 & 0 & 0 & 0 & 0 & 0 & 0 & 0 & 0 & 1 & 0 & 0 & 0 & 0 \\\\\n",
       "0 & 0 & 0 & 0 & 23 & 0 & 0 & 0 & 0 & 0 & 0 & 0 & 0 & 0 & 0 & 0 & 0 & 0 & 0 & 0 & 0 & 0 & 0 & 0 & 0 & 0 & 0 & 0 & 0 & 1 & 0 & 0 & 0 \\\\\n",
       "0 & 0 & 0 & 0 & 0 & 23 & 0 & 0 & 0 & 0 & 0 & 0 & 0 & 0 & 0 & 0 & 0 & 0 & 0 & 0 & 0 & 0 & 0 & 0 & 0 & 0 & 0 & 0 & 0 & 0 & 1 & 0 & 0 \\\\\n",
       "0 & 0 & 0 & 0 & 0 & 0 & 23 & 0 & 0 & 0 & 0 & 0 & 0 & 0 & 0 & 0 & 0 & 0 & 0 & 0 & 0 & 0 & 0 & 0 & 0 & 0 & 0 & 0 & 0 & 0 & 0 & 1 & 0 \\\\\n",
       "0 & 0 & 0 & 0 & 0 & 0 & 0 & 23 & 0 & 0 & 0 & 0 & 0 & 0 & 0 & 0 & 0 & 0 & 0 & 0 & 0 & 0 & 0 & 0 & 0 & 0 & 0 & 0 & 0 & 0 & 0 & 0 & 1\n",
       "\\end{array}\\right)"
      ]
     },
     "execution_count": 28,
     "metadata": {},
     "output_type": "execute_result"
    }
   ],
   "source": [
    "latex(M1)"
   ]
  },
  {
   "cell_type": "code",
   "execution_count": 29,
   "metadata": {},
   "outputs": [
    {
     "data": {
      "text/plain": [
       "matrix(ZZ, [[5, 2, 18, 20, 20, 19, 8, 0, 1, 0, 0, 0, 0, 0, 0, 0, 0, 0, 0, 0, 0, 0, 0, 0, 0, 0, 0, 0, 0, 0, 0, 0, 0], [-20, 5, 2, 18, 0, 20, 19, 8, 0, 1, 0, 0, 0, 0, 0, 0, 0, 0, 0, 0, 0, 0, 0, 0, 0, 0, 0, 0, 0, 0, 0, 0, 0], [-18, -20, 5, 2, -8, 0, 20, 19, 0, 0, 1, 0, 0, 0, 0, 0, 0, 0, 0, 0, 0, 0, 0, 0, 0, 0, 0, 0, 0, 0, 0, 0, 0], [-2, -18, -20, 5, -19, -8, 0, 20, 0, 0, 0, 1, 0, 0, 0, 0, 0, 0, 0, 0, 0, 0, 0, 0, 0, 0, 0, 0, 0, 0, 0, 0, 0], [14, 11, 2, 17, 0, 10, 9, 7, 0, 0, 0, 0, 1, 0, 0, 0, 0, 0, 0, 0, 0, 0, 0, 0, 0, 0, 0, 0, 0, 0, 0, 0, 0], [-17, 14, 11, 2, -7, 0, 10, 9, 0, 0, 0, 0, 0, 1, 0, 0, 0, 0, 0, 0, 0, 0, 0, 0, 0, 0, 0, 0, 0, 0, 0, 0, 0], [-2, -17, 14, 11, -9, -7, 0, 10, 0, 0, 0, 0, 0, 0, 1, 0, 0, 0, 0, 0, 0, 0, 0, 0, 0, 0, 0, 0, 0, 0, 0, 0, 0], [-11, -2, -17, 14, -10, -9, -7, 0, 0, 0, 0, 0, 0, 0, 0, 1, 0, 0, 0, 0, 0, 0, 0, 0, 0, 0, 0, 0, 0, 0, 0, 0, 0], [1, 0, 0, 0, 0, 0, 0, 0, 0, 0, 0, 0, 0, 0, 0, 0, 1, 0, 0, 0, 0, 0, 0, 0, 0, 0, 0, 0, 0, 0, 0, 0, 0], [0, 1, 0, 0, 0, 0, 0, 0, 0, 0, 0, 0, 0, 0, 0, 0, 0, 1, 0, 0, 0, 0, 0, 0, 0, 0, 0, 0, 0, 0, 0, 0, 0], [0, 0, 1, 0, 0, 0, 0, 0, 0, 0, 0, 0, 0, 0, 0, 0, 0, 0, 1, 0, 0, 0, 0, 0, 0, 0, 0, 0, 0, 0, 0, 0, 0], [0, 0, 0, 1, 0, 0, 0, 0, 0, 0, 0, 0, 0, 0, 0, 0, 0, 0, 0, 1, 0, 0, 0, 0, 0, 0, 0, 0, 0, 0, 0, 0, 0], [0, 0, 0, 0, 1, 0, 0, 0, 0, 0, 0, 0, 0, 0, 0, 0, 0, 0, 0, 0, 1, 0, 0, 0, 0, 0, 0, 0, 0, 0, 0, 0, 0], [0, 0, 0, 0, 0, 1, 0, 0, 0, 0, 0, 0, 0, 0, 0, 0, 0, 0, 0, 0, 0, 1, 0, 0, 0, 0, 0, 0, 0, 0, 0, 0, 0], [0, 0, 0, 0, 0, 0, 1, 0, 0, 0, 0, 0, 0, 0, 0, 0, 0, 0, 0, 0, 0, 0, 1, 0, 0, 0, 0, 0, 0, 0, 0, 0, 0], [0, 0, 0, 0, 0, 0, 0, 1, 0, 0, 0, 0, 0, 0, 0, 0, 0, 0, 0, 0, 0, 0, 0, 1, 0, 0, 0, 0, 0, 0, 0, 0, 0], [-2, -4, -13, -9, -5, 9, -10, -18, 0, 0, 0, 0, 0, 0, 0, 0, 0, 0, 0, 0, 0, 0, 0, 0, 1, 0, 0, 0, 0, 0, 0, 0, 0], [23, 0, 0, 0, 0, 0, 0, 0, 0, 0, 0, 0, 0, 0, 0, 0, 0, 0, 0, 0, 0, 0, 0, 0, 0, 1, 0, 0, 0, 0, 0, 0, 0], [0, 23, 0, 0, 0, 0, 0, 0, 0, 0, 0, 0, 0, 0, 0, 0, 0, 0, 0, 0, 0, 0, 0, 0, 0, 0, 1, 0, 0, 0, 0, 0, 0], [0, 0, 23, 0, 0, 0, 0, 0, 0, 0, 0, 0, 0, 0, 0, 0, 0, 0, 0, 0, 0, 0, 0, 0, 0, 0, 0, 1, 0, 0, 0, 0, 0], [0, 0, 0, 23, 0, 0, 0, 0, 0, 0, 0, 0, 0, 0, 0, 0, 0, 0, 0, 0, 0, 0, 0, 0, 0, 0, 0, 0, 1, 0, 0, 0, 0], [0, 0, 0, 0, 23, 0, 0, 0, 0, 0, 0, 0, 0, 0, 0, 0, 0, 0, 0, 0, 0, 0, 0, 0, 0, 0, 0, 0, 0, 1, 0, 0, 0], [0, 0, 0, 0, 0, 23, 0, 0, 0, 0, 0, 0, 0, 0, 0, 0, 0, 0, 0, 0, 0, 0, 0, 0, 0, 0, 0, 0, 0, 0, 1, 0, 0], [0, 0, 0, 0, 0, 0, 23, 0, 0, 0, 0, 0, 0, 0, 0, 0, 0, 0, 0, 0, 0, 0, 0, 0, 0, 0, 0, 0, 0, 0, 0, 1, 0], [0, 0, 0, 0, 0, 0, 0, 23, 0, 0, 0, 0, 0, 0, 0, 0, 0, 0, 0, 0, 0, 0, 0, 0, 0, 0, 0, 0, 0, 0, 0, 0, 1]])"
      ]
     },
     "execution_count": 29,
     "metadata": {},
     "output_type": "execute_result"
    }
   ],
   "source": [
    "sage_input(M1)"
   ]
  },
  {
   "cell_type": "code",
   "execution_count": 30,
   "metadata": {},
   "outputs": [
    {
     "data": {
      "text/plain": [
       "25 x 33 dense matrix over Integer Ring (use the '.str()' method to see the entries)"
      ]
     },
     "execution_count": 30,
     "metadata": {},
     "output_type": "execute_result"
    }
   ],
   "source": [
    "H1 = M1.hermite_form()\n",
    "H1 # The right side should be a transformation matrix (after some extra unnecessary but not harmful reduction)"
   ]
  },
  {
   "cell_type": "code",
   "execution_count": 31,
   "metadata": {},
   "outputs": [
    {
     "data": {
      "text/plain": [
       "\\left(\\begin{array}{rrrrrrrrrrrrrrrrrrrrrrrrrrrrrrrrr}\n",
       "1 & 0 & 0 & 0 & 0 & 0 & 0 & 0 & 0 & 0 & 0 & 0 & 0 & 0 & 0 & 0 & 0 & 21 & 5 & 7 & 9 & 16 & 18 & 14 & 11 & 1 & 1 & 6 & 4 & 2 & -5 & 4 & 8 \\\\\n",
       "0 & 1 & 0 & 0 & 0 & 0 & 0 & 0 & 0 & 0 & 0 & 0 & 0 & 0 & 0 & 0 & 0 & 1 & 0 & 0 & 0 & 0 & 0 & 0 & 0 & 0 & 0 & 0 & 0 & 0 & 0 & 0 & 0 \\\\\n",
       "0 & 0 & 1 & 0 & 0 & 0 & 0 & 0 & 0 & 0 & 0 & 0 & 0 & 0 & 0 & 0 & 0 & 0 & 1 & 0 & 0 & 0 & 0 & 0 & 0 & 0 & 0 & 0 & 0 & 0 & 0 & 0 & 0 \\\\\n",
       "0 & 0 & 0 & 1 & 0 & 0 & 0 & 0 & 0 & 0 & 0 & 0 & 0 & 0 & 0 & 0 & 0 & 0 & 0 & 1 & 0 & 0 & 0 & 0 & 0 & 0 & 0 & 0 & 0 & 0 & 0 & 0 & 0 \\\\\n",
       "0 & 0 & 0 & 0 & 1 & 0 & 0 & 0 & 0 & 0 & 0 & 0 & 0 & 0 & 0 & 0 & 0 & 0 & 0 & 0 & 1 & 0 & 0 & 0 & 0 & 0 & 0 & 0 & 0 & 0 & 0 & 0 & 0 \\\\\n",
       "0 & 0 & 0 & 0 & 0 & 1 & 0 & 0 & 0 & 0 & 0 & 0 & 0 & 0 & 0 & 0 & 0 & 0 & 0 & 0 & 0 & 1 & 0 & 0 & 0 & 0 & 0 & 0 & 0 & 0 & 0 & 0 & 0 \\\\\n",
       "0 & 0 & 0 & 0 & 0 & 0 & 1 & 0 & 0 & 0 & 0 & 0 & 0 & 0 & 0 & 0 & 0 & 0 & 0 & 0 & 0 & 0 & 1 & 0 & 0 & 0 & 0 & 0 & 0 & 0 & 0 & 0 & 0 \\\\\n",
       "0 & 0 & 0 & 0 & 0 & 0 & 0 & 1 & 0 & 0 & 0 & 0 & 0 & 0 & 0 & 0 & 0 & 0 & 0 & 0 & 0 & 0 & 0 & 1 & 0 & 0 & 0 & 0 & 0 & 0 & 0 & 0 & 0 \\\\\n",
       "0 & 0 & 0 & 0 & 0 & 0 & 0 & 0 & 1 & 0 & 0 & 0 & 0 & 0 & 0 & 0 & 0 & 8 & 3 & 14 & 4 & 16 & 17 & 22 & 14 & 1 & 2 & 7 & 4 & 2 & -7 & 5 & 10 \\\\\n",
       "0 & 0 & 0 & 0 & 0 & 0 & 0 & 0 & 0 & 1 & 0 & 0 & 0 & 0 & 0 & 0 & 0 & 1 & 6 & 7 & 19 & 1 & 19 & 19 & 13 & 2 & 2 & 7 & 4 & 2 & -6 & 4 & 9 \\\\\n",
       "0 & 0 & 0 & 0 & 0 & 0 & 0 & 0 & 0 & 0 & 1 & 0 & 0 & 0 & 0 & 0 & 0 & 7 & 16 & 9 & 9 & 12 & 5 & 3 & 14 & 2 & 3 & 7 & 5 & 3 & -6 & 5 & 10 \\\\\n",
       "0 & 0 & 0 & 0 & 0 & 0 & 0 & 0 & 0 & 0 & 0 & 1 & 0 & 0 & 0 & 0 & 0 & 14 & 7 & 9 & 14 & 17 & 13 & 8 & 22 & 2 & 4 & 13 & 8 & 5 & -9 & 9 & 16 \\\\\n",
       "0 & 0 & 0 & 0 & 0 & 0 & 0 & 0 & 0 & 0 & 0 & 0 & 1 & 0 & 0 & 0 & 0 & 17 & 20 & 0 & 12 & 19 & 15 & 4 & 7 & 0 & 0 & 3 & 2 & 1 & -4 & 2 & 5 \\\\\n",
       "0 & 0 & 0 & 0 & 0 & 0 & 0 & 0 & 0 & 0 & 0 & 0 & 0 & 1 & 0 & 0 & 0 & 21 & 5 & 2 & 22 & 19 & 20 & 22 & 3 & 1 & -1 & 1 & 1 & 0 & -2 & 0 & 1 \\\\\n",
       "0 & 0 & 0 & 0 & 0 & 0 & 0 & 0 & 0 & 0 & 0 & 0 & 0 & 0 & 1 & 0 & 0 & 13 & 19 & 3 & 4 & 16 & 13 & 18 & 22 & 2 & 4 & 11 & 8 & 5 & -9 & 9 & 16 \\\\\n",
       "0 & 0 & 0 & 0 & 0 & 0 & 0 & 0 & 0 & 0 & 0 & 0 & 0 & 0 & 0 & 1 & 0 & 3 & 3 & 17 & 17 & 1 & 21 & 16 & 6 & 1 & 1 & 4 & 1 & 1 & -2 & 2 & 4 \\\\\n",
       "0 & 0 & 0 & 0 & 0 & 0 & 0 & 0 & 0 & 0 & 0 & 0 & 0 & 0 & 0 & 0 & 1 & 2 & 18 & 16 & 14 & 7 & 5 & 9 & 12 & 1 & 2 & 6 & 4 & 2 & -5 & 5 & 9 \\\\\n",
       "0 & 0 & 0 & 0 & 0 & 0 & 0 & 0 & 0 & 0 & 0 & 0 & 0 & 0 & 0 & 0 & 0 & 23 & 0 & 0 & 0 & 0 & 0 & 0 & 0 & 0 & -1 & 0 & 0 & 0 & 0 & 0 & 0 \\\\\n",
       "0 & 0 & 0 & 0 & 0 & 0 & 0 & 0 & 0 & 0 & 0 & 0 & 0 & 0 & 0 & 0 & 0 & 0 & 23 & 0 & 0 & 0 & 0 & 0 & 0 & 0 & 0 & -1 & 0 & 0 & 0 & 0 & 0 \\\\\n",
       "0 & 0 & 0 & 0 & 0 & 0 & 0 & 0 & 0 & 0 & 0 & 0 & 0 & 0 & 0 & 0 & 0 & 0 & 0 & 23 & 0 & 0 & 0 & 0 & 0 & 0 & 0 & 0 & -1 & 0 & 0 & 0 & 0 \\\\\n",
       "0 & 0 & 0 & 0 & 0 & 0 & 0 & 0 & 0 & 0 & 0 & 0 & 0 & 0 & 0 & 0 & 0 & 0 & 0 & 0 & 23 & 0 & 0 & 0 & 0 & 0 & 0 & 0 & 0 & -1 & 0 & 0 & 0 \\\\\n",
       "0 & 0 & 0 & 0 & 0 & 0 & 0 & 0 & 0 & 0 & 0 & 0 & 0 & 0 & 0 & 0 & 0 & 0 & 0 & 0 & 0 & 23 & 0 & 0 & 0 & 0 & 0 & 0 & 0 & 0 & -1 & 0 & 0 \\\\\n",
       "0 & 0 & 0 & 0 & 0 & 0 & 0 & 0 & 0 & 0 & 0 & 0 & 0 & 0 & 0 & 0 & 0 & 0 & 0 & 0 & 0 & 0 & 23 & 0 & 0 & 0 & 0 & 0 & 0 & 0 & 0 & -1 & 0 \\\\\n",
       "0 & 0 & 0 & 0 & 0 & 0 & 0 & 0 & 0 & 0 & 0 & 0 & 0 & 0 & 0 & 0 & 0 & 0 & 0 & 0 & 0 & 0 & 0 & 23 & 0 & 0 & 0 & 0 & 0 & 0 & 0 & 0 & -1 \\\\\n",
       "0 & 0 & 0 & 0 & 0 & 0 & 0 & 0 & 0 & 0 & 0 & 0 & 0 & 0 & 0 & 0 & 0 & 0 & 0 & 0 & 0 & 0 & 0 & 0 & 23 & 2 & 4 & 13 & 9 & 5 & -9 & 10 & 18\n",
       "\\end{array}\\right)"
      ]
     },
     "execution_count": 31,
     "metadata": {},
     "output_type": "execute_result"
    }
   ],
   "source": [
    "latex(H1)"
   ]
  },
  {
   "cell_type": "code",
   "execution_count": 32,
   "metadata": {},
   "outputs": [
    {
     "data": {
      "text/plain": [
       "25 x 33 dense matrix over Integer Ring (use the '.str()' method to see the entries)"
      ]
     },
     "execution_count": 32,
     "metadata": {},
     "output_type": "execute_result"
    }
   ],
   "source": [
    "M.extended_echelon_form()"
   ]
  },
  {
   "cell_type": "code",
   "execution_count": 33,
   "metadata": {
    "scrolled": true
   },
   "outputs": [
    {
     "data": {
      "text/plain": [
       "[ 1  0  0  0  0  0  0  0  0  8  3 14  4 16 17 22 14  1  2  7  4  2 -7  5 10]\n",
       "[ 0  1  0  0  0  0  0  0  0  1  6  7 19  1 19 19 13  2  2  7  4  2 -6  4  9]\n",
       "[ 0  0  1  0  0  0  0  0  0  7 16  9  9 12  5  3 14  2  3  7  5  3 -6  5 10]\n",
       "[ 0  0  0  1  0  0  0  0  0 14  7  9 14 17 13  8 22  2  4 13  8  5 -9  9 16]\n",
       "[ 0  0  0  0  1  0  0  0  0 17 20  0 12 19 15  4  7  0  0  3  2  1 -4  2  5]\n",
       "[ 0  0  0  0  0  1  0  0  0 21  5  2 22 19 20 22  3  1 -1  1  1  0 -2  0  1]\n",
       "[ 0  0  0  0  0  0  1  0  0 13 19  3  4 16 13 18 22  2  4 11  8  5 -9  9 16]\n",
       "[ 0  0  0  0  0  0  0  1  0  3  3 17 17  1 21 16  6  1  1  4  1  1 -2  2  4]\n",
       "[ 0  0  0  0  0  0  0  0  1  2 18 16 14  7  5  9 12  1  2  6  4  2 -5  5  9]\n",
       "[ 0  0  0  0  0  0  0  0  0 23  0  0  0  0  0  0  0  0 -1  0  0  0  0  0  0]\n",
       "[ 0  0  0  0  0  0  0  0  0  0 23  0  0  0  0  0  0  0  0 -1  0  0  0  0  0]\n",
       "[ 0  0  0  0  0  0  0  0  0  0  0 23  0  0  0  0  0  0  0  0 -1  0  0  0  0]\n",
       "[ 0  0  0  0  0  0  0  0  0  0  0  0 23  0  0  0  0  0  0  0  0 -1  0  0  0]\n",
       "[ 0  0  0  0  0  0  0  0  0  0  0  0  0 23  0  0  0  0  0  0  0  0 -1  0  0]\n",
       "[ 0  0  0  0  0  0  0  0  0  0  0  0  0  0 23  0  0  0  0  0  0  0  0 -1  0]\n",
       "[ 0  0  0  0  0  0  0  0  0  0  0  0  0  0  0 23  0  0  0  0  0  0  0  0 -1]\n",
       "[ 0  0  0  0  0  0  0  0  0  0  0  0  0  0  0  0 23  2  4 13  9  5 -9 10 18]"
      ]
     },
     "execution_count": 33,
     "metadata": {},
     "output_type": "execute_result"
    }
   ],
   "source": [
    "N1 = H1.submatrix(8, 8)\n",
    "N1 # A basis for the kernel"
   ]
  },
  {
   "cell_type": "code",
   "execution_count": 34,
   "metadata": {},
   "outputs": [
    {
     "data": {
      "text/plain": [
       "\\left(\\begin{array}{rrrrrrrrrrrrrrrrrrrrrrrrr}\n",
       "1 & 0 & 0 & 0 & 0 & 0 & 0 & 0 & 0 & 8 & 3 & 14 & 4 & 16 & 17 & 22 & 14 & 1 & 2 & 7 & 4 & 2 & -7 & 5 & 10 \\\\\n",
       "0 & 1 & 0 & 0 & 0 & 0 & 0 & 0 & 0 & 1 & 6 & 7 & 19 & 1 & 19 & 19 & 13 & 2 & 2 & 7 & 4 & 2 & -6 & 4 & 9 \\\\\n",
       "0 & 0 & 1 & 0 & 0 & 0 & 0 & 0 & 0 & 7 & 16 & 9 & 9 & 12 & 5 & 3 & 14 & 2 & 3 & 7 & 5 & 3 & -6 & 5 & 10 \\\\\n",
       "0 & 0 & 0 & 1 & 0 & 0 & 0 & 0 & 0 & 14 & 7 & 9 & 14 & 17 & 13 & 8 & 22 & 2 & 4 & 13 & 8 & 5 & -9 & 9 & 16 \\\\\n",
       "0 & 0 & 0 & 0 & 1 & 0 & 0 & 0 & 0 & 17 & 20 & 0 & 12 & 19 & 15 & 4 & 7 & 0 & 0 & 3 & 2 & 1 & -4 & 2 & 5 \\\\\n",
       "0 & 0 & 0 & 0 & 0 & 1 & 0 & 0 & 0 & 21 & 5 & 2 & 22 & 19 & 20 & 22 & 3 & 1 & -1 & 1 & 1 & 0 & -2 & 0 & 1 \\\\\n",
       "0 & 0 & 0 & 0 & 0 & 0 & 1 & 0 & 0 & 13 & 19 & 3 & 4 & 16 & 13 & 18 & 22 & 2 & 4 & 11 & 8 & 5 & -9 & 9 & 16 \\\\\n",
       "0 & 0 & 0 & 0 & 0 & 0 & 0 & 1 & 0 & 3 & 3 & 17 & 17 & 1 & 21 & 16 & 6 & 1 & 1 & 4 & 1 & 1 & -2 & 2 & 4 \\\\\n",
       "0 & 0 & 0 & 0 & 0 & 0 & 0 & 0 & 1 & 2 & 18 & 16 & 14 & 7 & 5 & 9 & 12 & 1 & 2 & 6 & 4 & 2 & -5 & 5 & 9 \\\\\n",
       "0 & 0 & 0 & 0 & 0 & 0 & 0 & 0 & 0 & 23 & 0 & 0 & 0 & 0 & 0 & 0 & 0 & 0 & -1 & 0 & 0 & 0 & 0 & 0 & 0 \\\\\n",
       "0 & 0 & 0 & 0 & 0 & 0 & 0 & 0 & 0 & 0 & 23 & 0 & 0 & 0 & 0 & 0 & 0 & 0 & 0 & -1 & 0 & 0 & 0 & 0 & 0 \\\\\n",
       "0 & 0 & 0 & 0 & 0 & 0 & 0 & 0 & 0 & 0 & 0 & 23 & 0 & 0 & 0 & 0 & 0 & 0 & 0 & 0 & -1 & 0 & 0 & 0 & 0 \\\\\n",
       "0 & 0 & 0 & 0 & 0 & 0 & 0 & 0 & 0 & 0 & 0 & 0 & 23 & 0 & 0 & 0 & 0 & 0 & 0 & 0 & 0 & -1 & 0 & 0 & 0 \\\\\n",
       "0 & 0 & 0 & 0 & 0 & 0 & 0 & 0 & 0 & 0 & 0 & 0 & 0 & 23 & 0 & 0 & 0 & 0 & 0 & 0 & 0 & 0 & -1 & 0 & 0 \\\\\n",
       "0 & 0 & 0 & 0 & 0 & 0 & 0 & 0 & 0 & 0 & 0 & 0 & 0 & 0 & 23 & 0 & 0 & 0 & 0 & 0 & 0 & 0 & 0 & -1 & 0 \\\\\n",
       "0 & 0 & 0 & 0 & 0 & 0 & 0 & 0 & 0 & 0 & 0 & 0 & 0 & 0 & 0 & 23 & 0 & 0 & 0 & 0 & 0 & 0 & 0 & 0 & -1 \\\\\n",
       "0 & 0 & 0 & 0 & 0 & 0 & 0 & 0 & 0 & 0 & 0 & 0 & 0 & 0 & 0 & 0 & 23 & 2 & 4 & 13 & 9 & 5 & -9 & 10 & 18\n",
       "\\end{array}\\right)"
      ]
     },
     "execution_count": 34,
     "metadata": {},
     "output_type": "execute_result"
    }
   ],
   "source": [
    "latex(N1)"
   ]
  },
  {
   "cell_type": "code",
   "execution_count": 35,
   "metadata": {},
   "outputs": [
    {
     "data": {
      "text/plain": [
       "[ 0  0 -1  0  0 -1  0  1  1  0  0 -1  0  0  1  0  1 -1  0  2  0  0  0  2  2]\n",
       "[ 0 -1  0  1  0 -1  1 -1 -2 -2 -1  0  1 -2  2 -3 -2 -2  2 -1  0  0  2  0 -2]\n",
       "[ 0 -2  1 -1  1  0 -1  0  4  3  1  1 -2  1 -1  2 -1 -2 -1 -1  1 -1  1  0  0]\n",
       "[-1  2 -1 -1 -2  1  1  2  0  2 -1 -2  1  2  2  0 -1  4 -1  0 -1  1  1  0  0]\n",
       "[-2  4 -3 -1 -1  0  1  0  2 -1 -2 -1  1 -1 -1  1 -1  2 -3  0 -1  0 -1  0  1]\n",
       "[ 1  0  1 -1  0  1  0  1 -1  0  2 -6  1  1 -1  0  3  2  0  0  0  0 -2  0  2]\n",
       "[-2  0  0  0 -1  0  1 -2  2  1  0 -4  1  0  1  2 -1  0  1 -1  3  1  2  0 -1]\n",
       "[-2 -1  0  1  2  0  0 -1 -3 -1  1  1 -2  0  0  2 -1 -2  0  1  1  2  2  0 -2]\n",
       "[ 1  1 -3  2  0  1  0  0  5  1  1  2  1  0  0  0  0 -1 -2  1 -2  0 -1  1  0]\n",
       "[ 1  2 -2  0 -1  0  1  1  1 -3  3  0  1 -1  0  1 -1  1 -1 -1 -3 -1 -1  0  0]\n",
       "[-2  1  0 -3  0 -1  1  1 -1  5  1  0  0  1  1  0  1  1 -1  0  1  0  0  1  3]\n",
       "[ 1 -1 -2 -1  0  0  2 -1 -1  0 -2 -1 -1 -2 -2  0  0 -3 -1 -3  0 -2  0  2  2]\n",
       "[ 2  0  0  2 -1  1  2 -1 -1  0 -1 -2  0 -2 -4 -3  2  1  3 -1 -1  1 -1  0 -1]\n",
       "[ 1  0  0  1  2  2  0 -1 -2 -1 -2  1 -5  2  0  2  3  0 -1  0 -1  1 -3 -1  0]\n",
       "[ 1  2  1  1  0 -2  1  0  0  2  1 -1  2  2  0 -1  0  1  3  0 -3  0 -2 -2 -2]\n",
       "[ 2 -2  0  1 -1  0 -2 -1 -3 -1  1 -2 -3 -3  1  0  0 -2  0  0  2 -2  0  1  1]\n",
       "[-1  1  0 -2  3  0  2  1  0 -1 -2 -2  2 -5 -1 -1  3  0 -1  0 -2  1 -2  0  2]"
      ]
     },
     "execution_count": 35,
     "metadata": {},
     "output_type": "execute_result"
    }
   ],
   "source": [
    "N1.LLL()"
   ]
  },
  {
   "cell_type": "code",
   "execution_count": 36,
   "metadata": {},
   "outputs": [
    {
     "data": {
      "text/plain": [
       "\\left(\\begin{array}{rrrrrrrrrrrrrrrrrrrrrrrrr}\n",
       "0 & 0 & -1 & 0 & 0 & -1 & 0 & 1 & 1 & 0 & 0 & -1 & 0 & 0 & 1 & 0 & 1 & -1 & 0 & 2 & 0 & 0 & 0 & 2 & 2 \\\\\n",
       "0 & -1 & 0 & 1 & 0 & -1 & 1 & -1 & -2 & -2 & -1 & 0 & 1 & -2 & 2 & -3 & -2 & -2 & 2 & -1 & 0 & 0 & 2 & 0 & -2 \\\\\n",
       "0 & -2 & 1 & -1 & 1 & 0 & -1 & 0 & 4 & 3 & 1 & 1 & -2 & 1 & -1 & 2 & -1 & -2 & -1 & -1 & 1 & -1 & 1 & 0 & 0 \\\\\n",
       "-1 & 2 & -1 & -1 & -2 & 1 & 1 & 2 & 0 & 2 & -1 & -2 & 1 & 2 & 2 & 0 & -1 & 4 & -1 & 0 & -1 & 1 & 1 & 0 & 0 \\\\\n",
       "-2 & 4 & -3 & -1 & -1 & 0 & 1 & 0 & 2 & -1 & -2 & -1 & 1 & -1 & -1 & 1 & -1 & 2 & -3 & 0 & -1 & 0 & -1 & 0 & 1 \\\\\n",
       "1 & 0 & 1 & -1 & 0 & 1 & 0 & 1 & -1 & 0 & 2 & -6 & 1 & 1 & -1 & 0 & 3 & 2 & 0 & 0 & 0 & 0 & -2 & 0 & 2 \\\\\n",
       "-2 & 0 & 0 & 0 & -1 & 0 & 1 & -2 & 2 & 1 & 0 & -4 & 1 & 0 & 1 & 2 & -1 & 0 & 1 & -1 & 3 & 1 & 2 & 0 & -1 \\\\\n",
       "-2 & -1 & 0 & 1 & 2 & 0 & 0 & -1 & -3 & -1 & 1 & 1 & -2 & 0 & 0 & 2 & -1 & -2 & 0 & 1 & 1 & 2 & 2 & 0 & -2 \\\\\n",
       "1 & 1 & -3 & 2 & 0 & 1 & 0 & 0 & 5 & 1 & 1 & 2 & 1 & 0 & 0 & 0 & 0 & -1 & -2 & 1 & -2 & 0 & -1 & 1 & 0 \\\\\n",
       "1 & 2 & -2 & 0 & -1 & 0 & 1 & 1 & 1 & -3 & 3 & 0 & 1 & -1 & 0 & 1 & -1 & 1 & -1 & -1 & -3 & -1 & -1 & 0 & 0 \\\\\n",
       "-2 & 1 & 0 & -3 & 0 & -1 & 1 & 1 & -1 & 5 & 1 & 0 & 0 & 1 & 1 & 0 & 1 & 1 & -1 & 0 & 1 & 0 & 0 & 1 & 3 \\\\\n",
       "1 & -1 & -2 & -1 & 0 & 0 & 2 & -1 & -1 & 0 & -2 & -1 & -1 & -2 & -2 & 0 & 0 & -3 & -1 & -3 & 0 & -2 & 0 & 2 & 2 \\\\\n",
       "2 & 0 & 0 & 2 & -1 & 1 & 2 & -1 & -1 & 0 & -1 & -2 & 0 & -2 & -4 & -3 & 2 & 1 & 3 & -1 & -1 & 1 & -1 & 0 & -1 \\\\\n",
       "1 & 0 & 0 & 1 & 2 & 2 & 0 & -1 & -2 & -1 & -2 & 1 & -5 & 2 & 0 & 2 & 3 & 0 & -1 & 0 & -1 & 1 & -3 & -1 & 0 \\\\\n",
       "1 & 2 & 1 & 1 & 0 & -2 & 1 & 0 & 0 & 2 & 1 & -1 & 2 & 2 & 0 & -1 & 0 & 1 & 3 & 0 & -3 & 0 & -2 & -2 & -2 \\\\\n",
       "2 & -2 & 0 & 1 & -1 & 0 & -2 & -1 & -3 & -1 & 1 & -2 & -3 & -3 & 1 & 0 & 0 & -2 & 0 & 0 & 2 & -2 & 0 & 1 & 1 \\\\\n",
       "-1 & 1 & 0 & -2 & 3 & 0 & 2 & 1 & 0 & -1 & -2 & -2 & 2 & -5 & -1 & -1 & 3 & 0 & -1 & 0 & -2 & 1 & -2 & 0 & 2\n",
       "\\end{array}\\right)"
      ]
     },
     "execution_count": 36,
     "metadata": {},
     "output_type": "execute_result"
    }
   ],
   "source": [
    "latex(N1.LLL())"
   ]
  },
  {
   "cell_type": "code",
   "execution_count": 41,
   "metadata": {},
   "outputs": [
    {
     "data": {
      "text/plain": [
       "[ 0  0 -1  0  0 -1  0  1]"
      ]
     },
     "execution_count": 41,
     "metadata": {},
     "output_type": "execute_result"
    }
   ],
   "source": [
    "N1.LLL()[0:1, 0:8]"
   ]
  },
  {
   "cell_type": "code",
   "execution_count": 38,
   "metadata": {},
   "outputs": [
    {
     "data": {
      "text/plain": [
       "[   -x^2]\n",
       "[x^3 - x]"
      ]
     },
     "execution_count": 38,
     "metadata": {},
     "output_type": "execute_result"
    }
   ],
   "source": [
    "sx"
   ]
  },
  {
   "cell_type": "code",
   "execution_count": 40,
   "metadata": {},
   "outputs": [
    {
     "data": {
      "text/plain": [
       "[ 0  0 -1  0| 0 -1  0  1]"
      ]
     },
     "execution_count": 40,
     "metadata": {},
     "output_type": "execute_result"
    }
   ],
   "source": [
    "block_matrix([[matrix(1, 4, sx[0,0].padded_list(4)),\n",
    "                matrix(1, 4, sx[1,0].padded_list(4))]])\n"
   ]
  },
  {
   "cell_type": "markdown",
   "metadata": {},
   "source": [
    "The secret key is recovered."
   ]
  },
  {
   "cell_type": "code",
   "execution_count": null,
   "metadata": {},
   "outputs": [],
   "source": []
  }
 ],
 "metadata": {
  "kernelspec": {
   "display_name": "SageMath 9.3",
   "language": "sage",
   "name": "sagemath"
  },
  "language_info": {
   "codemirror_mode": {
    "name": "ipython",
    "version": 3
   },
   "file_extension": ".py",
   "mimetype": "text/x-python",
   "name": "python",
   "nbconvert_exporter": "python",
   "pygments_lexer": "ipython3",
   "version": "3.7.10"
  }
 },
 "nbformat": 4,
 "nbformat_minor": 4
}
