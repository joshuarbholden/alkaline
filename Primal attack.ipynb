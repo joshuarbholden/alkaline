{
 "cells": [
  {
   "cell_type": "markdown",
   "metadata": {},
   "source": [
    "Global setup\n"
   ]
  },
  {
   "cell_type": "code",
   "execution_count": 60,
   "metadata": {},
   "outputs": [],
   "source": [
    "n=4\n",
    "k=2\n",
    "q=41\n",
    "eta=2\n",
    "R.<x> = ZZ[]"
   ]
  },
  {
   "cell_type": "markdown",
   "metadata": {},
   "source": [
    "Bob's setup"
   ]
  },
  {
   "cell_type": "code",
   "execution_count": 61,
   "metadata": {},
   "outputs": [
    {
     "data": {
      "text/plain": [
       "[ 40*x^3 + 34*x^2 + 23*x + 2    x^3 + 34*x^2 + 39*x + 34]\n",
       "[38*x^3 + 13*x^2 + 28*x + 31  14*x^3 + 32*x^2 + 24*x + 8]"
      ]
     },
     "execution_count": 61,
     "metadata": {},
     "output_type": "execute_result"
    }
   ],
   "source": [
    "Ax = matrix([[randrange(0,q)*x^3+randrange(0,q)*x^2+randrange(0,q)*x+randrange(0,q), randrange(0,q)*x^3+randrange(0,q)*x^2+randrange(0,q)*x+randrange(0,q)], \n",
    "            [randrange(0,q)*x^3+randrange(0,q)*x^2+randrange(0,q)*x+randrange(0,q), randrange(0,q)*x^3+randrange(0,q)*x^2+randrange(0,q)*x+randrange(0,q)]])\n",
    "Ax  #public"
   ]
  },
  {
   "cell_type": "code",
   "execution_count": 62,
   "metadata": {},
   "outputs": [],
   "source": [
    "def binomial_centered():\n",
    "    a1=randrange(0,2)\n",
    "    a2=randrange(0,2)\n",
    "    b1=randrange(0,2)\n",
    "    b2=randrange(0,2)\n",
    "#    return a1+a2-b1-b2\n",
    "    return a1-b1\n",
    "    return 0"
   ]
  },
  {
   "cell_type": "code",
   "execution_count": 63,
   "metadata": {},
   "outputs": [
    {
     "data": {
      "text/plain": [
       "[x^3 + x^2]\n",
       "[ -x^3 - x]"
      ]
     },
     "execution_count": 63,
     "metadata": {},
     "output_type": "execute_result"
    }
   ],
   "source": [
    "sx = matrix([[binomial_centered()*x^3+binomial_centered()*x^2+binomial_centered()*x+binomial_centered()], \n",
    "            [binomial_centered()*x^3+binomial_centered()*x^2+binomial_centered()*x+binomial_centered()]])\n",
    "sx  #private"
   ]
  },
  {
   "cell_type": "code",
   "execution_count": 64,
   "metadata": {},
   "outputs": [
    {
     "data": {
      "text/plain": [
       "[          -x]\n",
       "[-x^3 - x + 1]"
      ]
     },
     "execution_count": 64,
     "metadata": {},
     "output_type": "execute_result"
    }
   ],
   "source": [
    "ex = matrix([[binomial_centered()*x^3+binomial_centered()*x^2+binomial_centered()*x+binomial_centered()], \n",
    "            [binomial_centered()*x^3+binomial_centered()*x^2+binomial_centered()*x+binomial_centered()]])\n",
    "ex #private"
   ]
  },
  {
   "cell_type": "code",
   "execution_count": 65,
   "metadata": {},
   "outputs": [
    {
     "data": {
      "text/plain": [
       "[ 39*x^3 + 6*x^2 + 7*x - 17]\n",
       "[18*x^3 - 17*x^2 - 28*x - 2]"
      ]
     },
     "execution_count": 65,
     "metadata": {},
     "output_type": "execute_result"
    }
   ],
   "source": [
    "tx = matrix(((Ax*sx + ex) % (x^n+1) % q))\n",
    "tx  #public"
   ]
  },
  {
   "cell_type": "markdown",
   "metadata": {},
   "source": [
    "**Matrices for lattice attack**\n"
   ]
  },
  {
   "cell_type": "code",
   "execution_count": 66,
   "metadata": {},
   "outputs": [],
   "source": [
    "def negacirculant(v):\n",
    "    Nshift = matrix([[0, 0, 0, -1],             #Negacyclic shift matrix\n",
    "                     [1, 0, 0, 0],\n",
    "                     [0, 1, 0, 0],\n",
    "                     [0, 0, 1, 0]])\n",
    "    return sum([v[i]*Nshift^i for i in range(0, len(v))])"
   ]
  },
  {
   "cell_type": "code",
   "execution_count": 67,
   "metadata": {},
   "outputs": [
    {
     "data": {
      "text/plain": [
       "[ 40*x^3 + 34*x^2 + 23*x + 2    x^3 + 34*x^2 + 39*x + 34]\n",
       "[38*x^3 + 13*x^2 + 28*x + 31  14*x^3 + 32*x^2 + 24*x + 8]"
      ]
     },
     "execution_count": 67,
     "metadata": {},
     "output_type": "execute_result"
    }
   ],
   "source": [
    "Ax"
   ]
  },
  {
   "cell_type": "code",
   "execution_count": 68,
   "metadata": {},
   "outputs": [
    {
     "data": {
      "text/plain": [
       "[  2 -40 -34 -23| 34  -1 -34 -39]\n",
       "[ 23   2 -40 -34| 39  34  -1 -34]\n",
       "[ 34  23   2 -40| 34  39  34  -1]\n",
       "[ 40  34  23   2|  1  34  39  34]\n",
       "[---------------+---------------]\n",
       "[ 31 -38 -13 -28|  8 -14 -32 -24]\n",
       "[ 28  31 -38 -13| 24   8 -14 -32]\n",
       "[ 13  28  31 -38| 32  24   8 -14]\n",
       "[ 38  13  28  31| 14  32  24   8]"
      ]
     },
     "execution_count": 68,
     "metadata": {},
     "output_type": "execute_result"
    }
   ],
   "source": [
    "A = block_matrix([[negacirculant(Ax[0,0].padded_list(4)), negacirculant(Ax[0,1].padded_list(4))], \n",
    "                  [negacirculant(Ax[1,0].padded_list(4)), negacirculant(Ax[1,1].padded_list(4))]])\n",
    "A"
   ]
  },
  {
   "cell_type": "code",
   "execution_count": 69,
   "metadata": {},
   "outputs": [
    {
     "data": {
      "text/plain": [
       "[ 39*x^3 + 6*x^2 + 7*x - 17]\n",
       "[18*x^3 - 17*x^2 - 28*x - 2]"
      ]
     },
     "execution_count": 69,
     "metadata": {},
     "output_type": "execute_result"
    }
   ],
   "source": [
    "tx"
   ]
  },
  {
   "cell_type": "code",
   "execution_count": 70,
   "metadata": {},
   "outputs": [
    {
     "data": {
      "text/plain": [
       "[-17]\n",
       "[  7]\n",
       "[  6]\n",
       "[ 39]\n",
       "[---]\n",
       "[ -2]\n",
       "[-28]\n",
       "[-17]\n",
       "[ 18]"
      ]
     },
     "execution_count": 70,
     "metadata": {},
     "output_type": "execute_result"
    }
   ],
   "source": [
    "t = block_matrix([[column_matrix(1, 4, tx[0,0].padded_list(4))],\n",
    "                [column_matrix(1, 4, tx[1,0].padded_list(4))]])\n",
    "t"
   ]
  },
  {
   "cell_type": "code",
   "execution_count": 71,
   "metadata": {},
   "outputs": [
    {
     "data": {
      "text/plain": [
       "[1 0 0 0 0 0 0 0]\n",
       "[0 1 0 0 0 0 0 0]\n",
       "[0 0 1 0 0 0 0 0]\n",
       "[0 0 0 1 0 0 0 0]\n",
       "[0 0 0 0 1 0 0 0]\n",
       "[0 0 0 0 0 1 0 0]\n",
       "[0 0 0 0 0 0 1 0]\n",
       "[0 0 0 0 0 0 0 1]"
      ]
     },
     "execution_count": 71,
     "metadata": {},
     "output_type": "execute_result"
    }
   ],
   "source": [
    "I8 = identity_matrix(8)\n",
    "I8"
   ]
  },
  {
   "cell_type": "markdown",
   "metadata": {},
   "source": [
    "**Eve's attack**\n",
    "\n",
    "Eve knows $A$ so she can set up $M$:"
   ]
  },
  {
   "cell_type": "code",
   "execution_count": 72,
   "metadata": {},
   "outputs": [
    {
     "data": {
      "text/plain": [
       "[  2 -40 -34 -23  34  -1 -34 -39|  1   0   0   0   0   0   0   0| 17| 41   0   0   0   0   0   0   0]\n",
       "[ 23   2 -40 -34  39  34  -1 -34|  0   1   0   0   0   0   0   0| -7|  0  41   0   0   0   0   0   0]\n",
       "[ 34  23   2 -40  34  39  34  -1|  0   0   1   0   0   0   0   0| -6|  0   0  41   0   0   0   0   0]\n",
       "[ 40  34  23   2   1  34  39  34|  0   0   0   1   0   0   0   0|-39|  0   0   0  41   0   0   0   0]\n",
       "[ 31 -38 -13 -28   8 -14 -32 -24|  0   0   0   0   1   0   0   0|  2|  0   0   0   0  41   0   0   0]\n",
       "[ 28  31 -38 -13  24   8 -14 -32|  0   0   0   0   0   1   0   0| 28|  0   0   0   0   0  41   0   0]\n",
       "[ 13  28  31 -38  32  24   8 -14|  0   0   0   0   0   0   1   0| 17|  0   0   0   0   0   0  41   0]\n",
       "[ 38  13  28  31  14  32  24   8|  0   0   0   0   0   0   0   1|-18|  0   0   0   0   0   0   0  41]"
      ]
     },
     "execution_count": 72,
     "metadata": {},
     "output_type": "execute_result"
    }
   ],
   "source": [
    "M = block_matrix([[A, I8, -t, q*I8]])\n",
    "M"
   ]
  },
  {
   "cell_type": "code",
   "execution_count": 73,
   "metadata": {},
   "outputs": [
    {
     "data": {
      "text/plain": [
       "[            1             0             0             0             1             0             1   47253723020    2672014319   -1418799032    -561637351    2868354327    -905235615     216648662      -6170328   -1217731533  -27070194676  109552587079  -58170760312  -23027131391  117602527407  -37114660215    8882595142    -252983448  -49926992853]\n",
       "[            0             1             0             0             0             1             2  183643487123   10384325209   -5513919012   -2182707204   11147366964   -3518042905     841967854     -23979921   -4732504675 -105203667140  425757333569 -226070679492  -89490995364  457042045524 -144239759105   34520682014    -983176761 -194032691675]\n",
       "[            0             0             1             0             1             0             1   70242356522    3971932166   -2109035671    -834870324    4263790330   -1345626942     322046848      -9172153   -1810150122  -40239670952  162849218806  -86470462511  -34229683284  174815403530  -55170704622   13203920768    -376058273  -74216155002]\n",
       "[            0             0             0             1             0             1             2  181683465401   10273493601   -5455069111   -2159411232   11028391433   -3480494933     832981555     -23723984   -4681994787 -104080831389  421213237641 -223657833551  -88535860512  452164048753 -142700292253   34152243755    -972683344 -191961786267]\n",
       "[            0             0             0             0             2             0             2  182710302220   10331557231   -5485900017   -2171615771   11090721587   -3500165960     837689392     -23858067   -4708456439 -104669074402  423593846471 -224921900697  -89036246611  454719585067 -143506804360   34345265072    -978180747 -193046713999]\n",
       "[            0             0             0             0             0             2             4  100437120862    5679328695   -3015637303   -1193752257    6096646609   -1924065514     460483671     -13114945   -2588271174  -57537316446  232852476495 -123641129423  -48943842537  249962510969  -78886686074   18879830511    -537712745 -106119118134]\n",
       "[            0             0             0             0             0             0             6   60083789178    3397504678   -1804023397    -714129978    3647153825   -1151020118     275471893      -7845661   -1548363177  -34420142285  139297691798  -73964959277  -29279329098  149533306825  -47191824838   11294347613    -321672101  -63482890257]\n",
       "[            0             0             0             0             0             0             0  184004235372   10404724120   -5524750524   -2186994902   11169264790   -3524953729     843621811     -24027027   -4741801181 -105410328641  426593688920 -226514771484  -89666790982  457939856390 -144523102889   34588494251    -985108107 -194413848421]"
      ]
     },
     "execution_count": 73,
     "metadata": {},
     "output_type": "execute_result"
    }
   ],
   "source": [
    "M.hermite_form()"
   ]
  },
  {
   "cell_type": "code",
   "execution_count": 74,
   "metadata": {},
   "outputs": [
    {
     "data": {
      "text/plain": [
       "('[1 0 0 0 0 0 0 0]\\n[0 1 0 0 0 0 0 0]\\n[0 0 1 0 0 0 0 0]\\n[0 0 0 1 0 0 0 0]\\n[0 0 0 0 1 0 0 0]\\n[0 0 0 0 0 1 0 0]\\n[0 0 0 0 0 0 1 0]\\n[0 0 0 0 0 0 0 1]\\n[0 0 0 0 0 0 0 0]\\n[0 0 0 0 0 0 0 0]\\n[0 0 0 0 0 0 0 0]\\n[0 0 0 0 0 0 0 0]\\n[0 0 0 0 0 0 0 0]\\n[0 0 0 0 0 0 0 0]\\n[0 0 0 0 0 0 0 0]\\n[0 0 0 0 0 0 0 0]\\n[0 0 0 0 0 0 0 0]\\n[0 0 0 0 0 0 0 0]\\n[0 0 0 0 0 0 0 0]\\n[0 0 0 0 0 0 0 0]\\n[0 0 0 0 0 0 0 0]\\n[0 0 0 0 0 0 0 0]\\n[0 0 0 0 0 0 0 0]\\n[0 0 0 0 0 0 0 0]\\n[0 0 0 0 0 0 0 0]',\n",
       " '[                        0                         0                         0                         0                         0                         0                         0                         0                         1                         0                         0                         0                         0                         0                         0                         0                         0                         0                         0                         0                         0                         0                         0                         0                         0]\\n[                        0                         0                         0                         0                         0                         0                         0                         0                         0                         1                         0                         0                         0                         0                         0                         0                         0                         0                         0                         0                         0                         0                         0                         0                         0]\\n[                        0                         0                         0                         0                         0                         0                         0                         0                         0                         0                         1                         0                         0                         0                         0                         0                         0                         0                         0                         0                         0                         0                         0                         0                         0]\\n[     -6904057135878216683       -835492317464653840      -9974047870178824335       9636400321518591956      76541857463034970199     -14987257908966462355     -37860564242817611833      71302536515050420148   -1260962670438969998307                         1                         1                         0                         0                         0                         0                         0                         0                         0                         0                         0                         0                         0                         0                         0                         0]\\n[                        0                         0                         0                         0                         0                         0                         0                         0                         0                         0                         0                         0                         1                         0                         0                         0                         0                         0                         0                         0                         0                         0                         0                         0                         0]\\n[                        0                         0                         0                         0                         0                         0                         0                         0                         0                         0                         0                         0                         0                         1                         0                         0                         0                         0                         0                         0                         0                         0                         0                         0                         0]\\n[     61022792751937998548       7384654201300527492      88157476698287727359     -85173116056481951546    -676529439558443390651     132467665794073526160     334637636941718206962    -630220727148131125680   11145253029013296890714                        -1                         0                         0                        -1                         0                         0                         0                         0                         0                         0                         0                         0                         0                         0                         0                         0]\\n[    -18312740640913059485      -2216110587743474263     -26455770598631090323      25560173724943228060     203024273453669175271     -39753113510475600383    -100423661023070621088     189127180227667193701   -3344654003748283799402                         0                         1                         0                         0                        -1                         0                         0                         0                         0                         0                         0                         0                         0                         0                         0                         0]\\n[                503732499                  60959031                 727724577                -703089201               -5584632395                1093497451                2762375262               -5202362060               92002117686                         0                         0                         0                         0                         0                         0                         0                         0                         0                         0                         0                         0                         0                         0                         0                         0]\\n[   -364247554579051170021     -44079304026120761019    -526215596781109065915     508401825618936249075    4038231992456178120170    -790704934178121853553   -1997465789899662152825    3761813387366605222182  -66526472780187990083388                         6                         0                         0                         0                         0                         0                         0                         0                         0                         0                         0                         0                         0                         0                         0                         0]\\n[    -35176131039899349841      -4256828508738497541     -50817716014601083909      49097403713700300683     389980319566768604821     -76359992068274154270    -192899355094991198832     363286009742962253923   -6424597487943650714630                        -2                         2                         0                         0                         0                         0                         0                         0                         0                         0                         0                         0                         0                         0                         0                         0]\\n[      6904057135878216683        835492317464653840       9974047870178824335      -9636400321518591956     -76541857463034970199      14987257908966462355      37860564242817611833     -71302536515050420148    1260962670438969998307                        -1                        -1                         1                         0                         0                         0                         0                         0                         0                         0                         0                         0                         0                         0                         0                         0]\\n[   -492597737678751145154     -59611561337218504734    -711638579990500352838     687547756967256419412    5461186818411860594229   -1069326222924681764655   -2701314303488978316699    5087366382810586588202  -89968455725501680045397                         6                         1                         0                         2                         0                         0                         0                         0                         0                         0                         0                         0                         0                         0                         0                         0]\\n[    114921472563977624889      13907186100758532792     166022998666674715601    -160402686908534066342   -1274077372089294468988     249470378749328951351     630207964571576120037   -1186866263211197176324   20989352214655281968035                         0                        -3                         0                         0                         2                         0                         0                         0                         0                         0                         0                         0                         0                         0                         0                         0]\\n[    -61022792751937998548      -7384654201300527492     -88157476698287727359      85173116056481951546     676529439558443390651    -132467665794073526160    -334637636941718206962     630220727148131125680  -11145253029013296890714                         1                         0                         0                         1                         0                         1                         0                         0                         0                         0                         0                         0                         0                         0                         0                         0]\\n[     18312740640913059485       2216110587743474263      26455770598631090323     -25560173724943228060    -203024273453669175271      39753113510475600383     100423661023070621088    -189127180227667193701    3344654003748283799402                         0                        -1                         0                         0                         1                         0                         1                         0                         0                         0                         0                         0                         0                         0                         0                         0]\\n[  -1636275036618631496683    -198013312382613003858   -2363868841583225139982    2283845712548396367646   18140569835717946633706   -3552009420137502783459   -8973027731894367559425   16898840529703205008950 -298850617707814985465364                        63                        63                         0                        15                       -46                         0                         0                         1                         0                         0                         0                         0                         0                         0                         0                         0]\\n[                        0                         0                         0                         0                         0                         0                         0                         0                       -41                         0                         0                         0                         0                         0                         0                         0                         0                         1                         0                         0                         0                         0                         0                         0                         0]\\n[                        0                         0                         0                         0                         0                         0                         0                         0                         0                       -41                         0                         0                         0                         0                         0                         0                         0                         0                         1                         0                         0                         0                         0                         0                         0]\\n[                        0                         0                         0                         0                         0                         0                         0                         0                         0                         0                       -41                         0                         0                         0                         0                         0                         0                         0                         0                         1                         0                         0                         0                         0                         0]\\n[    283066342571006884003      34255185016050807440     408935962677331797735    -395092413182262270196   -3138216155984433778159     614477574267624956555    1552283133955522085153   -2923403997117067226068   51699469487997769930587                       -41                       -41                         0                         0                         0                         0                         0                         0                         0                         0                         0                         1                         0                         0                         0                         0]\\n[                        0                         0                         0                         0                         0                         0                         0                         0                         0                         0                         0                         0                       -41                         0                         0                         0                         0                         0                         0                         0                         0                         1                         0                         0                         0]\\n[                        0                         0                         0                         0                         0                         0                         0                         0                         0                         0                         0                         0                         0                       -41                         0                         0                         0                         0                         0                         0                         0                         0                         1                         0                         0]\\n[  -2501934502829457940468    -302770822253321627172   -3614456544629796821719    3492097758315760013386   27737707021896179016691   -5431174297557014572560  -13720143114610446485442   25839049813073376152880 -456955374189545172519274                        41                         0                         0                        41                         0                         0                         0                         0                         0                         0                         0                         0                         0                         0                         1                         0]\\n[    750822366277435438885      90860534097482444783    1084686594543874703243   -1047967122722672350460   -8323995211600436186111    1629877653929499615703    4117370101945895464608   -7754214389334354941741  137130814153679635775482                         0                       -41                         0                         0                        41                         0                         0                         0                         0                         0                         0                         0                         0                         0                         0                         1]')"
      ]
     },
     "execution_count": 74,
     "metadata": {},
     "output_type": "execute_result"
    }
   ],
   "source": [
    "A, U = M.transpose().hermite_form(transformation = true)\n",
    "A.str(), U.str()"
   ]
  },
  {
   "cell_type": "code",
   "execution_count": 75,
   "metadata": {},
   "outputs": [
    {
     "data": {
      "text/plain": [
       "Free module of degree 25 and rank 17 over Integer Ring\n",
       "Echelon basis matrix:\n",
       "[  1   0   0   0   0   0   0   0   0  22  28  35   3  38  30  25  24 -10   3   2  21  -2 -18 -11   9]\n",
       "[  0   1   0   0   0   0   0   0   0   0   8  24  14   2  14  39  12  -4   2   1  10   0  -9  -6   4]\n",
       "[  0   0   1   0   0   0   0   0   0  13  10  14   9  23  17   8   2   0   1   0   1   0  -1  -2   0]\n",
       "[  0   0   0   1   0   0   0   0   0  29  24  17   6  33  15   3  11  -4   2   2  10   0  -8  -4   4]\n",
       "[  0   0   0   0   1   0   0   0   0  29  36   3  37  32   2  32  39 -17   5   4  37  -3 -28 -17  16]\n",
       "[  0   0   0   0   0   1   0   0   0   5  12  31  38   0  16  39  29 -12   4   3  26  -2 -20 -13  11]\n",
       "[  0   0   0   0   0   0   1   0   0  15  19  39  28  40  40  12   2   0   0  -1   0   0  -2  -2   0]\n",
       "[  0   0   0   0   0   0   0   1   0  38  22   0  17  16  16  14  24  -9   4   3  22  -1 -16 -10  10]\n",
       "[  0   0   0   0   0   0   0   0   1   2  31  17  17  33   1  11  12  -5   2   1  11  -1  -9  -5   5]\n",
       "[  0   0   0   0   0   0   0   0   0  41   0   0   0   0   0   0   0   0  -1   0   0   0   0   0   0]\n",
       "[  0   0   0   0   0   0   0   0   0   0  41   0   0   0   0   0   0   0   0  -1   0   0   0   0   0]\n",
       "[  0   0   0   0   0   0   0   0   0   0   0  41   0   0   0   0   0   0   0   0  -1   0   0   0   0]\n",
       "[  0   0   0   0   0   0   0   0   0   0   0   0  41   0   0   0   0   0   0   0   0  -1   0   0   0]\n",
       "[  0   0   0   0   0   0   0   0   0   0   0   0   0  41   0   0   0   0   0   0   0   0  -1   0   0]\n",
       "[  0   0   0   0   0   0   0   0   0   0   0   0   0   0  41   0   0   0   0   0   0   0   0  -1   0]\n",
       "[  0   0   0   0   0   0   0   0   0   0   0   0   0   0   0  41   0   0   0   0   0   0   0   0  -1]\n",
       "[  0   0   0   0   0   0   0   0   0   0   0   0   0   0   0   0  41 -17   7   6  39  -2 -28 -17  18]"
      ]
     },
     "execution_count": 75,
     "metadata": {},
     "output_type": "execute_result"
    }
   ],
   "source": [
    "M.right_kernel()"
   ]
  },
  {
   "cell_type": "code",
   "execution_count": 76,
   "metadata": {},
   "outputs": [
    {
     "data": {
      "text/plain": [
       "[ 0  0 -1 -1  0  1  0  1  0  1  0  0 -1  1  0  1 -1  0 -2 -2 -2  0  0  0  0]\n",
       "[-2  0  1 -1  0 -1  1 -3 -1 -2  4  0  1 -4 -1 -2 -4  0 -1  0  0  0  3  0  1]\n",
       "[-4  0  1  0  0  5 -2 -1 -2  1  0 -1 -2 -4  2  2 -1 -1 -2  0  1  3  2 -2  0]\n",
       "[ 0  0  0 -2 -1 -2  3 -1  1 -6 -1 -6  0 -2  0 -1 -2  2  0 -2 -2  0  2  0  1]\n",
       "[-2  2  2  0  2  4 -6  3  1  4  1  1  2  2  2 -1  0  0  0  0 -1  2  0 -4 -1]\n",
       "[-1 -2  1  0  1 -1  5 -1 -6 -1  0 -4 -2 -1  0  1  1  1  1 -2  0  2  3 -1 -1]\n",
       "[ 1 -2  1  0  2  0 -1  1  2 -3 -5  2 -1 -1  1  2  3 -4  0  0  3 -3 -1 -2  0]\n",
       "[ 1  0  0 -1  4 -3  0  4 -1 -2  5  2  0  0 -3 -4  2 -1  1 -2  0 -1 -1 -2  1]\n",
       "[ 0  0 -1  0  0 -1  3 -3  1 -3  0  7  3  0 -1 -1 -3  0 -3 -2 -2  0  0  1 -1]\n",
       "[ 0  0 -1  0  1 -4  1  0 -4  3 -4  0  0 -1 -2  0 -2  0  1  2  1 -1  1  3  2]\n",
       "[-2 -3 -1  3 -1  3  4 -3 -1  1  2  1  0  0  1 -4  1 -1 -1  1  2  3  2  3 -2]\n",
       "[-3 -2  2  2  4  4 -2  1  2  2  1  1  1  1 -3  1  0 -3 -1  0  1  2  3 -2 -3]\n",
       "[ 0 -1  2  0  2 -2  3 -2 -1  0  1  7 -6 -1 -3  1 -1  0  0 -2 -1  0  2 -2 -2]\n",
       "[-2  3 -1  2  2  0 -4  0  0 -1  2 -5  1  0  3 -1 -4  0 -1  3  0  2 -1  2  0]\n",
       "[-1 -1 -1  1  1  3  0  2  5  1  3  2  4 -6  0 -1  2 -1 -1 -1  0  2  0  0 -1]\n",
       "[-2 -2 -2 -1  2 -2  4  3 -1 -2  2  2  4 -2  1  0  1  0  1 -1  1  2  3  2  3]\n",
       "[-1 -1  1  2  0  3 -1  2  0  2  1  2  1  0  2  1 -2  3  2  1 -4  3  5  2 -4]"
      ]
     },
     "execution_count": 76,
     "metadata": {},
     "output_type": "execute_result"
    }
   ],
   "source": [
    "M.right_kernel_matrix(basis='LLL')"
   ]
  },
  {
   "cell_type": "code",
   "execution_count": 77,
   "metadata": {},
   "outputs": [
    {
     "data": {
      "text/plain": [
       "[ 0]\n",
       "[ 0]\n",
       "[ 1]\n",
       "[ 1]\n",
       "[--]\n",
       "[ 0]\n",
       "[-1]\n",
       "[ 0]\n",
       "[-1]"
      ]
     },
     "execution_count": 77,
     "metadata": {},
     "output_type": "execute_result"
    }
   ],
   "source": [
    "s = block_matrix([[column_matrix(1, 4, sx[0,0].padded_list(4))],\n",
    "                [column_matrix(1, 4, sx[1,0].padded_list(4))]])\n",
    "s"
   ]
  },
  {
   "cell_type": "code",
   "execution_count": 78,
   "metadata": {},
   "outputs": [
    {
     "data": {
      "text/plain": [
       "[ 0]\n",
       "[-1]\n",
       "[ 0]\n",
       "[ 0]\n",
       "[--]\n",
       "[ 1]\n",
       "[-1]\n",
       "[ 0]\n",
       "[-1]"
      ]
     },
     "execution_count": 78,
     "metadata": {},
     "output_type": "execute_result"
    }
   ],
   "source": [
    "e = block_matrix([[column_matrix(1, 4, ex[0,0].padded_list(4))],\n",
    "                [column_matrix(1, 4, ex[1,0].padded_list(4))]])\n",
    "e"
   ]
  },
  {
   "cell_type": "code",
   "execution_count": 79,
   "metadata": {},
   "outputs": [
    {
     "data": {
      "text/plain": [
       "[1]"
      ]
     },
     "execution_count": 79,
     "metadata": {},
     "output_type": "execute_result"
    }
   ],
   "source": [
    "matrix([1])"
   ]
  },
  {
   "cell_type": "code",
   "execution_count": 80,
   "metadata": {},
   "outputs": [
    {
     "data": {
      "text/plain": [
       "'[1]'"
      ]
     },
     "execution_count": 80,
     "metadata": {},
     "output_type": "execute_result"
    }
   ],
   "source": [
    "block_matrix([[s], [e], [matrix([1])], [matrix([[0],[0],[0],[0],[0],[0],[0],[0]])]])\n",
    "_.str()"
   ]
  },
  {
   "cell_type": "code",
   "execution_count": 89,
   "metadata": {},
   "outputs": [
    {
     "data": {
      "text/plain": [
       "[0]\n",
       "[0]\n",
       "[0]\n",
       "[0]\n",
       "[0]\n",
       "[0]\n",
       "[0]\n",
       "[0]"
      ]
     },
     "execution_count": 89,
     "metadata": {},
     "output_type": "execute_result"
    }
   ],
   "source": [
    "M*block_matrix([[s], [e], [matrix([1])], [matrix([[0],[2],[2],[2],[0],[0],[0],[0]])]])"
   ]
  },
  {
   "cell_type": "code",
   "execution_count": null,
   "metadata": {},
   "outputs": [],
   "source": []
  },
  {
   "cell_type": "code",
   "execution_count": 82,
   "metadata": {},
   "outputs": [
    {
     "data": {
      "text/plain": [
       "[ 19  -8  29  13  -4  -1   6  29   1  -1   0   1   0   0   0   0 -15  41 -41   0  41   0   0   0   0]\n",
       "[  8 -29 -13  19   1  -6 -29  -4   1   0  -1   1   0   0   0   0 -16  41   0 -41  41   0   0   0   0]\n",
       "[ 29   2  21  -5 -26 -13   2  15  -1   0   0   0   1   0   0   0 -15 -41   0   0   0  41   0   0   0]\n",
       "[ 31 -38 -13 -28   8 -14 -32 -24   0   0   0   0   1   0   0   0   2   0   0   0   0  41   0   0   0]\n",
       "[ 42  -6 -11 -21  35  33   5  -5   1   0   0   1   0   0   0   0 -22  41   0   0  41   0   0   0   0]\n",
       "[ -2 -21   5  29  13  -2 -15 -26   0   0   0  -1   0   0   0   1  21   0   0   0 -41   0   0   0  41]\n",
       "[-21   5  29   2  -2 -15 -26 -13   0   0  -1   0   0   0   1   0  23   0   0 -41   0   0   0  41   0]\n",
       "[ 28  31 -38 -13  24   8 -14 -32   0   0   0   0   0   1   0   0  28   0   0   0   0   0  41   0   0]"
      ]
     },
     "execution_count": 82,
     "metadata": {},
     "output_type": "execute_result"
    }
   ],
   "source": [
    "B, Transform = M.LLL(transformation=true)\n",
    "B"
   ]
  },
  {
   "cell_type": "code",
   "execution_count": 83,
   "metadata": {},
   "outputs": [
    {
     "data": {
      "text/plain": [
       "[ 1 -1  0  1  0  0  0  0]\n",
       "[ 1  0 -1  1  0  0  0  0]\n",
       "[-1  0  0  0  1  0  0  0]\n",
       "[ 0  0  0  0  1  0  0  0]\n",
       "[ 1  0  0  1  0  0  0  0]\n",
       "[ 0  0  0 -1  0  0  0  1]\n",
       "[ 0  0 -1  0  0  0  1  0]\n",
       "[ 0  0  0  0  0  1  0  0]"
      ]
     },
     "execution_count": 83,
     "metadata": {},
     "output_type": "execute_result"
    }
   ],
   "source": [
    "Transform"
   ]
  },
  {
   "cell_type": "code",
   "execution_count": 84,
   "metadata": {},
   "outputs": [
    {
     "data": {
      "text/plain": [
       "-1"
      ]
     },
     "execution_count": 84,
     "metadata": {},
     "output_type": "execute_result"
    }
   ],
   "source": [
    "Transform.determinant()"
   ]
  },
  {
   "cell_type": "code",
   "execution_count": 85,
   "metadata": {},
   "outputs": [
    {
     "data": {
      "text/plain": [
       "True"
      ]
     },
     "execution_count": 85,
     "metadata": {},
     "output_type": "execute_result"
    }
   ],
   "source": [
    "Transform*M == B"
   ]
  },
  {
   "cell_type": "markdown",
   "metadata": {},
   "source": [
    "Solve $M\\mathbf{x} = \\mathbf{t}$"
   ]
  },
  {
   "cell_type": "code",
   "execution_count": 86,
   "metadata": {},
   "outputs": [
    {
     "ename": "ValueError",
     "evalue": "number of columns of self must equal number of columns of right-hand side",
     "output_type": "error",
     "traceback": [
      "\u001b[0;31m---------------------------------------------------------------------------\u001b[0m",
      "\u001b[0;31mValueError\u001b[0m                                Traceback (most recent call last)",
      "\u001b[0;32m/opt/sagemath-9.3/local/lib/python3.7/site-packages/sage/matrix/matrix2.pyx\u001b[0m in \u001b[0;36msage.matrix.matrix2.Matrix.solve_left (build/cythonized/sage/matrix/matrix2.c:6508)\u001b[0;34m()\u001b[0m\n\u001b[1;32m    409\u001b[0m             \u001b[0;32mtry\u001b[0m\u001b[0;34m:\u001b[0m\u001b[0;34m\u001b[0m\u001b[0;34m\u001b[0m\u001b[0m\n\u001b[0;32m--> 410\u001b[0;31m                 \u001b[0;32mreturn\u001b[0m \u001b[0mself\u001b[0m\u001b[0;34m.\u001b[0m\u001b[0mtranspose\u001b[0m\u001b[0;34m(\u001b[0m\u001b[0;34m)\u001b[0m\u001b[0;34m.\u001b[0m\u001b[0msolve_right\u001b[0m\u001b[0;34m(\u001b[0m\u001b[0mB\u001b[0m\u001b[0;34m.\u001b[0m\u001b[0mtranspose\u001b[0m\u001b[0;34m(\u001b[0m\u001b[0;34m)\u001b[0m\u001b[0;34m,\u001b[0m \u001b[0mcheck\u001b[0m\u001b[0;34m=\u001b[0m\u001b[0mcheck\u001b[0m\u001b[0;34m)\u001b[0m\u001b[0;34m.\u001b[0m\u001b[0mtranspose\u001b[0m\u001b[0;34m(\u001b[0m\u001b[0;34m)\u001b[0m\u001b[0;34m\u001b[0m\u001b[0;34m\u001b[0m\u001b[0m\n\u001b[0m\u001b[1;32m    411\u001b[0m             \u001b[0;32mexcept\u001b[0m \u001b[0mValueError\u001b[0m \u001b[0;32mas\u001b[0m \u001b[0me\u001b[0m\u001b[0;34m:\u001b[0m\u001b[0;34m\u001b[0m\u001b[0;34m\u001b[0m\u001b[0m\n",
      "\u001b[0;32m/opt/sagemath-9.3/local/lib/python3.7/site-packages/sage/matrix/matrix2.pyx\u001b[0m in \u001b[0;36msage.matrix.matrix2.Matrix.solve_right (build/cythonized/sage/matrix/matrix2.c:7162)\u001b[0;34m()\u001b[0m\n\u001b[1;32m    802\u001b[0m             \u001b[0;32mif\u001b[0m \u001b[0mself\u001b[0m\u001b[0;34m.\u001b[0m\u001b[0mnrows\u001b[0m\u001b[0;34m(\u001b[0m\u001b[0;34m)\u001b[0m \u001b[0;34m!=\u001b[0m \u001b[0mB\u001b[0m\u001b[0;34m.\u001b[0m\u001b[0mnrows\u001b[0m\u001b[0;34m(\u001b[0m\u001b[0;34m)\u001b[0m\u001b[0;34m:\u001b[0m\u001b[0;34m\u001b[0m\u001b[0;34m\u001b[0m\u001b[0m\n\u001b[0;32m--> 803\u001b[0;31m                 raise ValueError(\"number of rows of self must equal \"\n\u001b[0m\u001b[1;32m    804\u001b[0m                                  \"number of rows of right-hand side\")\n",
      "\u001b[0;31mValueError\u001b[0m: number of rows of self must equal number of rows of right-hand side",
      "\nDuring handling of the above exception, another exception occurred:\n",
      "\u001b[0;31mValueError\u001b[0m                                Traceback (most recent call last)",
      "\u001b[0;32m<ipython-input-86-89a0f5a117fe>\u001b[0m in \u001b[0;36m<module>\u001b[0;34m\u001b[0m\n\u001b[0;32m----> 1\u001b[0;31m \u001b[0mxvector\u001b[0m \u001b[0;34m=\u001b[0m \u001b[0mB\u001b[0m\u001b[0;34m.\u001b[0m\u001b[0msolve_left\u001b[0m\u001b[0;34m(\u001b[0m\u001b[0mt\u001b[0m\u001b[0;34m.\u001b[0m\u001b[0mtranspose\u001b[0m\u001b[0;34m(\u001b[0m\u001b[0;34m)\u001b[0m\u001b[0;34m)\u001b[0m\u001b[0;34m\u001b[0m\u001b[0;34m\u001b[0m\u001b[0m\n\u001b[0m\u001b[1;32m      2\u001b[0m \u001b[0mxvector\u001b[0m\u001b[0;34m\u001b[0m\u001b[0;34m\u001b[0m\u001b[0m\n",
      "\u001b[0;32m/opt/sagemath-9.3/local/lib/python3.7/site-packages/sage/matrix/matrix2.pyx\u001b[0m in \u001b[0;36msage.matrix.matrix2.Matrix.solve_left (build/cythonized/sage/matrix/matrix2.c:6588)\u001b[0;34m()\u001b[0m\n\u001b[1;32m    410\u001b[0m                 \u001b[0;32mreturn\u001b[0m \u001b[0mself\u001b[0m\u001b[0;34m.\u001b[0m\u001b[0mtranspose\u001b[0m\u001b[0;34m(\u001b[0m\u001b[0;34m)\u001b[0m\u001b[0;34m.\u001b[0m\u001b[0msolve_right\u001b[0m\u001b[0;34m(\u001b[0m\u001b[0mB\u001b[0m\u001b[0;34m.\u001b[0m\u001b[0mtranspose\u001b[0m\u001b[0;34m(\u001b[0m\u001b[0;34m)\u001b[0m\u001b[0;34m,\u001b[0m \u001b[0mcheck\u001b[0m\u001b[0;34m=\u001b[0m\u001b[0mcheck\u001b[0m\u001b[0;34m)\u001b[0m\u001b[0;34m.\u001b[0m\u001b[0mtranspose\u001b[0m\u001b[0;34m(\u001b[0m\u001b[0;34m)\u001b[0m\u001b[0;34m\u001b[0m\u001b[0;34m\u001b[0m\u001b[0m\n\u001b[1;32m    411\u001b[0m             \u001b[0;32mexcept\u001b[0m \u001b[0mValueError\u001b[0m \u001b[0;32mas\u001b[0m \u001b[0me\u001b[0m\u001b[0;34m:\u001b[0m\u001b[0;34m\u001b[0m\u001b[0;34m\u001b[0m\u001b[0m\n\u001b[0;32m--> 412\u001b[0;31m                 \u001b[0;32mraise\u001b[0m \u001b[0mValueError\u001b[0m\u001b[0;34m(\u001b[0m\u001b[0mstr\u001b[0m\u001b[0;34m(\u001b[0m\u001b[0me\u001b[0m\u001b[0;34m)\u001b[0m\u001b[0;34m.\u001b[0m\u001b[0mreplace\u001b[0m\u001b[0;34m(\u001b[0m\u001b[0;34m'row'\u001b[0m\u001b[0;34m,\u001b[0m \u001b[0;34m'column'\u001b[0m\u001b[0;34m)\u001b[0m\u001b[0;34m)\u001b[0m\u001b[0;34m\u001b[0m\u001b[0;34m\u001b[0m\u001b[0m\n\u001b[0m\u001b[1;32m    413\u001b[0m \u001b[0;34m\u001b[0m\u001b[0m\n\u001b[1;32m    414\u001b[0m     \u001b[0;32mdef\u001b[0m \u001b[0msolve_right\u001b[0m\u001b[0;34m(\u001b[0m\u001b[0mself\u001b[0m\u001b[0;34m,\u001b[0m \u001b[0mB\u001b[0m\u001b[0;34m,\u001b[0m \u001b[0mcheck\u001b[0m\u001b[0;34m=\u001b[0m\u001b[0;32mTrue\u001b[0m\u001b[0;34m)\u001b[0m\u001b[0;34m:\u001b[0m\u001b[0;34m\u001b[0m\u001b[0;34m\u001b[0m\u001b[0m\n",
      "\u001b[0;31mValueError\u001b[0m: number of columns of self must equal number of columns of right-hand side"
     ]
    }
   ],
   "source": [
    "xvector = B.solve_left(t.transpose())\n",
    "xvector"
   ]
  },
  {
   "cell_type": "code",
   "execution_count": null,
   "metadata": {},
   "outputs": [],
   "source": [
    "xhat = xvector.apply_map(round, R=ZZ)\n",
    "xhat"
   ]
  },
  {
   "cell_type": "code",
   "execution_count": null,
   "metadata": {},
   "outputs": [],
   "source": [
    "xhat*Transform % q"
   ]
  },
  {
   "cell_type": "code",
   "execution_count": null,
   "metadata": {},
   "outputs": [],
   "source": [
    "that = xhat*B\n",
    "that"
   ]
  },
  {
   "cell_type": "code",
   "execution_count": null,
   "metadata": {},
   "outputs": [],
   "source": [
    "t.transpose()-that"
   ]
  },
  {
   "cell_type": "markdown",
   "metadata": {},
   "source": [
    "Solve $B\\hat{\\mathbf{s}} = \\hat{\\mathbf{t}}$"
   ]
  },
  {
   "cell_type": "code",
   "execution_count": null,
   "metadata": {},
   "outputs": [],
   "source": [
    "shat = M.solve_left(that, check=true)\n",
    "shat"
   ]
  },
  {
   "cell_type": "code",
   "execution_count": null,
   "metadata": {},
   "outputs": [],
   "source": [
    "shat % q"
   ]
  },
  {
   "cell_type": "code",
   "execution_count": null,
   "metadata": {},
   "outputs": [],
   "source": [
    "sx"
   ]
  },
  {
   "cell_type": "code",
   "execution_count": null,
   "metadata": {},
   "outputs": [],
   "source": [
    "s-shat.transpose()[0:8]"
   ]
  },
  {
   "cell_type": "code",
   "execution_count": null,
   "metadata": {},
   "outputs": [],
   "source": [
    "s = matrix([[1], [1], [1], [0],[-1], [1], [0], [1]])\n",
    "s"
   ]
  },
  {
   "cell_type": "markdown",
   "metadata": {},
   "source": [
    "**Alternative:  embedding**  (Knospe, p. 280)"
   ]
  },
  {
   "cell_type": "code",
   "execution_count": null,
   "metadata": {},
   "outputs": [],
   "source": [
    "AZ = A.augment(q*I8)\n",
    "AZ"
   ]
  },
  {
   "cell_type": "code",
   "execution_count": null,
   "metadata": {},
   "outputs": [],
   "source": [
    "AZ.transpose().LLL().transpose()"
   ]
  },
  {
   "cell_type": "code",
   "execution_count": null,
   "metadata": {},
   "outputs": [],
   "source": [
    "H = A.transpose().hermite_form(include_zero_rows=false).transpose()\n",
    "H"
   ]
  },
  {
   "cell_type": "code",
   "execution_count": null,
   "metadata": {},
   "outputs": [],
   "source": [
    "B = ((H.augment(t))).stack(vector([0,0,0,0,0,0,0,0,1])) % q\n",
    "B"
   ]
  },
  {
   "cell_type": "code",
   "execution_count": null,
   "metadata": {},
   "outputs": [],
   "source": [
    "B.transpose().LLL().transpose()"
   ]
  },
  {
   "cell_type": "code",
   "execution_count": null,
   "metadata": {},
   "outputs": [],
   "source": [
    "e = block_matrix([[column_matrix(1, 4, ex[0,0].padded_list(4))],\n",
    "                [column_matrix(1, 4, ex[1,0].padded_list(4))]])\n",
    "e"
   ]
  },
  {
   "cell_type": "markdown",
   "metadata": {},
   "source": [
    "Still doesn't work.  Is the error vector too large?  (Is any reasonable error vector too large?)"
   ]
  },
  {
   "cell_type": "code",
   "execution_count": null,
   "metadata": {},
   "outputs": [],
   "source": []
  }
 ],
 "metadata": {
  "kernelspec": {
   "display_name": "SageMath 9.3",
   "language": "sage",
   "name": "sagemath"
  },
  "language_info": {
   "codemirror_mode": {
    "name": "ipython",
    "version": 3
   },
   "file_extension": ".py",
   "mimetype": "text/x-python",
   "name": "python",
   "nbconvert_exporter": "python",
   "pygments_lexer": "ipython3",
   "version": "3.7.10"
  }
 },
 "nbformat": 4,
 "nbformat_minor": 4
}
