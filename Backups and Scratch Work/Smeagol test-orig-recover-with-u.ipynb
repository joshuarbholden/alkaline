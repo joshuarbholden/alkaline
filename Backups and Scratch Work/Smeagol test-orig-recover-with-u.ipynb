{
 "cells": [
  {
   "cell_type": "markdown",
   "metadata": {},
   "source": [
    "Global setup\n",
    "\n"
   ]
  },
  {
   "cell_type": "code",
   "execution_count": 8,
   "metadata": {
    "jupyter": {
     "outputs_hidden": false
    }
   },
   "outputs": [],
   "source": [
    "n=1\n",
    "k=4\n",
    "q=23 #AA\n",
    "eta=2"
   ]
  },
  {
   "cell_type": "markdown",
   "metadata": {},
   "source": [
    "Bob generates a key\n"
   ]
  },
  {
   "cell_type": "code",
   "execution_count": 9,
   "metadata": {
    "jupyter": {
     "outputs_hidden": false
    }
   },
   "outputs": [
    {
     "data": {
      "text/plain": [
       "[ 3  0  2 -3]\n",
       "[ 0  3 -2 -1]\n",
       "[-1  0  1 -1]\n",
       "[ 1  1 -2  2]"
      ]
     },
     "execution_count": 9,
     "metadata": {},
     "output_type": "execute_result"
    }
   ],
   "source": [
    "#S = random_matrix(ZZ, 4, 4, distribution='gaussian', x=2)\n",
    "S = matrix(ZZ, [[ 3,  0,  2, -3],\n",
    "                [ 0,  3, -2, -1],\n",
    "                [-1,  0,  1, -1],\n",
    "                [ 1,  1, -2,  2]])\n",
    "S"
   ]
  },
  {
   "cell_type": "markdown",
   "metadata": {},
   "source": [
    "$S$ is the private key\n"
   ]
  },
  {
   "cell_type": "code",
   "execution_count": 10,
   "metadata": {
    "jupyter": {
     "outputs_hidden": false
    }
   },
   "outputs": [
    {
     "data": {
      "text/plain": [
       "[ 8 14 15  9]\n",
       "[ 7 16 21 12]\n",
       "[21  0 16  1]\n",
       "[ 2  9  5 11]"
      ]
     },
     "execution_count": 10,
     "metadata": {},
     "output_type": "execute_result"
    }
   ],
   "source": [
    "#T = matrix(((A*S + E) % q))\n",
    "T = matrix(ZZ, [[ 8 , 14 , 15 , 9],\n",
    "[7 , 16 , 21 , 12],\n",
    "[21 , 0 , 16 , 1],\n",
    "[2 , 9 , 5 , 11]])\n",
    "T"
   ]
  },
  {
   "cell_type": "markdown",
   "metadata": {},
   "source": [
    "$(A,T)$ is the public key\n"
   ]
  },
  {
   "cell_type": "markdown",
   "metadata": {},
   "source": [
    "Alice computes \n",
    "\n"
   ]
  },
  {
   "cell_type": "code",
   "execution_count": 4,
   "metadata": {},
   "outputs": [
    {
     "data": {
      "text/plain": [
       "[ 0  1 -1 -1]"
      ]
     },
     "execution_count": 4,
     "metadata": {},
     "output_type": "execute_result"
    }
   ],
   "source": [
    "r = matrix([[0, 1, -1, -1]]); r"
   ]
  },
  {
   "cell_type": "code",
   "execution_count": 5,
   "metadata": {},
   "outputs": [
    {
     "data": {
      "text/plain": [
       "[1 0 0 0]"
      ]
     },
     "execution_count": 5,
     "metadata": {},
     "output_type": "execute_result"
    }
   ],
   "source": [
    "e1 = matrix([[1, 0, 0, 0]]); e1"
   ]
  },
  {
   "cell_type": "code",
   "execution_count": 13,
   "metadata": {},
   "outputs": [
    {
     "data": {
      "text/plain": [
       "[13  4  5 22]"
      ]
     },
     "execution_count": 13,
     "metadata": {},
     "output_type": "execute_result"
    }
   ],
   "source": [
    "u = matrix([[13, 4, 5, 22]]); u\n"
   ]
  },
  {
   "cell_type": "markdown",
   "metadata": {},
   "source": [
    "**Idea for lattice attack recovering $A$ from $s$ and $u$**\n",
    "\n",
    "(Assuming $r$ and $e_1$ are correct)"
   ]
  },
  {
   "cell_type": "markdown",
   "metadata": {},
   "source": [
    "Treating matrices by rows:\n",
    "\n",
    "$$\\mathbf{a_i}S + \\mathbf{e_i} - \\mathbf{t_i}\\equiv \\mathbf{0} \\pmod{q}$$\n",
    "$$\\mathbf{r}\\mathbf{a_i}^T + \\mathbf{e_{1i}} - \\mathbf{u_i}\\equiv \\mathbf{0} \\pmod{q}$$"
   ]
  },
  {
   "cell_type": "markdown",
   "metadata": {},
   "source": [
    "equivalently:\n",
    "\n",
    "$$\\mathbf{a_i}S + \\mathbf{e_i} - \\mathbf{t_i}\\equiv \\mathbf{0} \\pmod{q}$$\n",
    "$$\\mathbf{a_i}\\mathbf{r}^T + {e_{1i}} - {u_i}\\equiv \\mathbf{0} \\pmod{q}$$"
   ]
  },
  {
   "cell_type": "markdown",
   "metadata": {},
   "source": [
    "or in block row form, $$(\\mathbf{a_i} | \\mathbf{e} | 1 | \\mathbf{s'})\\begin{pmatrix} S \\\\ - \\\\ I \\\\ - \\\\ -\\mathbf{t_i} \\\\ - \\\\ qI \\end{pmatrix} =  \\mathbf{0} $$"
   ]
  },
  {
   "cell_type": "markdown",
   "metadata": {},
   "source": [
    "and $$(\\mathbf{a_i} |  | 1 | {s_1'})\\begin{pmatrix} \\mathbf{r}^T \\\\ - \\\\ \\\\ - \\\\ e_{i1}-{u_i} \\\\ - \\\\ q \\end{pmatrix} = \\mathbf{0} $$"
   ]
  },
  {
   "cell_type": "markdown",
   "metadata": {},
   "source": [
    "together:  $$(\\mathbf{a_i} | \\mathbf{e} |  |1 | \\mathbf{s'} | {s_1'})\\begin{pmatrix} S & \\mathbf{r}^T\\\\ - & - \\\\ I & 0\\\\ - & - \\\\  & \\\\ - & - \\\\ -\\mathbf{t_i} & {e_{1i}}-{u_i}\\\\ - & - \\\\ qI & 0 \\\\ - & - \\\\ 0 & q\\end{pmatrix} =  \\mathbf{0} $$"
   ]
  },
  {
   "cell_type": "code",
   "execution_count": 20,
   "metadata": {},
   "outputs": [
    {
     "data": {
      "text/plain": [
       "[1 0 0 0]\n",
       "[0 1 0 0]\n",
       "[0 0 1 0]\n",
       "[0 0 0 1]"
      ]
     },
     "execution_count": 20,
     "metadata": {},
     "output_type": "execute_result"
    }
   ],
   "source": [
    "I4 = identity_matrix(4)\n",
    "I4"
   ]
  },
  {
   "cell_type": "code",
   "execution_count": 23,
   "metadata": {},
   "outputs": [
    {
     "data": {
      "text/plain": [
       "[0]\n",
       "[0]\n",
       "[0]\n",
       "[0]"
      ]
     },
     "execution_count": 23,
     "metadata": {},
     "output_type": "execute_result"
    }
   ],
   "source": [
    "Z4 = column_matrix([0,0,0,0]); Z4"
   ]
  },
  {
   "cell_type": "code",
   "execution_count": 17,
   "metadata": {},
   "outputs": [
    {
     "data": {
      "text/plain": [
       "[ 8 14 15  9]"
      ]
     },
     "execution_count": 17,
     "metadata": {},
     "output_type": "execute_result"
    }
   ],
   "source": [
    "t0 = matrix(T[0])\n",
    "t0"
   ]
  },
  {
   "cell_type": "code",
   "execution_count": 32,
   "metadata": {},
   "outputs": [
    {
     "data": {
      "text/plain": [
       "[13]"
      ]
     },
     "execution_count": 32,
     "metadata": {},
     "output_type": "execute_result"
    }
   ],
   "source": [
    "u0 = matrix(1,1,u[0][0]); u0"
   ]
  },
  {
   "cell_type": "code",
   "execution_count": 45,
   "metadata": {},
   "outputs": [
    {
     "data": {
      "text/plain": [
       "[1]"
      ]
     },
     "execution_count": 45,
     "metadata": {},
     "output_type": "execute_result"
    }
   ],
   "source": [
    "e10 = matrix(1,1,e1[0][0]); e10"
   ]
  },
  {
   "cell_type": "code",
   "execution_count": 84,
   "metadata": {},
   "outputs": [
    {
     "data": {
      "text/plain": [
       "[  3   0   2  -3|  0]\n",
       "[  0   3  -2  -1|  1]\n",
       "[ -1   0   1  -1| -1]\n",
       "[  1   1  -2   2| -1]\n",
       "[---------------+---]\n",
       "[  1   0   0   0|  0]\n",
       "[  0   1   0   0|  0]\n",
       "[  0   0   1   0|  0]\n",
       "[  0   0   0   1|  0]\n",
       "[---------------+---]\n",
       "[ -8 -14 -15  -9|-12]\n",
       "[---------------+---]\n",
       "[ 23   0   0   0|  0]\n",
       "[  0  23   0   0|  0]\n",
       "[  0   0  23   0|  0]\n",
       "[  0   0   0  23|  0]\n",
       "[---------------+---]\n",
       "[  0   0   0   0| 23]"
      ]
     },
     "execution_count": 84,
     "metadata": {},
     "output_type": "execute_result"
    }
   ],
   "source": [
    "M = block_matrix([[S, r.transpose()], [I4, Z4], [-t0, e10-u0], [q*I4, Z4], [0,q]])\n",
    "M"
   ]
  },
  {
   "cell_type": "code",
   "execution_count": 85,
   "metadata": {},
   "outputs": [
    {
     "data": {
      "text/plain": [
       "Free module of degree 14 and rank 9 over Integer Ring\n",
       "Echelon basis matrix:\n",
       "[ 1  0  0  0 20  0 21  3  0 -1  0 -1  0  0]\n",
       "[ 0  1  0  0 16  2  9 19  2  0  1  1  0  1]\n",
       "[ 0  0  1  0  8 18 15  6 21  7 12 13  8 11]\n",
       "[ 0  0  0  1  6 17 18  3 21  7 12 13  8 11]\n",
       "[ 0  0  0  0 23  0  0  0  0 -1  0  0  0  0]\n",
       "[ 0  0  0  0  0 23  0  0  0  0 -1  0  0  0]\n",
       "[ 0  0  0  0  0  0 23  0  0  0  0 -1  0  0]\n",
       "[ 0  0  0  0  0  0  0 23  0  0  0  0 -1  0]\n",
       "[ 0  0  0  0  0  0  0  0 23  8 14 15  9 12]"
      ]
     },
     "execution_count": 85,
     "metadata": {},
     "output_type": "execute_result"
    }
   ],
   "source": [
    "M.kernel()"
   ]
  },
  {
   "cell_type": "code",
   "execution_count": 86,
   "metadata": {},
   "outputs": [
    {
     "data": {
      "text/plain": [
       "[  3   0   2  -3   0|  1   0   0   0   0   0   0   0   0   0   0   0   0   0]\n",
       "[  0   3  -2  -1   1|  0   1   0   0   0   0   0   0   0   0   0   0   0   0]\n",
       "[ -1   0   1  -1  -1|  0   0   1   0   0   0   0   0   0   0   0   0   0   0]\n",
       "[  1   1  -2   2  -1|  0   0   0   1   0   0   0   0   0   0   0   0   0   0]\n",
       "[  1   0   0   0   0|  0   0   0   0   1   0   0   0   0   0   0   0   0   0]\n",
       "[  0   1   0   0   0|  0   0   0   0   0   1   0   0   0   0   0   0   0   0]\n",
       "[  0   0   1   0   0|  0   0   0   0   0   0   1   0   0   0   0   0   0   0]\n",
       "[  0   0   0   1   0|  0   0   0   0   0   0   0   1   0   0   0   0   0   0]\n",
       "[ -8 -14 -15  -9 -12|  0   0   0   0   0   0   0   0   1   0   0   0   0   0]\n",
       "[ 23   0   0   0   0|  0   0   0   0   0   0   0   0   0   1   0   0   0   0]\n",
       "[  0  23   0   0   0|  0   0   0   0   0   0   0   0   0   0   1   0   0   0]\n",
       "[  0   0  23   0   0|  0   0   0   0   0   0   0   0   0   0   0   1   0   0]\n",
       "[  0   0   0  23   0|  0   0   0   0   0   0   0   0   0   0   0   0   1   0]\n",
       "[  0   0   0   0  23|  0   0   0   0   0   0   0   0   0   0   0   0   0   1]"
      ]
     },
     "execution_count": 86,
     "metadata": {},
     "output_type": "execute_result"
    }
   ],
   "source": [
    "M1 = block_matrix([[M, identity_matrix(14)]])\n",
    "M1"
   ]
  },
  {
   "cell_type": "code",
   "execution_count": 87,
   "metadata": {},
   "outputs": [
    {
     "data": {
      "text/plain": [
       "[ 1  0  0  0  0  0  0  0  0  1  0  0  0  0  0  0  0  0  0]\n",
       "[ 0  1  0  0  0  0  0  0  0  0  1  0  0  0  0  0  0  0  0]\n",
       "[ 0  0  1  0  0  0  0  0  0  0  0  1  0  0  0  0  0  0  0]\n",
       "[ 0  0  0  1  0  0  0  0  0  0  0  0  1  0  0  0  0  0  0]\n",
       "[ 0  0  0  0  1  0  0  0  0  7 18 16  5 21  7 12 13  8 11]\n",
       "[ 0  0  0  0  0  1  0  0  0 20  0 21  3  0 -1  0 -1  0  0]\n",
       "[ 0  0  0  0  0  0  1  0  0 16  2  9 19  2  0  1  1  0  1]\n",
       "[ 0  0  0  0  0  0  0  1  0  8 18 15  6 21  7 12 13  8 11]\n",
       "[ 0  0  0  0  0  0  0  0  1  6 17 18  3 21  7 12 13  8 11]\n",
       "[ 0  0  0  0  0  0  0  0  0 23  0  0  0  0 -1  0  0  0  0]\n",
       "[ 0  0  0  0  0  0  0  0  0  0 23  0  0  0  0 -1  0  0  0]\n",
       "[ 0  0  0  0  0  0  0  0  0  0  0 23  0  0  0  0 -1  0  0]\n",
       "[ 0  0  0  0  0  0  0  0  0  0  0  0 23  0  0  0  0 -1  0]\n",
       "[ 0  0  0  0  0  0  0  0  0  0  0  0  0 23  8 14 15  9 12]"
      ]
     },
     "execution_count": 87,
     "metadata": {},
     "output_type": "execute_result"
    }
   ],
   "source": [
    "H1 = M1.hermite_form()\n",
    "H1 # The right side should be a transformation matrix (after some extra unnecessary but not harmful reduction)"
   ]
  },
  {
   "cell_type": "code",
   "execution_count": 89,
   "metadata": {},
   "outputs": [
    {
     "data": {
      "text/plain": [
       "[ 1  0  0  0 20  0 21  3  0 -1  0 -1  0  0]\n",
       "[ 0  1  0  0 16  2  9 19  2  0  1  1  0  1]\n",
       "[ 0  0  1  0  8 18 15  6 21  7 12 13  8 11]\n",
       "[ 0  0  0  1  6 17 18  3 21  7 12 13  8 11]\n",
       "[ 0  0  0  0 23  0  0  0  0 -1  0  0  0  0]\n",
       "[ 0  0  0  0  0 23  0  0  0  0 -1  0  0  0]\n",
       "[ 0  0  0  0  0  0 23  0  0  0  0 -1  0  0]\n",
       "[ 0  0  0  0  0  0  0 23  0  0  0  0 -1  0]\n",
       "[ 0  0  0  0  0  0  0  0 23  8 14 15  9 12]"
      ]
     },
     "execution_count": 89,
     "metadata": {},
     "output_type": "execute_result"
    }
   ],
   "source": [
    "N1 = H1.submatrix(5, 5)\n",
    "N1 # A basis for the kernel"
   ]
  },
  {
   "cell_type": "code",
   "execution_count": 90,
   "metadata": {},
   "outputs": [
    {
     "data": {
      "text/plain": [
       "[ 0 -1 -1  0 -1  3 -1 -2  0  0  0  0  0  0]\n",
       "[-1  0  0  0  3  0  2 -3  0  0  0  0  0  0]\n",
       "[ 0  0 -1  1 -2 -1  3 -3  0  0  0  0  0  0]\n",
       "[-4  1 -2  2  1  0  0  1  2  1  1  2  0  1]\n",
       "[ 0 -1 -2  2  3 -4 -3 -2 -2 -1 -1 -1 -1 -1]\n",
       "[ 4 -1 -4  3  4  0  0  1  0 -1  0  0  0  0]\n",
       "[ 0 -2  4  4  1 -2 -1 -2  3  1  2  2  1  2]\n",
       "[-2 -6  4  2  0  2  0  2 -1  0  0 -1 -1  0]\n",
       "[ 3 -3 -2 -3  1 -1 -2  0  4  1  3  2  2  2]"
      ]
     },
     "execution_count": 90,
     "metadata": {},
     "output_type": "execute_result"
    }
   ],
   "source": [
    "L = N1.LLL()\n",
    "L"
   ]
  },
  {
   "cell_type": "code",
   "execution_count": 101,
   "metadata": {},
   "outputs": [
    {
     "data": {
      "text/plain": [
       "[0 0 0 0 0]\n",
       "[0 0 0 0 0]\n",
       "[0 0 0 0 0]\n",
       "[0 0 0 0 0]\n",
       "[0 0 0 0 0]\n",
       "[0 0 0 0 0]\n",
       "[0 0 0 0 0]\n",
       "[0 0 0 0 0]\n",
       "[0 0 0 0 0]"
      ]
     },
     "execution_count": 101,
     "metadata": {},
     "output_type": "execute_result"
    }
   ],
   "source": [
    "L*M"
   ]
  },
  {
   "cell_type": "markdown",
   "metadata": {},
   "source": [
    "Possibilities for $a_0$ must have 1 in 9th (1-based) position and small 5th through 8th positions"
   ]
  },
  {
   "cell_type": "code",
   "execution_count": 92,
   "metadata": {},
   "outputs": [
    {
     "data": {
      "text/plain": [
       "(2, 6, -4, -2, 0, -2, 0, -2, 1, 0, 0, 1, 1, 0)"
      ]
     },
     "execution_count": 92,
     "metadata": {},
     "output_type": "execute_result"
    }
   ],
   "source": [
    "-L[7]"
   ]
  },
  {
   "cell_type": "code",
   "execution_count": 93,
   "metadata": {},
   "outputs": [
    {
     "data": {
      "text/plain": [
       "[ 2  6 19 21]"
      ]
     },
     "execution_count": 93,
     "metadata": {},
     "output_type": "execute_result"
    }
   ],
   "source": [
    "a0 = matrix([2, 6, -4, -2])%q; a0"
   ]
  },
  {
   "cell_type": "code",
   "execution_count": 94,
   "metadata": {},
   "outputs": [
    {
     "data": {
      "text/plain": [
       "[ 0 -2  0 -2]"
      ]
     },
     "execution_count": 94,
     "metadata": {},
     "output_type": "execute_result"
    }
   ],
   "source": [
    "e0 = matrix([0, -2, 0, -2]); e0"
   ]
  },
  {
   "cell_type": "code",
   "execution_count": 105,
   "metadata": {},
   "outputs": [
    {
     "data": {
      "text/plain": [
       "True"
      ]
     },
     "execution_count": 105,
     "metadata": {},
     "output_type": "execute_result"
    }
   ],
   "source": [
    "(a0*S+e0)%q == t0"
   ]
  },
  {
   "cell_type": "code",
   "execution_count": 104,
   "metadata": {},
   "outputs": [
    {
     "data": {
      "text/plain": [
       "True"
      ]
     },
     "execution_count": 104,
     "metadata": {},
     "output_type": "execute_result"
    }
   ],
   "source": [
    "(a0*r.transpose()+e10)%q == u0"
   ]
  },
  {
   "cell_type": "code",
   "execution_count": 110,
   "metadata": {},
   "outputs": [
    {
     "data": {
      "text/plain": [
       "[ 0 -1 -1  0 -1  3 -1 -2  0  0  0  0  0  0]\n",
       "[-1  0  0  0  3  0  2 -3  0  0  0  0  0  0]\n",
       "[ 0  0 -1  1 -2 -1  3 -3  0  0  0  0  0  0]\n",
       "[ 2  4  0  0  1  4  2 -1  1  0  0  1  1  0]\n",
       "[ 5  1  2  3  0  1 -2  0 -1 -1 -1 -1  0  0]\n",
       "[ 0 -2 -6  0  1 -1  0  4  1  0  1  1  0  0]\n",
       "[-3  2  2  4  0 -3 -5 -2 -1  0 -1  0 -1  0]\n",
       "[-1 -2  3  6 -2  2  1 -1  3  1  2  3  1  1]\n",
       "[ 5  0  2 -6  0 -1 -3 -5  1  0  1  0  2  0]"
      ]
     },
     "execution_count": 110,
     "metadata": {},
     "output_type": "execute_result"
    }
   ],
   "source": [
    "t1 = matrix(T[1])\n",
    "u1 = matrix(1,1,u[0][1])\n",
    "e11 = matrix(1,1,e1[0][1])\n",
    "M = block_matrix([[S, r.transpose()], [I4, Z4], [-t1, e11-u1], [q*I4, Z4], [0,q]])\n",
    "M1 = block_matrix([[M, identity_matrix(14)]])\n",
    "H1 = M1.hermite_form()\n",
    "N1 = H1.submatrix(5,5)\n",
    "L = N1.LLL()\n",
    "L"
   ]
  },
  {
   "cell_type": "code",
   "execution_count": 111,
   "metadata": {},
   "outputs": [
    {
     "data": {
      "text/plain": [
       "(-5, -1, -2, -3, 0, -1, 2, 0, 1, 1, 1, 1, 0, 0)"
      ]
     },
     "execution_count": 111,
     "metadata": {},
     "output_type": "execute_result"
    }
   ],
   "source": [
    "-L[4]"
   ]
  },
  {
   "cell_type": "code",
   "execution_count": 112,
   "metadata": {},
   "outputs": [
    {
     "data": {
      "text/plain": [
       "[18 22 21 20]"
      ]
     },
     "execution_count": 112,
     "metadata": {},
     "output_type": "execute_result"
    }
   ],
   "source": [
    "a1 = matrix([-5, -1, -2, -3]); a1%q"
   ]
  },
  {
   "cell_type": "code",
   "execution_count": 113,
   "metadata": {},
   "outputs": [
    {
     "data": {
      "text/plain": [
       "[ 0 -1  2  0]"
      ]
     },
     "execution_count": 113,
     "metadata": {},
     "output_type": "execute_result"
    }
   ],
   "source": [
    "E1 = matrix([0, -1, 2, 0]); E1"
   ]
  },
  {
   "cell_type": "code",
   "execution_count": 115,
   "metadata": {},
   "outputs": [
    {
     "data": {
      "text/plain": [
       "True"
      ]
     },
     "execution_count": 115,
     "metadata": {},
     "output_type": "execute_result"
    }
   ],
   "source": [
    "(a1*S+E1)%q == t1"
   ]
  },
  {
   "cell_type": "code",
   "execution_count": 143,
   "metadata": {},
   "outputs": [
    {
     "data": {
      "text/plain": [
       "True"
      ]
     },
     "execution_count": 143,
     "metadata": {},
     "output_type": "execute_result"
    }
   ],
   "source": [
    "(a1*r.transpose()+e11)%q == u1"
   ]
  },
  {
   "cell_type": "code",
   "execution_count": 126,
   "metadata": {},
   "outputs": [
    {
     "data": {
      "text/plain": [
       "[ 0 -1 -1  0 -1  3 -1 -2  0  0  0  0  0  0]\n",
       "[-1  0  0  0  3  0  2 -3  0  0  0  0  0  0]\n",
       "[ 0  0  1 -1  2  1 -3  3  0  0  0  0  0  0]\n",
       "[-1  1 -3 -1 -1 -2 -2 -2  1  1  0  1  0  0]\n",
       "[-2 -1 -2  6  0 -3  0  1 -1 -1  0  0 -1  0]\n",
       "[ 4 -1 -4  3  4  0  0  1  0 -1  0  0  0  0]\n",
       "[-1 -1  5  2  0  1  1  0  3  3  0  2  0  1]\n",
       "[ 1 -6 -2 -4 -1 -1  3  3  0  0  1 -1  0  0]\n",
       "[-2  7 -2 -1  1  3  4  3  2  2 -1  2  0  0]"
      ]
     },
     "execution_count": 126,
     "metadata": {},
     "output_type": "execute_result"
    }
   ],
   "source": [
    "t2 = matrix(T[2])\n",
    "u2 = matrix(1,1,u[0][2])\n",
    "e12 = matrix(1,1,e1[0][2])\n",
    "M = block_matrix([[S, r.transpose()], [I4, Z4], [-t2, e12-u2], [q*I4, Z4], [0,q]])\n",
    "M1 = block_matrix([[M, identity_matrix(14)]])\n",
    "H1 = M1.hermite_form()\n",
    "N1 = H1.submatrix(5,5)\n",
    "L = N1.LLL()\n",
    "L"
   ]
  },
  {
   "cell_type": "code",
   "execution_count": 127,
   "metadata": {},
   "outputs": [
    {
     "data": {
      "text/plain": [
       "[0 0 0 0 0]\n",
       "[0 0 0 0 0]\n",
       "[0 0 0 0 0]\n",
       "[0 0 0 0 0]\n",
       "[0 0 0 0 0]\n",
       "[0 0 0 0 0]\n",
       "[0 0 0 0 0]\n",
       "[0 0 0 0 0]\n",
       "[0 0 0 0 0]"
      ]
     },
     "execution_count": 127,
     "metadata": {},
     "output_type": "execute_result"
    }
   ],
   "source": [
    "L*M"
   ]
  },
  {
   "cell_type": "code",
   "execution_count": 128,
   "metadata": {},
   "outputs": [
    {
     "data": {
      "text/plain": [
       "(-1, 1, -3, -1, -1, -2, -2, -2, 1, 1, 0, 1, 0, 0)"
      ]
     },
     "execution_count": 128,
     "metadata": {},
     "output_type": "execute_result"
    }
   ],
   "source": [
    "L[3]"
   ]
  },
  {
   "cell_type": "code",
   "execution_count": 129,
   "metadata": {},
   "outputs": [
    {
     "data": {
      "text/plain": [
       "[22  1 20 22]"
      ]
     },
     "execution_count": 129,
     "metadata": {},
     "output_type": "execute_result"
    }
   ],
   "source": [
    "a2 = matrix([-1, 1, -3, -1]); a2%q"
   ]
  },
  {
   "cell_type": "code",
   "execution_count": 130,
   "metadata": {},
   "outputs": [
    {
     "data": {
      "text/plain": [
       "[-1 -2 -2 -2]"
      ]
     },
     "execution_count": 130,
     "metadata": {},
     "output_type": "execute_result"
    }
   ],
   "source": [
    "e2 = matrix([-1, -2, -2, -2]); e2"
   ]
  },
  {
   "cell_type": "code",
   "execution_count": 134,
   "metadata": {},
   "outputs": [
    {
     "data": {
      "text/plain": [
       "True"
      ]
     },
     "execution_count": 134,
     "metadata": {},
     "output_type": "execute_result"
    }
   ],
   "source": [
    "(a2*S+e2)%q == matrix(T[2])"
   ]
  },
  {
   "cell_type": "code",
   "execution_count": 144,
   "metadata": {},
   "outputs": [
    {
     "data": {
      "text/plain": [
       "True"
      ]
     },
     "execution_count": 144,
     "metadata": {},
     "output_type": "execute_result"
    }
   ],
   "source": [
    "(a2*r.transpose()+e12)%q == u2"
   ]
  },
  {
   "cell_type": "code",
   "execution_count": 135,
   "metadata": {},
   "outputs": [
    {
     "data": {
      "text/plain": [
       "[ 0 -1 -1  0 -1  3 -1 -2  0  0  0  0  0  0]\n",
       "[-1  0  0  0  3  0  2 -3  0  0  0  0  0  0]\n",
       "[ 0  0 -1  1 -2 -1  3 -3  0  0  0  0  0  0]\n",
       "[-1  2  0  0 -1 -1 -4  0 -2  0 -1  0 -1 -2]\n",
       "[ 2  2  3  0 -1  3  2 -1  1  0  0  0  1  1]\n",
       "[ 1 -2  1 -4  0  1  3 -1 -1  0  0 -1  0 -1]\n",
       "[ 4 -1 -4  3  4  0  0  1  0 -1  0  0  0  0]\n",
       "[-3  4 -1  2  0  5  4  3 -3  0 -2  0 -2 -3]\n",
       "[ 3  7 -6 -6 -1 -2 -1 -3  4  0  1  1  3  3]"
      ]
     },
     "execution_count": 135,
     "metadata": {},
     "output_type": "execute_result"
    }
   ],
   "source": [
    "t3 = matrix(T[3])\n",
    "u3 = matrix(1,1,u[0][3])\n",
    "e13 = matrix(1,1,e1[0][3])\n",
    "M = block_matrix([[S, r.transpose()], [I4, Z4], [-t3, e13-u3], [q*I4, Z4], [0,q]])\n",
    "M1 = block_matrix([[M, identity_matrix(14)]])\n",
    "H1 = M1.hermite_form()\n",
    "N1 = H1.submatrix(5,5)\n",
    "L = N1.LLL()\n",
    "L"
   ]
  },
  {
   "cell_type": "code",
   "execution_count": 136,
   "metadata": {},
   "outputs": [
    {
     "data": {
      "text/plain": [
       "[0 0 0 0 0]\n",
       "[0 0 0 0 0]\n",
       "[0 0 0 0 0]\n",
       "[0 0 0 0 0]\n",
       "[0 0 0 0 0]\n",
       "[0 0 0 0 0]\n",
       "[0 0 0 0 0]\n",
       "[0 0 0 0 0]\n",
       "[0 0 0 0 0]"
      ]
     },
     "execution_count": 136,
     "metadata": {},
     "output_type": "execute_result"
    }
   ],
   "source": [
    "L*M"
   ]
  },
  {
   "cell_type": "code",
   "execution_count": 138,
   "metadata": {},
   "outputs": [
    {
     "data": {
      "text/plain": [
       "(-1, -4, -3, 0, 2, -2, 2, 1, 1, 0, 1, 0, 0, 1)"
      ]
     },
     "execution_count": 138,
     "metadata": {},
     "output_type": "execute_result"
    }
   ],
   "source": [
    "-L[3]-L[4]"
   ]
  },
  {
   "cell_type": "code",
   "execution_count": 140,
   "metadata": {},
   "outputs": [
    {
     "data": {
      "text/plain": [
       "[22 19 20  0]"
      ]
     },
     "execution_count": 140,
     "metadata": {},
     "output_type": "execute_result"
    }
   ],
   "source": [
    "a3 = matrix([-1, -4, -3, 0]); a3%q"
   ]
  },
  {
   "cell_type": "code",
   "execution_count": 141,
   "metadata": {},
   "outputs": [
    {
     "data": {
      "text/plain": [
       "[ 2 -2  2  1]"
      ]
     },
     "execution_count": 141,
     "metadata": {},
     "output_type": "execute_result"
    }
   ],
   "source": [
    "e3 = matrix([2, -2, 2, 1]); e3"
   ]
  },
  {
   "cell_type": "code",
   "execution_count": 142,
   "metadata": {},
   "outputs": [
    {
     "data": {
      "text/plain": [
       "True"
      ]
     },
     "execution_count": 142,
     "metadata": {},
     "output_type": "execute_result"
    }
   ],
   "source": [
    "(a3*S+e3)%q == matrix(T[3])"
   ]
  },
  {
   "cell_type": "code",
   "execution_count": 145,
   "metadata": {},
   "outputs": [
    {
     "data": {
      "text/plain": [
       "True"
      ]
     },
     "execution_count": 145,
     "metadata": {},
     "output_type": "execute_result"
    }
   ],
   "source": [
    "(a3*r.transpose()+e13)%q == u3"
   ]
  },
  {
   "cell_type": "code",
   "execution_count": 146,
   "metadata": {},
   "outputs": [
    {
     "data": {
      "text/plain": [
       "[ 2  6 19 21]\n",
       "[18 22 21 20]\n",
       "[22  1 20 22]\n",
       "[22 19 20  0]"
      ]
     },
     "execution_count": 146,
     "metadata": {},
     "output_type": "execute_result"
    }
   ],
   "source": [
    "A = block_matrix(4, 1, [a0, a1, a2, a3])\n",
    "A % q"
   ]
  },
  {
   "cell_type": "code",
   "execution_count": 147,
   "metadata": {},
   "outputs": [
    {
     "data": {
      "text/plain": [
       "[ 0 -2  0 -2]\n",
       "[-----------]\n",
       "[ 0 -1  2  0]\n",
       "[-----------]\n",
       "[-1 -2 -2 -2]\n",
       "[-----------]\n",
       "[ 2 -2  2  1]"
      ]
     },
     "execution_count": 147,
     "metadata": {},
     "output_type": "execute_result"
    }
   ],
   "source": [
    "E = block_matrix(4, 1, [e0, E1, e2, e3])\n",
    "E"
   ]
  },
  {
   "cell_type": "code",
   "execution_count": 148,
   "metadata": {},
   "outputs": [
    {
     "data": {
      "text/plain": [
       "[ 8 14 15  9]\n",
       "[ 7 16 21 12]\n",
       "[21  0 16  1]\n",
       "[ 2  9  5 11]"
      ]
     },
     "execution_count": 148,
     "metadata": {},
     "output_type": "execute_result"
    }
   ],
   "source": [
    "(A*S + E) %q "
   ]
  },
  {
   "cell_type": "markdown",
   "metadata": {},
   "source": [
    "Want $T = (AS+E) \\bmod q$ \n",
    "\n",
    "and $u = (A^Tr+e_1) \\bmod q$ \n",
    "\n",
    "$\\Leftrightarrow u^T = (r^TA+e_1^T) \\bmod q$"
   ]
  },
  {
   "cell_type": "code",
   "execution_count": 155,
   "metadata": {},
   "outputs": [
    {
     "data": {
      "text/plain": [
       "True"
      ]
     },
     "execution_count": 155,
     "metadata": {},
     "output_type": "execute_result"
    }
   ],
   "source": [
    "(A*S + E) %q == T"
   ]
  },
  {
   "cell_type": "code",
   "execution_count": 153,
   "metadata": {},
   "outputs": [
    {
     "data": {
      "text/plain": [
       "[13]\n",
       "[ 4]\n",
       "[ 5]\n",
       "[22]"
      ]
     },
     "execution_count": 153,
     "metadata": {},
     "output_type": "execute_result"
    }
   ],
   "source": [
    "(A*r.transpose()+e1.transpose())%q # Not what I wanted!"
   ]
  },
  {
   "cell_type": "code",
   "execution_count": 154,
   "metadata": {},
   "outputs": [
    {
     "data": {
      "text/plain": [
       "[13  4  5 22]"
      ]
     },
     "execution_count": 154,
     "metadata": {},
     "output_type": "execute_result"
    }
   ],
   "source": [
    "u"
   ]
  },
  {
   "cell_type": "code",
   "execution_count": null,
   "metadata": {},
   "outputs": [],
   "source": []
  }
 ],
 "metadata": {
  "kernelspec": {
   "display_name": "SageMath 9.3",
   "language": "sage",
   "name": "sagemath"
  },
  "language_info": {
   "codemirror_mode": {
    "name": "ipython",
    "version": 3
   },
   "file_extension": ".py",
   "mimetype": "text/x-python",
   "name": "python",
   "nbconvert_exporter": "python",
   "pygments_lexer": "ipython3",
   "version": "3.7.10"
  }
 },
 "nbformat": 4,
 "nbformat_minor": 4
}
