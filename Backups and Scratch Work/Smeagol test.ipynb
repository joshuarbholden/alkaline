{
 "cells": [
  {
   "cell_type": "markdown",
   "metadata": {},
   "source": [
    "Global setup\n",
    "\n"
   ]
  },
  {
   "cell_type": "code",
   "execution_count": 1,
   "metadata": {
    "jupyter": {
     "outputs_hidden": false
    }
   },
   "outputs": [],
   "source": [
    "n=1\n",
    "k=4\n",
    "q=23 #AA\n",
    "eta=2"
   ]
  },
  {
   "cell_type": "markdown",
   "metadata": {},
   "source": [
    "Bob generates a key\n"
   ]
  },
  {
   "cell_type": "code",
   "execution_count": 3,
   "metadata": {
    "jupyter": {
     "outputs_hidden": false
    }
   },
   "outputs": [
    {
     "data": {
      "text/plain": [
       "[ 7 21  8 18]\n",
       "[15  6 14 16]\n",
       "[ 7  7  5 13]\n",
       "[20  3  4 13]"
      ]
     },
     "execution_count": 3,
     "metadata": {},
     "output_type": "execute_result"
    }
   ],
   "source": [
    "A = random_matrix(ZZ, 4, 4, x=0, y=q)\n",
    "A"
   ]
  },
  {
   "cell_type": "code",
   "execution_count": 4,
   "metadata": {},
   "outputs": [
    {
     "data": {
      "text/plain": [
       "\\left(\\begin{array}{rrrr}\n",
       "7 & 21 & 8 & 18 \\\\\n",
       "15 & 6 & 14 & 16 \\\\\n",
       "7 & 7 & 5 & 13 \\\\\n",
       "20 & 3 & 4 & 13\n",
       "\\end{array}\\right)"
      ]
     },
     "execution_count": 4,
     "metadata": {},
     "output_type": "execute_result"
    }
   ],
   "source": [
    "latex(A)"
   ]
  },
  {
   "cell_type": "code",
   "execution_count": 1,
   "metadata": {
    "jupyter": {
     "outputs_hidden": false
    }
   },
   "outputs": [
    {
     "data": {
      "text/plain": [
       "[ 3  0  2 -3]\n",
       "[ 0  3 -2 -1]\n",
       "[-1  0  1 -1]\n",
       "[ 1  1 -2  2]"
      ]
     },
     "execution_count": 1,
     "metadata": {},
     "output_type": "execute_result"
    }
   ],
   "source": [
    "S = random_matrix(ZZ, 4, 4, distribution='gaussian', x=2)\n",
    "S"
   ]
  },
  {
   "cell_type": "markdown",
   "metadata": {},
   "source": [
    "$S$ is the private key\n"
   ]
  },
  {
   "cell_type": "code",
   "execution_count": 436,
   "metadata": {
    "jupyter": {
     "outputs_hidden": false
    }
   },
   "outputs": [
    {
     "data": {
      "text/plain": [
       "[ 0  0 -1 -1]\n",
       "[ 0  0 -1 -1]\n",
       "[ 1  2 -1 -2]\n",
       "[-1  2  0  0]"
      ]
     },
     "execution_count": 436,
     "metadata": {},
     "output_type": "execute_result"
    }
   ],
   "source": [
    "E = random_matrix(ZZ, 4, 4, distribution='gaussian', x=1)\n",
    "E"
   ]
  },
  {
   "cell_type": "code",
   "execution_count": 437,
   "metadata": {},
   "outputs": [
    {
     "data": {
      "text/plain": [
       "\\left(\\begin{array}{rrrr}\n",
       "0 & 0 & -1 & -1 \\\\\n",
       "0 & 0 & -1 & -1 \\\\\n",
       "1 & 2 & -1 & -2 \\\\\n",
       "-1 & 2 & 0 & 0\n",
       "\\end{array}\\right)"
      ]
     },
     "execution_count": 437,
     "metadata": {},
     "output_type": "execute_result"
    }
   ],
   "source": [
    "latex(E)"
   ]
  },
  {
   "cell_type": "code",
   "execution_count": 438,
   "metadata": {
    "jupyter": {
     "outputs_hidden": false
    }
   },
   "outputs": [
    {
     "data": {
      "text/plain": [
       "[ 8 14 15  9]\n",
       "[ 7 16 21 12]\n",
       "[21  0 16  1]\n",
       "[ 2  9  5 11]"
      ]
     },
     "execution_count": 438,
     "metadata": {},
     "output_type": "execute_result"
    }
   ],
   "source": [
    "T = matrix(((A*S + E) % q))\n",
    "T"
   ]
  },
  {
   "cell_type": "code",
   "execution_count": 439,
   "metadata": {},
   "outputs": [
    {
     "data": {
      "text/plain": [
       "\\left(\\begin{array}{rrrr}\n",
       "8 & 14 & 15 & 9 \\\\\n",
       "7 & 16 & 21 & 12 \\\\\n",
       "21 & 0 & 16 & 1 \\\\\n",
       "2 & 9 & 5 & 11\n",
       "\\end{array}\\right)"
      ]
     },
     "execution_count": 439,
     "metadata": {},
     "output_type": "execute_result"
    }
   ],
   "source": [
    "latex(T)"
   ]
  },
  {
   "cell_type": "markdown",
   "metadata": {},
   "source": [
    "$(A,T)$ is the public key\n"
   ]
  },
  {
   "cell_type": "markdown",
   "metadata": {},
   "source": [
    "Alice encodes her plaintext\n",
    "\n"
   ]
  },
  {
   "cell_type": "code",
   "execution_count": 412,
   "metadata": {},
   "outputs": [
    {
     "data": {
      "text/plain": [
       "['1', '0', '0', '0']"
      ]
     },
     "execution_count": 412,
     "metadata": {},
     "output_type": "execute_result"
    }
   ],
   "source": [
    "plist = (ord(\"H\") - ord(\"A\") + 1).binary()\n",
    "p = (list((plist)))\n",
    "p"
   ]
  },
  {
   "cell_type": "code",
   "execution_count": 453,
   "metadata": {
    "jupyter": {
     "outputs_hidden": false
    }
   },
   "outputs": [
    {
     "data": {
      "text/plain": [
       "[ 0]\n",
       "[ 1]\n",
       "[-1]\n",
       "[-1]"
      ]
     },
     "execution_count": 453,
     "metadata": {},
     "output_type": "execute_result"
    }
   ],
   "source": [
    "r = random_matrix(ZZ, 4, 1, distribution='gaussian', x=1)\n",
    "#r = matrix([[20], [19], [ 6], [ 7]])\n",
    "r"
   ]
  },
  {
   "cell_type": "code",
   "execution_count": 454,
   "metadata": {},
   "outputs": [
    {
     "data": {
      "text/plain": [
       "\\left(\\begin{array}{r}\n",
       "0 \\\\\n",
       "1 \\\\\n",
       "-1 \\\\\n",
       "-1\n",
       "\\end{array}\\right)"
      ]
     },
     "execution_count": 454,
     "metadata": {},
     "output_type": "execute_result"
    }
   ],
   "source": [
    "latex(r)"
   ]
  },
  {
   "cell_type": "code",
   "execution_count": 472,
   "metadata": {
    "jupyter": {
     "outputs_hidden": false
    }
   },
   "outputs": [
    {
     "data": {
      "text/plain": [
       "[1]\n",
       "[0]\n",
       "[0]\n",
       "[0]"
      ]
     },
     "execution_count": 472,
     "metadata": {},
     "output_type": "execute_result"
    }
   ],
   "source": [
    "e1 = random_matrix(ZZ, 4, 1, distribution='gaussian', x=0.5)\n",
    "e1"
   ]
  },
  {
   "cell_type": "code",
   "execution_count": 473,
   "metadata": {},
   "outputs": [
    {
     "data": {
      "text/plain": [
       "\\left(\\begin{array}{r}\n",
       "1 \\\\\n",
       "0 \\\\\n",
       "0 \\\\\n",
       "0\n",
       "\\end{array}\\right)"
      ]
     },
     "execution_count": 473,
     "metadata": {},
     "output_type": "execute_result"
    }
   ],
   "source": [
    "latex(e1)"
   ]
  },
  {
   "cell_type": "code",
   "execution_count": 474,
   "metadata": {
    "jupyter": {
     "outputs_hidden": false
    }
   },
   "outputs": [
    {
     "data": {
      "text/plain": [
       "[ 0]\n",
       "[ 0]\n",
       "[ 0]\n",
       "[-1]"
      ]
     },
     "execution_count": 474,
     "metadata": {},
     "output_type": "execute_result"
    }
   ],
   "source": [
    "e2 = random_matrix(ZZ, 4, 1, distribution='gaussian', x=0.5)\n",
    "e2"
   ]
  },
  {
   "cell_type": "code",
   "execution_count": 475,
   "metadata": {
    "jupyter": {
     "outputs_hidden": false
    }
   },
   "outputs": [
    {
     "data": {
      "text/plain": [
       "[13]\n",
       "[ 4]\n",
       "[ 5]\n",
       "[22]"
      ]
     },
     "execution_count": 475,
     "metadata": {},
     "output_type": "execute_result"
    }
   ],
   "source": [
    "u = (A.transpose()*r+e1)  % q\n",
    "u"
   ]
  },
  {
   "cell_type": "code",
   "execution_count": 476,
   "metadata": {},
   "outputs": [
    {
     "data": {
      "text/plain": [
       "\\left(\\begin{array}{r}\n",
       "13 \\\\\n",
       "4 \\\\\n",
       "5 \\\\\n",
       "22\n",
       "\\end{array}\\right)"
      ]
     },
     "execution_count": 476,
     "metadata": {},
     "output_type": "execute_result"
    }
   ],
   "source": [
    "latex(u)"
   ]
  },
  {
   "cell_type": "code",
   "execution_count": 477,
   "metadata": {},
   "outputs": [
    {
     "data": {
      "text/plain": [
       "[7]\n",
       "[7]\n",
       "[0]\n",
       "[0]"
      ]
     },
     "execution_count": 477,
     "metadata": {},
     "output_type": "execute_result"
    }
   ],
   "source": [
    "T.transpose()*r  % q"
   ]
  },
  {
   "cell_type": "code",
   "execution_count": 478,
   "metadata": {},
   "outputs": [
    {
     "data": {
      "text/plain": [
       "[12]\n",
       "[ 0]\n",
       "[ 0]\n",
       "[ 0]"
      ]
     },
     "execution_count": 478,
     "metadata": {},
     "output_type": "execute_result"
    }
   ],
   "source": [
    "round(q/2)*column_matrix([1, 0, 0, 0])"
   ]
  },
  {
   "cell_type": "code",
   "execution_count": 479,
   "metadata": {
    "jupyter": {
     "outputs_hidden": false
    }
   },
   "outputs": [
    {
     "data": {
      "text/plain": [
       "[19]\n",
       "[ 7]\n",
       "[ 0]\n",
       "[22]"
      ]
     },
     "execution_count": 479,
     "metadata": {},
     "output_type": "execute_result"
    }
   ],
   "source": [
    "v = (T.transpose()*r+e2 + round(q/2)*column_matrix([1, 0, 0, 0])) %  q\n",
    "v"
   ]
  },
  {
   "cell_type": "markdown",
   "metadata": {},
   "source": [
    "$\\mathbf{u}$ and $\\mathbf{v}$ is the ciphertext that Alice sends to Bob\n",
    "\n"
   ]
  },
  {
   "cell_type": "code",
   "execution_count": 487,
   "metadata": {},
   "outputs": [
    {
     "data": {
      "text/plain": [
       "[13]\n",
       "[ 4]\n",
       "[ 5]\n",
       "[22]"
      ]
     },
     "execution_count": 487,
     "metadata": {},
     "output_type": "execute_result"
    }
   ],
   "source": [
    "u"
   ]
  },
  {
   "cell_type": "code",
   "execution_count": 488,
   "metadata": {},
   "outputs": [
    {
     "data": {
      "text/plain": [
       "[19]\n",
       "[ 7]\n",
       "[ 0]\n",
       "[22]"
      ]
     },
     "execution_count": 488,
     "metadata": {},
     "output_type": "execute_result"
    }
   ],
   "source": [
    "v"
   ]
  },
  {
   "cell_type": "code",
   "execution_count": 489,
   "metadata": {},
   "outputs": [
    {
     "data": {
      "text/plain": [
       "[ 9]\n",
       "[19]\n",
       "[21]\n",
       "[ 3]"
      ]
     },
     "execution_count": 489,
     "metadata": {},
     "output_type": "execute_result"
    }
   ],
   "source": [
    "(v-S.transpose()*u) %  q"
   ]
  },
  {
   "cell_type": "code",
   "execution_count": 490,
   "metadata": {},
   "outputs": [
    {
     "data": {
      "text/plain": [
       "[  3/4]\n",
       "[19/12]\n",
       "[  7/4]\n",
       "[  1/4]"
      ]
     },
     "execution_count": 490,
     "metadata": {},
     "output_type": "execute_result"
    }
   ],
   "source": [
    "(round(q/2)^(-1)*((v-S.transpose()*u) % q))"
   ]
  },
  {
   "cell_type": "code",
   "execution_count": 491,
   "metadata": {
    "jupyter": {
     "outputs_hidden": false
    }
   },
   "outputs": [
    {
     "data": {
      "text/plain": [
       "[1]\n",
       "[2]\n",
       "[2]\n",
       "[0]"
      ]
     },
     "execution_count": 491,
     "metadata": {},
     "output_type": "execute_result"
    }
   ],
   "source": [
    "pprime = (round(q/2)^(-1)*((v-S.transpose()*u) %  q)).apply_map(round) ###UGH***\n",
    "pprime"
   ]
  },
  {
   "cell_type": "code",
   "execution_count": 492,
   "metadata": {},
   "outputs": [
    {
     "data": {
      "text/plain": [
       "[ 0]\n",
       "[-4]\n",
       "[ 0]\n",
       "[ 1]"
      ]
     },
     "execution_count": 492,
     "metadata": {},
     "output_type": "execute_result"
    }
   ],
   "source": [
    "E.transpose()*r"
   ]
  },
  {
   "cell_type": "code",
   "execution_count": 493,
   "metadata": {},
   "outputs": [
    {
     "data": {
      "text/plain": [
       "[12]\n",
       "[-4]\n",
       "[ 0]\n",
       "[13]"
      ]
     },
     "execution_count": 493,
     "metadata": {},
     "output_type": "execute_result"
    }
   ],
   "source": [
    "E.transpose()*r+round(q/2)*column_matrix([1,0,0,1])"
   ]
  },
  {
   "cell_type": "code",
   "execution_count": 494,
   "metadata": {
    "jupyter": {
     "outputs_hidden": false
    }
   },
   "outputs": [
    {
     "data": {
      "text/plain": [
       "['1', '0', '0', '0']"
      ]
     },
     "execution_count": 494,
     "metadata": {},
     "output_type": "execute_result"
    }
   ],
   "source": [
    "p"
   ]
  },
  {
   "cell_type": "code",
   "execution_count": 495,
   "metadata": {
    "jupyter": {
     "outputs_hidden": false
    }
   },
   "outputs": [
    {
     "name": "stdout",
     "output_type": "stream",
     "text": [
      "['1', '0', '0', '0'] \n",
      " [1 2 2 0]\n"
     ]
    }
   ],
   "source": [
    "print(p, \"\\n\", pprime.transpose())"
   ]
  },
  {
   "cell_type": "code",
   "execution_count": 430,
   "metadata": {},
   "outputs": [
    {
     "data": {
      "text/plain": [
       "[1 0]\n",
       "[0 1]"
      ]
     },
     "execution_count": 430,
     "metadata": {},
     "output_type": "execute_result"
    }
   ],
   "source": [
    "I2 = identity_matrix(2)\n",
    "I2"
   ]
  },
  {
   "cell_type": "code",
   "execution_count": 58,
   "metadata": {},
   "outputs": [
    {
     "data": {
      "text/plain": [
       "[ 18  16]\n",
       "[ 10   4]\n",
       "[-------]\n",
       "[  1   0]\n",
       "[  0   1]\n",
       "[-------]\n",
       "[-15   0]\n",
       "[-------]\n",
       "[ 23   0]\n",
       "[  0  23]"
      ]
     },
     "execution_count": 58,
     "metadata": {},
     "output_type": "execute_result"
    }
   ],
   "source": [
    "M = block_matrix([[A.transpose()], [I2], [-t.transpose()], [q*I2]])\n",
    "M"
   ]
  },
  {
   "cell_type": "code",
   "execution_count": 62,
   "metadata": {},
   "outputs": [
    {
     "data": {
      "text/plain": [
       "\\left(\\begin{array}{rr}\n",
       "18 & 16 \\\\\n",
       "10 & 4 \\\\\n",
       "\\hline\n",
       " 1 & 0 \\\\\n",
       "0 & 1 \\\\\n",
       "\\hline\n",
       " -15 & 0 \\\\\n",
       "\\hline\n",
       " 23 & 0 \\\\\n",
       "0 & 23\n",
       "\\end{array}\\right)"
      ]
     },
     "execution_count": 62,
     "metadata": {},
     "output_type": "execute_result"
    }
   ],
   "source": [
    "latex(M)"
   ]
  },
  {
   "cell_type": "code",
   "execution_count": 63,
   "metadata": {},
   "outputs": [
    {
     "data": {
      "text/plain": [
       "\\left(\\begin{array}{rrrrrrr}\n",
       "1 & 0 & 0 & 0 & 0 & 0 & 0 \\\\\n",
       "0 & 1 & 0 & 0 & 0 & 0 & 0 \\\\\n",
       "0 & 0 & 1 & 0 & 0 & 0 & 0 \\\\\n",
       "0 & 0 & 0 & 1 & 0 & 0 & 0 \\\\\n",
       "0 & 0 & 0 & 0 & 1 & 0 & 0 \\\\\n",
       "0 & 0 & 0 & 0 & 0 & 1 & 0 \\\\\n",
       "0 & 0 & 0 & 0 & 0 & 0 & 1\n",
       "\\end{array}\\right)"
      ]
     },
     "execution_count": 63,
     "metadata": {},
     "output_type": "execute_result"
    }
   ],
   "source": [
    "latex(identity_matrix(7))"
   ]
  },
  {
   "cell_type": "code",
   "execution_count": 59,
   "metadata": {},
   "outputs": [
    {
     "data": {
      "text/plain": [
       "[ 18  16|  1   0   0   0   0   0   0]\n",
       "[ 10   4|  0   1   0   0   0   0   0]\n",
       "[  1   0|  0   0   1   0   0   0   0]\n",
       "[  0   1|  0   0   0   1   0   0   0]\n",
       "[-15   0|  0   0   0   0   1   0   0]\n",
       "[ 23   0|  0   0   0   0   0   1   0]\n",
       "[  0  23|  0   0   0   0   0   0   1]"
      ]
     },
     "execution_count": 59,
     "metadata": {},
     "output_type": "execute_result"
    }
   ],
   "source": [
    "M1 = block_matrix([[M, identity_matrix(7)]])\n",
    "M1"
   ]
  },
  {
   "cell_type": "code",
   "execution_count": 64,
   "metadata": {},
   "outputs": [
    {
     "data": {
      "text/plain": [
       "matrix(ZZ, [[18, 16, 1, 0, 0, 0, 0, 0, 0], [10, 4, 0, 1, 0, 0, 0, 0, 0], [1, 0, 0, 0, 1, 0, 0, 0, 0], [0, 1, 0, 0, 0, 1, 0, 0, 0], [-15, 0, 0, 0, 0, 0, 1, 0, 0], [23, 0, 0, 0, 0, 0, 0, 1, 0], [0, 23, 0, 0, 0, 0, 0, 0, 1]])"
      ]
     },
     "execution_count": 64,
     "metadata": {},
     "output_type": "execute_result"
    }
   ],
   "source": [
    "sage_input(M1)\n"
   ]
  },
  {
   "cell_type": "code",
   "execution_count": 60,
   "metadata": {},
   "outputs": [
    {
     "data": {
      "text/plain": [
       "[ 1  0  0  0  0  0  3  2  0]\n",
       "[ 0  1  0  0  0  1  0  0  0]\n",
       "[ 0  0  1  0  0  7 15  9 -1]\n",
       "[ 0  0  0  1  0 19 16 10 -1]\n",
       "[ 0  0  0  0  1  0 20 13  0]\n",
       "[ 0  0  0  0  0 23  0  0 -1]\n",
       "[ 0  0  0  0  0  0 23 15  0]"
      ]
     },
     "execution_count": 60,
     "metadata": {},
     "output_type": "execute_result"
    }
   ],
   "source": [
    "M1.hermite_form()"
   ]
  },
  {
   "cell_type": "code",
   "execution_count": null,
   "metadata": {},
   "outputs": [],
   "source": []
  }
 ],
 "metadata": {
  "kernelspec": {
   "display_name": "SageMath 9.3",
   "language": "sage",
   "name": "sagemath"
  },
  "language_info": {
   "codemirror_mode": {
    "name": "ipython",
    "version": 3
   },
   "file_extension": ".py",
   "mimetype": "text/x-python",
   "name": "python",
   "nbconvert_exporter": "python",
   "pygments_lexer": "ipython3",
   "version": "3.7.10"
  }
 },
 "nbformat": 4,
 "nbformat_minor": 4
}
