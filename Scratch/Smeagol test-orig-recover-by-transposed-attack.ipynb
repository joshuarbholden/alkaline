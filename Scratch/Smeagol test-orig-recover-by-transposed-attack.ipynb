{
 "cells": [
  {
   "cell_type": "markdown",
   "metadata": {},
   "source": [
    "Global setup\n",
    "\n"
   ]
  },
  {
   "cell_type": "code",
   "execution_count": 49,
   "metadata": {
    "jupyter": {
     "outputs_hidden": false
    }
   },
   "outputs": [],
   "source": [
    "n=1\n",
    "k=4\n",
    "q=23 #AA\n",
    "eta=2"
   ]
  },
  {
   "cell_type": "markdown",
   "metadata": {},
   "source": [
    "Bob generates a key\n"
   ]
  },
  {
   "cell_type": "code",
   "execution_count": 50,
   "metadata": {
    "jupyter": {
     "outputs_hidden": false
    }
   },
   "outputs": [
    {
     "data": {
      "text/plain": [
       "[ 3  0  2 -3]\n",
       "[ 0  3 -2 -1]\n",
       "[-1  0  1 -1]\n",
       "[ 1  1 -2  2]"
      ]
     },
     "execution_count": 50,
     "metadata": {},
     "output_type": "execute_result"
    }
   ],
   "source": [
    "#S = random_matrix(ZZ, 4, 4, distribution='gaussian', x=2)\n",
    "S = matrix(ZZ, [[ 3,  0,  2, -3],\n",
    "                [ 0,  3, -2, -1],\n",
    "                [-1,  0,  1, -1],\n",
    "                [ 1,  1, -2,  2]])\n",
    "S"
   ]
  },
  {
   "cell_type": "markdown",
   "metadata": {},
   "source": [
    "$S$ is the private key\n"
   ]
  },
  {
   "cell_type": "code",
   "execution_count": 51,
   "metadata": {
    "jupyter": {
     "outputs_hidden": false
    }
   },
   "outputs": [
    {
     "data": {
      "text/plain": [
       "[ 8 14 15  9]\n",
       "[ 7 16 21 12]\n",
       "[21  0 16  1]\n",
       "[ 2  9  5 11]"
      ]
     },
     "execution_count": 51,
     "metadata": {},
     "output_type": "execute_result"
    }
   ],
   "source": [
    "#T = matrix(((A*S + E) % q))\n",
    "T = matrix(ZZ, [[ 8 , 14 , 15 , 9],\n",
    "[7 , 16 , 21 , 12],\n",
    "[21 , 0 , 16 , 1],\n",
    "[2 , 9 , 5 , 11]])\n",
    "T"
   ]
  },
  {
   "cell_type": "markdown",
   "metadata": {},
   "source": [
    "$(A,T)$ is the public key\n"
   ]
  },
  {
   "cell_type": "code",
   "execution_count": 52,
   "metadata": {},
   "outputs": [
    {
     "data": {
      "text/plain": [
       "[1 0 0 0]\n",
       "[0 1 0 0]\n",
       "[0 0 1 0]\n",
       "[0 0 0 1]"
      ]
     },
     "execution_count": 52,
     "metadata": {},
     "output_type": "execute_result"
    }
   ],
   "source": [
    "I4 = identity_matrix(4)\n",
    "I4"
   ]
  },
  {
   "cell_type": "code",
   "execution_count": 53,
   "metadata": {},
   "outputs": [
    {
     "data": {
      "text/plain": [
       "[ 8 14 15  9]"
      ]
     },
     "execution_count": 53,
     "metadata": {},
     "output_type": "execute_result"
    }
   ],
   "source": [
    "t = matrix(T[0])\n",
    "t"
   ]
  },
  {
   "cell_type": "code",
   "execution_count": 54,
   "metadata": {},
   "outputs": [
    {
     "data": {
      "text/plain": [
       "[  3   0   2  -3]\n",
       "[  0   3  -2  -1]\n",
       "[ -1   0   1  -1]\n",
       "[  1   1  -2   2]\n",
       "[---------------]\n",
       "[  1   0   0   0]\n",
       "[  0   1   0   0]\n",
       "[  0   0   1   0]\n",
       "[  0   0   0   1]\n",
       "[---------------]\n",
       "[ -8 -14 -15  -9]\n",
       "[---------------]\n",
       "[ 23   0   0   0]\n",
       "[  0  23   0   0]\n",
       "[  0   0  23   0]\n",
       "[  0   0   0  23]"
      ]
     },
     "execution_count": 54,
     "metadata": {},
     "output_type": "execute_result"
    }
   ],
   "source": [
    "M = block_matrix([[S], [I4], [-t], [q*I4]])\n",
    "M"
   ]
  },
  {
   "cell_type": "code",
   "execution_count": 55,
   "metadata": {},
   "outputs": [
    {
     "data": {
      "text/plain": [
       "[  3   0   2  -3|  1   0   0   0   0   0   0   0   0   0   0   0   0]\n",
       "[  0   3  -2  -1|  0   1   0   0   0   0   0   0   0   0   0   0   0]\n",
       "[ -1   0   1  -1|  0   0   1   0   0   0   0   0   0   0   0   0   0]\n",
       "[  1   1  -2   2|  0   0   0   1   0   0   0   0   0   0   0   0   0]\n",
       "[  1   0   0   0|  0   0   0   0   1   0   0   0   0   0   0   0   0]\n",
       "[  0   1   0   0|  0   0   0   0   0   1   0   0   0   0   0   0   0]\n",
       "[  0   0   1   0|  0   0   0   0   0   0   1   0   0   0   0   0   0]\n",
       "[  0   0   0   1|  0   0   0   0   0   0   0   1   0   0   0   0   0]\n",
       "[ -8 -14 -15  -9|  0   0   0   0   0   0   0   0   1   0   0   0   0]\n",
       "[ 23   0   0   0|  0   0   0   0   0   0   0   0   0   1   0   0   0]\n",
       "[  0  23   0   0|  0   0   0   0   0   0   0   0   0   0   1   0   0]\n",
       "[  0   0  23   0|  0   0   0   0   0   0   0   0   0   0   0   1   0]\n",
       "[  0   0   0  23|  0   0   0   0   0   0   0   0   0   0   0   0   1]"
      ]
     },
     "execution_count": 55,
     "metadata": {},
     "output_type": "execute_result"
    }
   ],
   "source": [
    "M1 = block_matrix([[M, identity_matrix(13)]])\n",
    "M1"
   ]
  },
  {
   "cell_type": "code",
   "execution_count": 56,
   "metadata": {},
   "outputs": [
    {
     "data": {
      "text/plain": [
       "[ 1  0  0  0  0  0  0  0  0  4  1 19 20  7 12 13  7]\n",
       "[ 0  1  0  0  0  0  0  0  0  1  0  0  0  0  0  0  0]\n",
       "[ 0  0  1  0  0  0  0  0  0  0  1  0  0  0  0  0  0]\n",
       "[ 0  0  0  1  0  0  0  0  0  0  0  1  0  0  0  0  0]\n",
       "[ 0  0  0  0  1  0  0  0  0 11 18 15  9  3  5  5  3]\n",
       "[ 0  0  0  0  0  1  0  0  0 20  2  1  0  0 -1  0  0]\n",
       "[ 0  0  0  0  0  0  1  0  0  4  0 20 20  7 12 13  7]\n",
       "[ 0  0  0  0  0  0  0  1  0 18  1  2  3  1  1  2  1]\n",
       "[ 0  0  0  0  0  0  0  0  1 19 22  4  3  1  1  1  1]\n",
       "[ 0  0  0  0  0  0  0  0  0 23  0  0  0  0 -1  0  0]\n",
       "[ 0  0  0  0  0  0  0  0  0  0 23  0  0  0  0 -1  0]\n",
       "[ 0  0  0  0  0  0  0  0  0  0  0 23  0  0  0  0 -1]\n",
       "[ 0  0  0  0  0  0  0  0  0  0  0  0 23  8 14 15  9]"
      ]
     },
     "execution_count": 56,
     "metadata": {},
     "output_type": "execute_result"
    }
   ],
   "source": [
    "H1 = M1.hermite_form()\n",
    "H1 # The right side should be a transformation matrix (after some extra unnecessary but not harmful reduction)"
   ]
  },
  {
   "cell_type": "code",
   "execution_count": 58,
   "metadata": {},
   "outputs": [
    {
     "data": {
      "text/plain": [
       "[ 1  0  0  0  0 11 18 15  9  3  5  5  3]\n",
       "[ 0  1  0  0  0 20  2  1  0  0 -1  0  0]\n",
       "[ 0  0  1  0  0  4  0 20 20  7 12 13  7]\n",
       "[ 0  0  0  1  0 18  1  2  3  1  1  2  1]\n",
       "[ 0  0  0  0  1 19 22  4  3  1  1  1  1]\n",
       "[ 0  0  0  0  0 23  0  0  0  0 -1  0  0]\n",
       "[ 0  0  0  0  0  0 23  0  0  0  0 -1  0]\n",
       "[ 0  0  0  0  0  0  0 23  0  0  0  0 -1]\n",
       "[ 0  0  0  0  0  0  0  0 23  8 14 15  9]"
      ]
     },
     "execution_count": 58,
     "metadata": {},
     "output_type": "execute_result"
    }
   ],
   "source": [
    "N1 = H1.submatrix(4, 4)\n",
    "N1 # A basis for the kernel"
   ]
  },
  {
   "cell_type": "code",
   "execution_count": 59,
   "metadata": {},
   "outputs": [
    {
     "data": {
      "text/plain": [
       "[ 0  0 -1  0 -1  0  1 -1  0  0  0  0  0]\n",
       "[ 0  0  1  1  0 -1  1 -1  0  0  0  0  0]\n",
       "[ 0 -1  1  1  0  2 -1 -2  0  0  0  0  0]\n",
       "[ 1  0  1  1 -3 -1 -1  2  0  0  0  0  0]\n",
       "[ 0 -1  0  1  0 -2 -1  1  3  1  2  2  1]\n",
       "[-3  2 -1  2 -2  1  0  2 -1  0 -1  0 -1]\n",
       "[ 0  1  4 -1 -2  3  3  2  2  1  1  1  1]\n",
       "[-4  1  4 -3 -4  0  0 -1  0  1  0  0  0]\n",
       "[ 2  5  0  0  2 -1 -2 -3  1  0  0  1  1]"
      ]
     },
     "execution_count": 59,
     "metadata": {},
     "output_type": "execute_result"
    }
   ],
   "source": [
    "L = N1.LLL()\n",
    "L"
   ]
  },
  {
   "cell_type": "code",
   "execution_count": 60,
   "metadata": {},
   "outputs": [
    {
     "data": {
      "text/plain": [
       "(3, -2, 1, -2, 2, -1, 0, -2, 1, 0, 1, 0, 1)"
      ]
     },
     "execution_count": 60,
     "metadata": {},
     "output_type": "execute_result"
    }
   ],
   "source": [
    "-L[5]"
   ]
  },
  {
   "cell_type": "code",
   "execution_count": 61,
   "metadata": {},
   "outputs": [
    {
     "data": {
      "text/plain": [
       "[ 3 -2  1 -2]"
      ]
     },
     "execution_count": 61,
     "metadata": {},
     "output_type": "execute_result"
    }
   ],
   "source": [
    "a0 = matrix([3, -2, 1, -2]); a0"
   ]
  },
  {
   "cell_type": "code",
   "execution_count": 62,
   "metadata": {},
   "outputs": [
    {
     "data": {
      "text/plain": [
       "[ 2 -1  0 -2]"
      ]
     },
     "execution_count": 62,
     "metadata": {},
     "output_type": "execute_result"
    }
   ],
   "source": [
    "e0 = matrix([2, -1, 0, -2]); e0"
   ]
  },
  {
   "cell_type": "code",
   "execution_count": 65,
   "metadata": {},
   "outputs": [
    {
     "data": {
      "text/plain": [
       "True"
      ]
     },
     "execution_count": 65,
     "metadata": {},
     "output_type": "execute_result"
    }
   ],
   "source": [
    "(a0*S+e0)%q == matrix(T[0])"
   ]
  },
  {
   "cell_type": "code",
   "execution_count": 15,
   "metadata": {},
   "outputs": [
    {
     "data": {
      "text/plain": [
       "[ 0  0 -1  0 -1  0  1 -1  0  0  0  0  0]\n",
       "[ 0  0 -1 -1  0  1 -1  1  0  0  0  0  0]\n",
       "[ 0 -1  1  1  0  2 -1 -2  0  0  0  0  0]\n",
       "[-1  0 -1 -1  3  1  1 -2  0  0  0  0  0]\n",
       "[ 0 -3 -2  3  2 -1  0  1  1  0  1  1  0]\n",
       "[ 2 -2 -2  0  1 -3 -2  1 -2 -1 -1 -2 -1]\n",
       "[ 4  2 -1  1  2  0  1 -1 -1 -1 -1 -1  0]\n",
       "[-3  2 -2  2 -2 -1 -5 -2 -1  0 -1  0 -1]\n",
       "[ 3  0  1 -4  1 -1  0 -3  4  1  3  3  3]"
      ]
     },
     "execution_count": 15,
     "metadata": {},
     "output_type": "execute_result"
    }
   ],
   "source": [
    "t1 = matrix(T[1])\n",
    "M = block_matrix([[S], [I4], [-t1], [q*I4]])\n",
    "M1 = block_matrix([[M, identity_matrix(13)]])\n",
    "H1 = M1.hermite_form()\n",
    "N1 = H1.submatrix(4, 4)\n",
    "L = N1.LLL()\n",
    "L"
   ]
  },
  {
   "cell_type": "code",
   "execution_count": 20,
   "metadata": {},
   "outputs": [
    {
     "data": {
      "text/plain": [
       "[ 0 -3 -2  3]"
      ]
     },
     "execution_count": 20,
     "metadata": {},
     "output_type": "execute_result"
    }
   ],
   "source": [
    "a1 = matrix([0, -3, -2,  3]); a1"
   ]
  },
  {
   "cell_type": "code",
   "execution_count": 21,
   "metadata": {},
   "outputs": [
    {
     "data": {
      "text/plain": [
       "[ 2 -1  0  1]"
      ]
     },
     "execution_count": 21,
     "metadata": {},
     "output_type": "execute_result"
    }
   ],
   "source": [
    "e1 = matrix([2, -1,  0,  1]); e1"
   ]
  },
  {
   "cell_type": "code",
   "execution_count": 24,
   "metadata": {},
   "outputs": [
    {
     "data": {
      "text/plain": [
       "[ 7 16 21 12]"
      ]
     },
     "execution_count": 24,
     "metadata": {},
     "output_type": "execute_result"
    }
   ],
   "source": [
    "(a1*S+e1)%q"
   ]
  },
  {
   "cell_type": "code",
   "execution_count": 23,
   "metadata": {},
   "outputs": [
    {
     "data": {
      "text/plain": [
       "[ 8 14 15  9]\n",
       "[ 7 16 21 12]\n",
       "[21  0 16  1]\n",
       "[ 2  9  5 11]"
      ]
     },
     "execution_count": 23,
     "metadata": {},
     "output_type": "execute_result"
    }
   ],
   "source": [
    "T"
   ]
  },
  {
   "cell_type": "code",
   "execution_count": 26,
   "metadata": {},
   "outputs": [
    {
     "data": {
      "text/plain": [
       "[ 0  0 -1  0 -1  0  1 -1  0  0  0  0  0]\n",
       "[ 0  0 -1 -1  0  1 -1  1  0  0  0  0  0]\n",
       "[ 0  1 -1 -1  0 -2  1  2  0  0  0  0  0]\n",
       "[ 1  0  1  1 -3 -1 -1  2  0  0  0  0  0]\n",
       "[-1  1 -1  0  0 -3 -2 -2  1  1  0  1  0]\n",
       "[-1  0  2  0 -1  0  2  2  3  3  0  2  0]\n",
       "[-2 -1 -3  5  0 -2 -1  2 -1 -1  0  0 -1]\n",
       "[ 4 -1 -4  3  4  0  0  1  0 -1  0  0  0]\n",
       "[ 0  6  0  2  0  3  0  1 -1 -1 -1  0  0]"
      ]
     },
     "execution_count": 26,
     "metadata": {},
     "output_type": "execute_result"
    }
   ],
   "source": [
    "t2 = matrix(T[2])\n",
    "M = block_matrix([[S], [I4], [-t2], [q*I4]])\n",
    "M1 = block_matrix([[M, identity_matrix(13)]])\n",
    "H1 = M1.hermite_form()\n",
    "N1 = H1.submatrix(4, 4)\n",
    "L = N1.LLL()\n",
    "L"
   ]
  },
  {
   "cell_type": "code",
   "execution_count": 27,
   "metadata": {},
   "outputs": [
    {
     "data": {
      "text/plain": [
       "(2, 1, 3, -5, 0, 2, 1, -2, 1, 1, 0, 0, 1)"
      ]
     },
     "execution_count": 27,
     "metadata": {},
     "output_type": "execute_result"
    }
   ],
   "source": [
    "-L[6]"
   ]
  },
  {
   "cell_type": "code",
   "execution_count": 28,
   "metadata": {},
   "outputs": [
    {
     "data": {
      "text/plain": [
       "[ 2  1  3 -5]"
      ]
     },
     "execution_count": 28,
     "metadata": {},
     "output_type": "execute_result"
    }
   ],
   "source": [
    "a2 = matrix([2, 1, 3, -5]); a2"
   ]
  },
  {
   "cell_type": "code",
   "execution_count": 29,
   "metadata": {},
   "outputs": [
    {
     "data": {
      "text/plain": [
       "[ 0  2  1 -2]"
      ]
     },
     "execution_count": 29,
     "metadata": {},
     "output_type": "execute_result"
    }
   ],
   "source": [
    "e2 = matrix([0, 2, 1, -2]); e2"
   ]
  },
  {
   "cell_type": "code",
   "execution_count": 33,
   "metadata": {},
   "outputs": [
    {
     "data": {
      "text/plain": [
       "True"
      ]
     },
     "execution_count": 33,
     "metadata": {},
     "output_type": "execute_result"
    }
   ],
   "source": [
    "(a2*S+e2)%q == matrix(T[2])"
   ]
  },
  {
   "cell_type": "code",
   "execution_count": 34,
   "metadata": {},
   "outputs": [
    {
     "data": {
      "text/plain": [
       "[ 0  0 -1  0 -1  0  1 -1  0  0  0  0  0]\n",
       "[ 0  0 -1 -1  0  1 -1  1  0  0  0  0  0]\n",
       "[ 0 -1  1  1  0  2 -1 -2  0  0  0  0  0]\n",
       "[ 1  0  1  1 -3 -1 -1  2  0  0  0  0  0]\n",
       "[-1  2 -1  0 -2 -1 -3 -1 -2  0 -1  0 -1]\n",
       "[-2 -3 -2  1  1 -1 -3 -1 -1  0  0  0 -1]\n",
       "[ 1 -2  2 -4  1  1  2  0 -1  0  0 -1  0]\n",
       "[-4  1  2  0 -3  1  0  1  3  1  1  1  1]\n",
       "[-3 -1  0  5  0  3  4  4 -2  0 -1  0 -2]"
      ]
     },
     "execution_count": 34,
     "metadata": {},
     "output_type": "execute_result"
    }
   ],
   "source": [
    "t3 = matrix(T[3])\n",
    "M = block_matrix([[S], [I4], [-t3], [q*I4]])\n",
    "M1 = block_matrix([[M, identity_matrix(13)]])\n",
    "H1 = M1.hermite_form()\n",
    "N1 = H1.submatrix(4, 4)\n",
    "L = N1.LLL()\n",
    "L"
   ]
  },
  {
   "cell_type": "code",
   "execution_count": 35,
   "metadata": {},
   "outputs": [
    {
     "data": {
      "text/plain": [
       "(-1, 2, -2, 4, -1, -1, -2, 0, 1, 0, 0, 1, 0)"
      ]
     },
     "execution_count": 35,
     "metadata": {},
     "output_type": "execute_result"
    }
   ],
   "source": [
    "-L[6]"
   ]
  },
  {
   "cell_type": "code",
   "execution_count": 36,
   "metadata": {},
   "outputs": [
    {
     "data": {
      "text/plain": [
       "[-1  2 -2  4]"
      ]
     },
     "execution_count": 36,
     "metadata": {},
     "output_type": "execute_result"
    }
   ],
   "source": [
    "a3 = matrix([-1, 2, -2, 4]); a3"
   ]
  },
  {
   "cell_type": "code",
   "execution_count": 37,
   "metadata": {},
   "outputs": [
    {
     "data": {
      "text/plain": [
       "[-1 -1 -2  0]"
      ]
     },
     "execution_count": 37,
     "metadata": {},
     "output_type": "execute_result"
    }
   ],
   "source": [
    "e3 = matrix([-1, -1, -2, 0]); e3"
   ]
  },
  {
   "cell_type": "code",
   "execution_count": 38,
   "metadata": {},
   "outputs": [
    {
     "data": {
      "text/plain": [
       "True"
      ]
     },
     "execution_count": 38,
     "metadata": {},
     "output_type": "execute_result"
    }
   ],
   "source": [
    "(a3*S+e3)%q == matrix(T[3])"
   ]
  },
  {
   "cell_type": "code",
   "execution_count": 75,
   "metadata": {},
   "outputs": [
    {
     "data": {
      "text/plain": [
       "[ 3 21  1 21]\n",
       "[ 0 20 21  3]\n",
       "[ 2  1  3 18]\n",
       "[22  2 21  4]"
      ]
     },
     "execution_count": 75,
     "metadata": {},
     "output_type": "execute_result"
    }
   ],
   "source": [
    "A = block_matrix(4, 1, [a0, a1, a2, a3])\n",
    "A % q"
   ]
  },
  {
   "cell_type": "code",
   "execution_count": 67,
   "metadata": {},
   "outputs": [
    {
     "data": {
      "text/plain": [
       "[ 2 -1  0 -2]\n",
       "[-----------]\n",
       "[ 2 -1  0  1]\n",
       "[-----------]\n",
       "[ 0  2  1 -2]\n",
       "[-----------]\n",
       "[-1 -1 -2  0]"
      ]
     },
     "execution_count": 67,
     "metadata": {},
     "output_type": "execute_result"
    }
   ],
   "source": [
    "E = block_matrix(4, 1, [e0, e1, e2, e3])\n",
    "E"
   ]
  },
  {
   "cell_type": "code",
   "execution_count": 73,
   "metadata": {},
   "outputs": [
    {
     "data": {
      "text/plain": [
       "[ 8 14 15  9]\n",
       "[ 7 16 21 12]\n",
       "[21  0 16  1]\n",
       "[ 2  9  5 11]"
      ]
     },
     "execution_count": 73,
     "metadata": {},
     "output_type": "execute_result"
    }
   ],
   "source": [
    "(A*S + E) %q "
   ]
  },
  {
   "cell_type": "code",
   "execution_count": 74,
   "metadata": {},
   "outputs": [
    {
     "data": {
      "text/plain": [
       "True"
      ]
     },
     "execution_count": 74,
     "metadata": {},
     "output_type": "execute_result"
    }
   ],
   "source": [
    "(A*S + E) %q == T"
   ]
  },
  {
   "cell_type": "code",
   "execution_count": null,
   "metadata": {},
   "outputs": [],
   "source": []
  }
 ],
 "metadata": {
  "kernelspec": {
   "display_name": "SageMath 9.3",
   "language": "sage",
   "name": "sagemath"
  },
  "language_info": {
   "codemirror_mode": {
    "name": "ipython",
    "version": 3
   },
   "file_extension": ".py",
   "mimetype": "text/x-python",
   "name": "python",
   "nbconvert_exporter": "python",
   "pygments_lexer": "ipython3",
   "version": "3.7.10"
  }
 },
 "nbformat": 4,
 "nbformat_minor": 4
}
