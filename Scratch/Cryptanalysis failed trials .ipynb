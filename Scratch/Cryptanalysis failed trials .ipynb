{
 "cells": [
  {
   "cell_type": "markdown",
   "metadata": {},
   "source": [
    "Global setup\n"
   ]
  },
  {
   "cell_type": "code",
   "execution_count": 352,
   "metadata": {},
   "outputs": [],
   "source": [
    "n=4\n",
    "k=2\n",
    "q=41\n",
    "eta=2\n",
    "R.<x> = ZZ[]"
   ]
  },
  {
   "cell_type": "markdown",
   "metadata": {},
   "source": [
    "Bob's setup"
   ]
  },
  {
   "cell_type": "code",
   "execution_count": 353,
   "metadata": {},
   "outputs": [
    {
     "data": {
      "text/plain": [
       "[24*x^3 + 24*x^2 + 25*x + 35     32*x^3 + 8*x^2 + x + 36]\n",
       "[ 29*x^3 + 26*x^2 + 32*x + 2  17*x^3 + 19*x^2 + 40*x + 2]"
      ]
     },
     "execution_count": 353,
     "metadata": {},
     "output_type": "execute_result"
    }
   ],
   "source": [
    "Ax = matrix([[randrange(0,q)*x^3+randrange(0,q)*x^2+randrange(0,q)*x+randrange(0,q), randrange(0,q)*x^3+randrange(0,q)*x^2+randrange(0,q)*x+randrange(0,q)], \n",
    "            [randrange(0,q)*x^3+randrange(0,q)*x^2+randrange(0,q)*x+randrange(0,q), randrange(0,q)*x^3+randrange(0,q)*x^2+randrange(0,q)*x+randrange(0,q)]])\n",
    "Ax  #public"
   ]
  },
  {
   "cell_type": "code",
   "execution_count": 354,
   "metadata": {},
   "outputs": [],
   "source": [
    "def binomial_centered():\n",
    "    a1=randrange(0,2)\n",
    "    a2=randrange(0,2)\n",
    "    b1=randrange(0,2)\n",
    "    b2=randrange(0,2)\n",
    "#    return a1+a2-b1-b2\n",
    "    return a1-b1\n",
    "    return 0"
   ]
  },
  {
   "cell_type": "code",
   "execution_count": 355,
   "metadata": {},
   "outputs": [
    {
     "data": {
      "text/plain": [
       "[x^2 + 1]\n",
       "[   -x^2]"
      ]
     },
     "execution_count": 355,
     "metadata": {},
     "output_type": "execute_result"
    }
   ],
   "source": [
    "sx = matrix([[binomial_centered()*x^3+binomial_centered()*x^2+binomial_centered()*x+binomial_centered()], \n",
    "            [binomial_centered()*x^3+binomial_centered()*x^2+binomial_centered()*x+binomial_centered()]])\n",
    "sx  #private"
   ]
  },
  {
   "cell_type": "code",
   "execution_count": 356,
   "metadata": {},
   "outputs": [
    {
     "data": {
      "text/plain": [
       "[x^3 + x^2 - x + 1]\n",
       "[              x^3]"
      ]
     },
     "execution_count": 356,
     "metadata": {},
     "output_type": "execute_result"
    }
   ],
   "source": [
    "ex = matrix([[binomial_centered()*x^3+binomial_centered()*x^2+binomial_centered()*x+binomial_centered()], \n",
    "            [binomial_centered()*x^3+binomial_centered()*x^2+binomial_centered()*x+binomial_centered()]])\n",
    "ex #private"
   ]
  },
  {
   "cell_type": "code",
   "execution_count": 357,
   "metadata": {},
   "outputs": [
    {
     "data": {
      "text/plain": [
       "[8*x^3 + 24*x^2 + 32*x + 20]\n",
       "[22*x^3 + 26*x^2 + 20*x - 5]"
      ]
     },
     "execution_count": 357,
     "metadata": {},
     "output_type": "execute_result"
    }
   ],
   "source": [
    "tx = matrix(((Ax*sx + ex) % (x^n+1) % q))\n",
    "tx  #public"
   ]
  },
  {
   "cell_type": "markdown",
   "metadata": {},
   "source": [
    "**Matrices for lattice attack**\n"
   ]
  },
  {
   "cell_type": "code",
   "execution_count": 358,
   "metadata": {},
   "outputs": [],
   "source": [
    "def negacirculant(v):\n",
    "    Nshift = matrix([[0, 0, 0, -1],             #Negacyclic shift matrix\n",
    "                     [1, 0, 0, 0],\n",
    "                     [0, 1, 0, 0],\n",
    "                     [0, 0, 1, 0]])\n",
    "    return sum([v[i]*Nshift^i for i in range(0, len(v))])"
   ]
  },
  {
   "cell_type": "code",
   "execution_count": 359,
   "metadata": {},
   "outputs": [
    {
     "data": {
      "text/plain": [
       "[24*x^3 + 24*x^2 + 25*x + 35     32*x^3 + 8*x^2 + x + 36]\n",
       "[ 29*x^3 + 26*x^2 + 32*x + 2  17*x^3 + 19*x^2 + 40*x + 2]"
      ]
     },
     "execution_count": 359,
     "metadata": {},
     "output_type": "execute_result"
    }
   ],
   "source": [
    "Ax"
   ]
  },
  {
   "cell_type": "code",
   "execution_count": 360,
   "metadata": {},
   "outputs": [
    {
     "data": {
      "text/plain": [
       "[ 35 -24 -24 -25| 36 -32  -8  -1]\n",
       "[ 25  35 -24 -24|  1  36 -32  -8]\n",
       "[ 24  25  35 -24|  8   1  36 -32]\n",
       "[ 24  24  25  35| 32   8   1  36]\n",
       "[---------------+---------------]\n",
       "[  2 -29 -26 -32|  2 -17 -19 -40]\n",
       "[ 32   2 -29 -26| 40   2 -17 -19]\n",
       "[ 26  32   2 -29| 19  40   2 -17]\n",
       "[ 29  26  32   2| 17  19  40   2]"
      ]
     },
     "execution_count": 360,
     "metadata": {},
     "output_type": "execute_result"
    }
   ],
   "source": [
    "A = block_matrix([[negacirculant(Ax[0,0].padded_list(4)), negacirculant(Ax[0,1].padded_list(4))], \n",
    "                  [negacirculant(Ax[1,0].padded_list(4)), negacirculant(Ax[1,1].padded_list(4))]])\n",
    "A"
   ]
  },
  {
   "cell_type": "code",
   "execution_count": 361,
   "metadata": {},
   "outputs": [
    {
     "data": {
      "text/plain": [
       "[8*x^3 + 24*x^2 + 32*x + 20]\n",
       "[22*x^3 + 26*x^2 + 20*x - 5]"
      ]
     },
     "execution_count": 361,
     "metadata": {},
     "output_type": "execute_result"
    }
   ],
   "source": [
    "tx"
   ]
  },
  {
   "cell_type": "code",
   "execution_count": 362,
   "metadata": {},
   "outputs": [
    {
     "data": {
      "text/plain": [
       "[20]\n",
       "[32]\n",
       "[24]\n",
       "[ 8]\n",
       "[--]\n",
       "[-5]\n",
       "[20]\n",
       "[26]\n",
       "[22]"
      ]
     },
     "execution_count": 362,
     "metadata": {},
     "output_type": "execute_result"
    }
   ],
   "source": [
    "t = block_matrix([[column_matrix(1, 4, tx[0,0].padded_list(4))],\n",
    "                [column_matrix(1, 4, tx[1,0].padded_list(4))]])\n",
    "t"
   ]
  },
  {
   "cell_type": "code",
   "execution_count": 363,
   "metadata": {},
   "outputs": [
    {
     "data": {
      "text/plain": [
       "[1 0 0 0 0 0 0 0]\n",
       "[0 1 0 0 0 0 0 0]\n",
       "[0 0 1 0 0 0 0 0]\n",
       "[0 0 0 1 0 0 0 0]\n",
       "[0 0 0 0 1 0 0 0]\n",
       "[0 0 0 0 0 1 0 0]\n",
       "[0 0 0 0 0 0 1 0]\n",
       "[0 0 0 0 0 0 0 1]"
      ]
     },
     "execution_count": 363,
     "metadata": {},
     "output_type": "execute_result"
    }
   ],
   "source": [
    "I8 = identity_matrix(8)\n",
    "I8"
   ]
  },
  {
   "cell_type": "markdown",
   "metadata": {},
   "source": [
    "**Eve's attack**\n",
    "\n",
    "Eve knows $A$ so she can set up $M$:"
   ]
  },
  {
   "cell_type": "code",
   "execution_count": 364,
   "metadata": {},
   "outputs": [
    {
     "data": {
      "text/plain": [
       "[ 35  25  24  24   2  32  26  29]\n",
       "[-24  35  25  24 -29   2  32  26]\n",
       "[-24 -24  35  25 -26 -29   2  32]\n",
       "[-25 -24 -24  35 -32 -26 -29   2]\n",
       "[ 36   1   8  32   2  40  19  17]\n",
       "[-32  36   1   8 -17   2  40  19]\n",
       "[ -8 -32  36   1 -19 -17   2  40]\n",
       "[ -1  -8 -32  36 -40 -19 -17   2]\n",
       "[-------------------------------]\n",
       "[ 41   0   0   0   0   0   0   0]\n",
       "[  0  41   0   0   0   0   0   0]\n",
       "[  0   0  41   0   0   0   0   0]\n",
       "[  0   0   0  41   0   0   0   0]\n",
       "[  0   0   0   0  41   0   0   0]\n",
       "[  0   0   0   0   0  41   0   0]\n",
       "[  0   0   0   0   0   0  41   0]\n",
       "[  0   0   0   0   0   0   0  41]"
      ]
     },
     "execution_count": 364,
     "metadata": {},
     "output_type": "execute_result"
    }
   ],
   "source": [
    "M = block_matrix([[A.transpose()], [q*I8]])\n",
    "M"
   ]
  },
  {
   "cell_type": "code",
   "execution_count": 365,
   "metadata": {},
   "outputs": [
    {
     "data": {
      "text/plain": [
       "[ 0  0  0  0  0  0  0  0]\n",
       "[ 0  0  0  0  0  0  0  0]\n",
       "[ 0  0  0  0  0  0  0  0]\n",
       "[ 0  0  0  0  0  0  0  0]\n",
       "[ 0  0  0  0  0  0  0  0]\n",
       "[ 0  0  0  0  0  0  0  0]\n",
       "[ 0  0  0  0  0  0  0  0]\n",
       "[ 0  0  0  0  0  0  0  0]\n",
       "[ 0  0 -1  0  0  0  0  0]\n",
       "[-1  0  0  0  0  0  0  0]\n",
       "[ 0  0  0  0  0  0  0  1]\n",
       "[ 0  0  0  0 -1  0  0  0]\n",
       "[ 0  1  0  0  0  0  0  0]\n",
       "[ 0  0  0 -1  0  0  0  0]\n",
       "[ 0  0  0  0  0  1  0  0]\n",
       "[ 0  0  0  0  0  0  1  0]"
      ]
     },
     "execution_count": 365,
     "metadata": {},
     "output_type": "execute_result"
    }
   ],
   "source": [
    "B, Transform = M.LLL(transformation=true)\n",
    "B"
   ]
  },
  {
   "cell_type": "code",
   "execution_count": 366,
   "metadata": {},
   "outputs": [
    {
     "data": {
      "text/plain": [
       "[   119148362543   -151049731431    185002633596   -455487849422    -73828177742    -78972991525    -65570051714    420624928190   -358921368005               0               0               0               0               0               0               0]\n",
       "[  1100981003159  -1395763074620   1709502176763  -4208899381270   -682203426524   -729743670633   -605894867313   3886751320044  -3316584461335               5               0               0               0               0               0               0]\n",
       "[  -232550731993    294815009303   -361083416887    889009555285    144095952384    154137468573    127977952844   -820964995721    700533562327               0               1               0               0               0               0               0]\n",
       "[ 17040576666002 -21603104515339  26459042272532 -65143787567869 -10558892258935 -11294702570049  -9377816609334  60157699052828 -51332867343315              82               0               1               0               0               0               0]\n",
       "[ 10856924378256 -13763810735711  16857634967639 -41504532927437  -6727301371332  -7196102225958  -5974812223564  38327786798947 -32705293358802              41               0               0               1               0               0               0]\n",
       "[-17101940733741  21680898500532 -26554322760636  65378373983072  10596915419331  11335375424448   9411586650392 -60374330284977  51517719863898             -82               0               0               0               1               0               0]\n",
       "[-20051029938085  25419591360216 -31133397603706  76652337558996  12424266440431  13290067807710  11034537461558 -70785387628344  60401527488279             -82               0               0               0               0               1               0]\n",
       "[ -9822787934156  12452789511327 -15251922882526  37551171128076   6086516994820   6510663946379   5405703436234 -34677014280920  29590070796784             -41               0               0               0               0               0               1]\n",
       "[    -5671969073      7190609983     -8806912607     21683159885      3514535424      3759450453      3121413484    -20023536481     17086184447               0               0               0               0               0               0               0]\n",
       "[    72651440575    -92103494775    112806483900   -277736493550    -45017181550    -48154263125    -39981738850    256478614750   -218854492686               0               0               0               0               0               0               0]\n",
       "[   239580193516   -303726573447    371998119086   -915882222636   -148451634020   -158796681619   -131846425274    845780836120   -721709043824               1               0               0               0               0               0               0]\n",
       "[   264803033616   -335702700871    411161828479  -1012305681157   -164080521252   -175514688438   -145727127404    934824068267   -797690081922               1               0               0               0               0               0               0]\n",
       "[   214825561592   -272344014560    333561400344   -821248659760   -133112863712   -142389008904   -118223388744    758390501472   -647138431480               1               0               0               0               0               0               0]\n",
       "[   415623821122   -526904988179    645342494452  -1588872867509   -257533957535   -275480550489   -228727234374   1467260952508  -1252021154715               2               0               0               0               0               0               0]\n",
       "[   417120505701   -528802402452    647666408796  -1594594487392   -258461351691   -276472571328   -229550893912   1472544641097  -1256529752778               2               0               0               0               0               0               0]\n",
       "[   489049510685   -619990033176    759351161066  -1869569208756   -303030888791   -324147995310   -269135060038   1726472868984  -1473207987519               2               0               0               0               0               0               0]"
      ]
     },
     "execution_count": 366,
     "metadata": {},
     "output_type": "execute_result"
    }
   ],
   "source": [
    "Transform"
   ]
  },
  {
   "cell_type": "code",
   "execution_count": 367,
   "metadata": {},
   "outputs": [
    {
     "data": {
      "text/plain": [
       "1"
      ]
     },
     "execution_count": 367,
     "metadata": {},
     "output_type": "execute_result"
    }
   ],
   "source": [
    "Transform.determinant()"
   ]
  },
  {
   "cell_type": "code",
   "execution_count": 368,
   "metadata": {},
   "outputs": [
    {
     "data": {
      "text/plain": [
       "True"
      ]
     },
     "execution_count": 368,
     "metadata": {},
     "output_type": "execute_result"
    }
   ],
   "source": [
    "Transform*M == B"
   ]
  },
  {
   "cell_type": "markdown",
   "metadata": {},
   "source": [
    "Solve $M\\mathbf{x} = \\mathbf{t}$"
   ]
  },
  {
   "cell_type": "code",
   "execution_count": 369,
   "metadata": {},
   "outputs": [
    {
     "data": {
      "text/plain": [
       "[  0   0   0   0   0   0   0   0 -24 -20  22   5  32  -8  20  26]"
      ]
     },
     "execution_count": 369,
     "metadata": {},
     "output_type": "execute_result"
    }
   ],
   "source": [
    "xvector = B.solve_left(t.transpose())\n",
    "xvector"
   ]
  },
  {
   "cell_type": "code",
   "execution_count": 370,
   "metadata": {},
   "outputs": [
    {
     "data": {
      "text/plain": [
       "[  0   0   0   0   0   0   0   0 -24 -20  22   5  32  -8  20  26]"
      ]
     },
     "execution_count": 370,
     "metadata": {},
     "output_type": "execute_result"
    }
   ],
   "source": [
    "xhat = xvector.apply_map(round, R=ZZ)\n",
    "xhat"
   ]
  },
  {
   "cell_type": "code",
   "execution_count": 371,
   "metadata": {},
   "outputs": [
    {
     "data": {
      "text/plain": [
       "[ 6  4  3 30  3 20 34 26 34 12  0  0  0  0  0  0]"
      ]
     },
     "execution_count": 371,
     "metadata": {},
     "output_type": "execute_result"
    }
   ],
   "source": [
    "xhat*Transform % q"
   ]
  },
  {
   "cell_type": "code",
   "execution_count": 372,
   "metadata": {},
   "outputs": [
    {
     "data": {
      "text/plain": [
       "[20 32 24  8 -5 20 26 22]"
      ]
     },
     "execution_count": 372,
     "metadata": {},
     "output_type": "execute_result"
    }
   ],
   "source": [
    "that = xhat*B\n",
    "that"
   ]
  },
  {
   "cell_type": "code",
   "execution_count": 373,
   "metadata": {},
   "outputs": [
    {
     "data": {
      "text/plain": [
       "[0 0 0 0 0 0 0 0]"
      ]
     },
     "execution_count": 373,
     "metadata": {},
     "output_type": "execute_result"
    }
   ],
   "source": [
    "t.transpose()-that"
   ]
  },
  {
   "cell_type": "markdown",
   "metadata": {},
   "source": [
    "Solve $B\\hat{\\mathbf{s}} = \\hat{\\mathbf{t}}$"
   ]
  },
  {
   "cell_type": "code",
   "execution_count": 374,
   "metadata": {},
   "outputs": [
    {
     "data": {
      "text/plain": [
       "[ 43170347092/71784273601  34963773604/71784273601 -16472552802/71784273601 -24386324333/71784273601 -15294437400/71784273601 -13099239250/71784273601  11816598749/71784273601  15188604885/71784273601                        0                        0                        0                        0                        0                        0                        0                        0]"
      ]
     },
     "execution_count": 374,
     "metadata": {},
     "output_type": "execute_result"
    }
   ],
   "source": [
    "shat = M.solve_left(that, check=true)\n",
    "shat"
   ]
  },
  {
   "cell_type": "code",
   "execution_count": 375,
   "metadata": {},
   "outputs": [
    {
     "data": {
      "text/plain": [
       "[ 6  4  3 30  3 20 34 26  0  0  0  0  0  0  0  0]"
      ]
     },
     "execution_count": 375,
     "metadata": {},
     "output_type": "execute_result"
    }
   ],
   "source": [
    "shat % q"
   ]
  },
  {
   "cell_type": "code",
   "execution_count": 376,
   "metadata": {},
   "outputs": [
    {
     "data": {
      "text/plain": [
       "[x^2 + 1]\n",
       "[   -x^2]"
      ]
     },
     "execution_count": 376,
     "metadata": {},
     "output_type": "execute_result"
    }
   ],
   "source": [
    "sx"
   ]
  },
  {
   "cell_type": "code",
   "execution_count": 377,
   "metadata": {},
   "outputs": [
    {
     "data": {
      "text/plain": [
       "[ 1]\n",
       "[ 1]\n",
       "[ 1]\n",
       "[ 0]\n",
       "[-1]\n",
       "[ 1]\n",
       "[ 0]\n",
       "[ 1]"
      ]
     },
     "execution_count": 377,
     "metadata": {},
     "output_type": "execute_result"
    }
   ],
   "source": [
    "s = matrix([[1], [1], [1], [0],[-1], [1], [0], [1]])\n",
    "s"
   ]
  },
  {
   "cell_type": "code",
   "execution_count": 379,
   "metadata": {},
   "outputs": [
    {
     "data": {
      "text/plain": [
       "[ 28613926509/71784273601]\n",
       "[ 36820499997/71784273601]\n",
       "[ 88256826403/71784273601]\n",
       "[ 24386324333/71784273601]\n",
       "[-56489836201/71784273601]\n",
       "[ 84883512851/71784273601]\n",
       "[-11816598749/71784273601]\n",
       "[ 56595668716/71784273601]"
      ]
     },
     "execution_count": 379,
     "metadata": {},
     "output_type": "execute_result"
    }
   ],
   "source": [
    "s-shat.transpose()[0:8]"
   ]
  },
  {
   "cell_type": "markdown",
   "metadata": {},
   "source": [
    "**Alternative:  embedding**  (Knospe, p. 280)"
   ]
  },
  {
   "cell_type": "code",
   "execution_count": 380,
   "metadata": {},
   "outputs": [
    {
     "data": {
      "text/plain": [
       "[ 35 -24 -24 -25  36 -32  -8  -1  41   0   0   0   0   0   0   0]\n",
       "[ 25  35 -24 -24   1  36 -32  -8   0  41   0   0   0   0   0   0]\n",
       "[ 24  25  35 -24   8   1  36 -32   0   0  41   0   0   0   0   0]\n",
       "[ 24  24  25  35  32   8   1  36   0   0   0  41   0   0   0   0]\n",
       "[  2 -29 -26 -32   2 -17 -19 -40   0   0   0   0  41   0   0   0]\n",
       "[ 32   2 -29 -26  40   2 -17 -19   0   0   0   0   0  41   0   0]\n",
       "[ 26  32   2 -29  19  40   2 -17   0   0   0   0   0   0  41   0]\n",
       "[ 29  26  32   2  17  19  40   2   0   0   0   0   0   0   0  41]"
      ]
     },
     "execution_count": 380,
     "metadata": {},
     "output_type": "execute_result"
    }
   ],
   "source": [
    "AZ = A.augment(q*I8)\n",
    "AZ"
   ]
  },
  {
   "cell_type": "code",
   "execution_count": 417,
   "metadata": {},
   "outputs": [
    {
     "data": {
      "text/plain": [
       "[ 0  0  0  0  0  0  0  0  0 -1  0  0  0  0  0  0]\n",
       "[ 0  0  0  0  0  0  0  0  0  0  0  0  1  0  0  0]\n",
       "[ 0  0  0  0  0  0  0  0 -1  0  0  0  0  0  0  0]\n",
       "[ 0  0  0  0  0  0  0  0  0  0  0  0  0 -1  0  0]\n",
       "[ 0  0  0  0  0  0  0  0  0  0  0 -1  0  0  0  0]\n",
       "[ 0  0  0  0  0  0  0  0  0  0  0  0  0  0  1  0]\n",
       "[ 0  0  0  0  0  0  0  0  0  0  0  0  0  0  0  1]\n",
       "[ 0  0  0  0  0  0  0  0  0  0  1  0  0  0  0  0]"
      ]
     },
     "execution_count": 417,
     "metadata": {},
     "output_type": "execute_result"
    }
   ],
   "source": [
    "AZ.transpose().LLL().transpose()"
   ]
  },
  {
   "cell_type": "code",
   "execution_count": 381,
   "metadata": {},
   "outputs": [
    {
     "data": {
      "text/plain": [
       "[           1            0            0            0            0            0            0            0]\n",
       "[           0            1            0            0            0            0            0            0]\n",
       "[           0            0            1            0            0            0            0            0]\n",
       "[           0            0            0            1            0            0            0            0]\n",
       "[           0            0            0            0            1            0            0            0]\n",
       "[           0            0            0            0            0            1            0            0]\n",
       "[           1            4            3            2            3            0            5            0]\n",
       "[ 67740208903 192201946096   9159094559 110193022648 100076256650  17309173683 138029711320 358921368005]"
      ]
     },
     "execution_count": 381,
     "metadata": {},
     "output_type": "execute_result"
    }
   ],
   "source": [
    "H = A.transpose().hermite_form(include_zero_rows=false).transpose()\n",
    "H"
   ]
  },
  {
   "cell_type": "code",
   "execution_count": 413,
   "metadata": {},
   "outputs": [
    {
     "data": {
      "text/plain": [
       "[ 1  0  0  0  0  0  0  0 20]\n",
       "[ 0  1  0  0  0  0  0  0 32]\n",
       "[ 0  0  1  0  0  0  0  0 24]\n",
       "[ 0  0  0  1  0  0  0  0  8]\n",
       "[ 0  0  0  0  1  0  0  0 36]\n",
       "[ 0  0  0  0  0  1  0  0 20]\n",
       "[ 1  4  3  2  3  0  5  0 26]\n",
       "[ 6 33  9 30 22 36 36 18 22]\n",
       "[ 0  0  0  0  0  0  0  0  1]"
      ]
     },
     "execution_count": 413,
     "metadata": {},
     "output_type": "execute_result"
    }
   ],
   "source": [
    "B = ((H.augment(t))).stack(vector([0,0,0,0,0,0,0,0,1])) % q\n",
    "B"
   ]
  },
  {
   "cell_type": "code",
   "execution_count": 414,
   "metadata": {},
   "outputs": [
    {
     "data": {
      "text/plain": [
       "[ 0 -1  0  1 -1  0  0  0  0]\n",
       "[ 0  1  0 -1 -1 -1  1  0  0]\n",
       "[ 0 -1  1 -1  1 -1  0  1  0]\n",
       "[ 0  0  0  0  1 -1 -1  1 -1]\n",
       "[ 0  0  0  0  0  0 -1  1  1]\n",
       "[-1  0  0  0  0  0  0  0  0]\n",
       "[ 0  0  0 -1  0  1 -1  0 -1]\n",
       "[ 0  0  1  0  0  0 -1 -1  0]\n",
       "[ 0  0  1  0  0  0  0  1 -1]"
      ]
     },
     "execution_count": 414,
     "metadata": {},
     "output_type": "execute_result"
    }
   ],
   "source": [
    "B.transpose().LLL().transpose()"
   ]
  },
  {
   "cell_type": "code",
   "execution_count": 409,
   "metadata": {},
   "outputs": [
    {
     "data": {
      "text/plain": [
       "[ 1]\n",
       "[-1]\n",
       "[ 1]\n",
       "[ 1]\n",
       "[--]\n",
       "[ 0]\n",
       "[ 0]\n",
       "[ 0]\n",
       "[ 1]"
      ]
     },
     "execution_count": 409,
     "metadata": {},
     "output_type": "execute_result"
    }
   ],
   "source": [
    "e = block_matrix([[column_matrix(1, 4, ex[0,0].padded_list(4))],\n",
    "                [column_matrix(1, 4, ex[1,0].padded_list(4))]])\n",
    "e"
   ]
  },
  {
   "cell_type": "markdown",
   "metadata": {},
   "source": [
    "Still doesn't work.  Is the error vector too large?  (Is any reasonable error vector too large?)"
   ]
  },
  {
   "cell_type": "code",
   "execution_count": null,
   "metadata": {},
   "outputs": [],
   "source": []
  }
 ],
 "metadata": {
  "kernelspec": {
   "display_name": "SageMath 9.3",
   "language": "sage",
   "name": "sagemath"
  },
  "language_info": {
   "codemirror_mode": {
    "name": "ipython",
    "version": 3
   },
   "file_extension": ".py",
   "mimetype": "text/x-python",
   "name": "python",
   "nbconvert_exporter": "python",
   "pygments_lexer": "ipython3",
   "version": "3.7.10"
  }
 },
 "nbformat": 4,
 "nbformat_minor": 4
}
